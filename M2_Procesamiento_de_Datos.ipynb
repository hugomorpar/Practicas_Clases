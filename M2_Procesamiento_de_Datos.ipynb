{
  "nbformat": 4,
  "nbformat_minor": 0,
  "metadata": {
    "colab": {
      "provenance": [],
      "authorship_tag": "ABX9TyMalnYzDmSNq090dn6g+TJn",
      "include_colab_link": true
    },
    "kernelspec": {
      "name": "python3",
      "display_name": "Python 3"
    },
    "language_info": {
      "name": "python"
    }
  },
  "cells": [
    {
      "cell_type": "markdown",
      "metadata": {
        "id": "view-in-github",
        "colab_type": "text"
      },
      "source": [
        "<a href=\"https://colab.research.google.com/github/hugomorpar/Practicas_Clases/blob/main/M2_Procesamiento_de_Datos.ipynb\" target=\"_parent\"><img src=\"https://colab.research.google.com/assets/colab-badge.svg\" alt=\"Open In Colab\"/></a>"
      ]
    },
    {
      "cell_type": "markdown",
      "source": [
        "# Modulo 2"
      ],
      "metadata": {
        "id": "-G8DONfvJVDQ"
      }
    },
    {
      "cell_type": "markdown",
      "source": [
        "## Introduccion a Numpy"
      ],
      "metadata": {
        "id": "_Ezjek4Bhqog"
      }
    },
    {
      "cell_type": "code",
      "execution_count": 88,
      "metadata": {
        "id": "zGXhNfqAIwOQ"
      },
      "outputs": [],
      "source": [
        "import numpy as np"
      ]
    },
    {
      "cell_type": "code",
      "source": [
        "# crea array\n",
        "\n",
        "xs=np.array([3,1,2])\n",
        "print(xs)"
      ],
      "metadata": {
        "colab": {
          "base_uri": "https://localhost:8080/"
        },
        "id": "TcqZHTg3Jik4",
        "outputId": "4f6c7f04-17cc-4b8c-aca7-34b1d8f3ac26"
      },
      "execution_count": 89,
      "outputs": [
        {
          "output_type": "stream",
          "name": "stdout",
          "text": [
            "[3 1 2]\n"
          ]
        }
      ]
    },
    {
      "cell_type": "code",
      "source": [
        "# array o vector unidimensional (unalista dentro del metodo n.array())\n",
        "\n",
        "my_vector=np.array(['este', 'es', 'un', 'vector'])\n",
        "print(my_vector)"
      ],
      "metadata": {
        "colab": {
          "base_uri": "https://localhost:8080/"
        },
        "id": "_r96u0r6KCKP",
        "outputId": "32df9d42-c378-478d-b6c3-fa3135f188d3"
      },
      "execution_count": 90,
      "outputs": [
        {
          "output_type": "stream",
          "name": "stdout",
          "text": [
            "['este' 'es' 'un' 'vector']\n"
          ]
        }
      ]
    },
    {
      "cell_type": "code",
      "source": [
        "# matriz, array bidimensional (una lista de listas dentro del metodo n.array())\n",
        "\n",
        "my_matrix=np.array([[1,2,3],[4,5,6],[7,8,9]])\n",
        "print(my_matrix)"
      ],
      "metadata": {
        "colab": {
          "base_uri": "https://localhost:8080/"
        },
        "id": "0ECVVCAaLcfh",
        "outputId": "f1a3d9ca-fb3d-496c-e97b-5ffadc0dd270"
      },
      "execution_count": 91,
      "outputs": [
        {
          "output_type": "stream",
          "name": "stdout",
          "text": [
            "[[1 2 3]\n",
            " [4 5 6]\n",
            " [7 8 9]]\n"
          ]
        }
      ]
    },
    {
      "cell_type": "code",
      "source": [
        "# arreglos (array)\n",
        "\n",
        "arreglo_1=np.array([3,1,2])\n",
        "arreglo_2=np.array([3, 'hola', 2])\n",
        "arreglo_3=np.array([3,21,1,2])\n",
        "\n",
        "print(arreglo_1)\n",
        "print(arreglo_2)\n",
        "print(arreglo_3)"
      ],
      "metadata": {
        "colab": {
          "base_uri": "https://localhost:8080/"
        },
        "id": "EspODTORMCEC",
        "outputId": "05d5cc58-9498-427d-f3d2-1d182741024a"
      },
      "execution_count": 92,
      "outputs": [
        {
          "output_type": "stream",
          "name": "stdout",
          "text": [
            "[3 1 2]\n",
            "['3' 'hola' '2']\n",
            "[ 3 21  1  2]\n"
          ]
        }
      ]
    },
    {
      "cell_type": "code",
      "source": [
        "# array de 0 con dimension 5\n",
        "\n",
        "a=np.zeros(5)\n",
        "print(a)"
      ],
      "metadata": {
        "colab": {
          "base_uri": "https://localhost:8080/"
        },
        "id": "N-wSgLlgOSJ9",
        "outputId": "7d945b8a-1c5a-4516-eed6-b8433c2d84d6"
      },
      "execution_count": 93,
      "outputs": [
        {
          "output_type": "stream",
          "name": "stdout",
          "text": [
            "[0. 0. 0. 0. 0.]\n"
          ]
        }
      ]
    },
    {
      "cell_type": "code",
      "source": [
        "# array de 1 con dimension 5\n",
        "\n",
        "b=np.ones(2)\n",
        "print(a)"
      ],
      "metadata": {
        "colab": {
          "base_uri": "https://localhost:8080/"
        },
        "id": "vpmcGExmO6xl",
        "outputId": "a48e60c9-d22e-4e2b-91ff-e96929421d56"
      },
      "execution_count": 94,
      "outputs": [
        {
          "output_type": "stream",
          "name": "stdout",
          "text": [
            "[0. 0. 0. 0. 0.]\n"
          ]
        }
      ]
    },
    {
      "cell_type": "code",
      "source": [
        "# array full (dimension, valor)\n",
        "\n",
        "c=np.full(2, 7)\n",
        "print(c)"
      ],
      "metadata": {
        "colab": {
          "base_uri": "https://localhost:8080/"
        },
        "id": "f5N0luVMPS12",
        "outputId": "2416d798-647e-4828-eab3-308d24b72663"
      },
      "execution_count": 95,
      "outputs": [
        {
          "output_type": "stream",
          "name": "stdout",
          "text": [
            "[7 7]\n"
          ]
        }
      ]
    },
    {
      "cell_type": "code",
      "source": [
        "# array random (dimension, random)\n",
        "\n",
        "d=np.random.random(5)\n",
        "print(d)"
      ],
      "metadata": {
        "colab": {
          "base_uri": "https://localhost:8080/"
        },
        "id": "gnQGg1-zPolF",
        "outputId": "ccf26ae4-67d4-4dbb-fce5-e2a37ac405b3"
      },
      "execution_count": 96,
      "outputs": [
        {
          "output_type": "stream",
          "name": "stdout",
          "text": [
            "[0.48470376 0.92820467 0.36033542 0.06500176 0.10722757]\n"
          ]
        }
      ]
    },
    {
      "cell_type": "code",
      "source": [
        "# atributos del arreglo\n",
        "\n",
        "x=np.random.randint(10, size=5) #array de 1 dimension, valores de 0 a 9, 5 datos\n",
        "print(x)\n",
        "print(\"x ndim:\", x.ndim)\n",
        "print(\"x shape:\", x.shape)\n",
        "print(\"x size:\", x.size)\n",
        "print(\"x dtype\", x.dtype)"
      ],
      "metadata": {
        "colab": {
          "base_uri": "https://localhost:8080/"
        },
        "id": "zmfMc-Y3QDpF",
        "outputId": "76af299e-3f7d-43ad-bcd5-2cd7f14e46f1"
      },
      "execution_count": 97,
      "outputs": [
        {
          "output_type": "stream",
          "name": "stdout",
          "text": [
            "[1 0 3 8 8]\n",
            "x ndim: 1\n",
            "x shape: (5,)\n",
            "x size: 5\n",
            "x dtype int64\n"
          ]
        }
      ]
    },
    {
      "cell_type": "code",
      "source": [
        "# indexacion de arreglos. print(x[ubicacion])\n",
        "\n",
        "print(x)\n",
        "\n",
        "print(x[0])\n",
        "print(x[4])\n",
        "print(x[-1])\n",
        "print(x[-2])"
      ],
      "metadata": {
        "colab": {
          "base_uri": "https://localhost:8080/"
        },
        "id": "hl2Vsw_1Q2uP",
        "outputId": "36e1a37e-f793-454c-8bb2-80c49eafde8d"
      },
      "execution_count": 98,
      "outputs": [
        {
          "output_type": "stream",
          "name": "stdout",
          "text": [
            "[1 0 3 8 8]\n",
            "1\n",
            "8\n",
            "8\n",
            "8\n"
          ]
        }
      ]
    },
    {
      "cell_type": "code",
      "source": [
        "# segmentacion de arreglos\n",
        "# parte desde cero y corta en n-1\n",
        "\n",
        "x1=np.random.randint(10, size=8) #array de 1 dimension, valores de 0 a 9, 8 datos\n",
        "print(x1)\n",
        "\n",
        "print(x1[3:]) #array desde la ubicacion 3\n",
        "\n",
        "print(x1[:3]) #array hasta la ubicacion 3\n",
        "\n",
        "print(x1[2:4]) #array desde la ubicacion 2 hasta la 4"
      ],
      "metadata": {
        "colab": {
          "base_uri": "https://localhost:8080/"
        },
        "id": "fHhVNmqaR-uW",
        "outputId": "5c64e5c0-3359-4bed-934c-c5a7f1f41c72"
      },
      "execution_count": 99,
      "outputs": [
        {
          "output_type": "stream",
          "name": "stdout",
          "text": [
            "[0 8 4 7 3 1 7 7]\n",
            "[7 3 1 7 7]\n",
            "[0 8 4]\n",
            "[4 7]\n"
          ]
        }
      ]
    },
    {
      "cell_type": "code",
      "source": [
        "# segmentacion de arreglos\n",
        "# parte desde cero y corta en n-1\n",
        "\n",
        "y=np.random.randint(10, size=8) #array de 1 dimension, valores de 0 a 9, 8 datos\n",
        "print(y)\n",
        "\n",
        "y1=y[0:2] # nuevo array desde la ubicacion 0 a 2\n",
        "print(y1)\n",
        "\n",
        "y1[0]=12 # cambia valor de ubicacion 0 por 12\n",
        "print(y1)\n",
        "\n",
        "print(y) # tambien afecta al array original"
      ],
      "metadata": {
        "colab": {
          "base_uri": "https://localhost:8080/"
        },
        "id": "FIQWSLUKUXMt",
        "outputId": "a9e0675b-1570-4395-e412-ae1590ac3031"
      },
      "execution_count": 100,
      "outputs": [
        {
          "output_type": "stream",
          "name": "stdout",
          "text": [
            "[4 8 5 6 7 9 2 1]\n",
            "[4 8]\n",
            "[12  8]\n",
            "[12  8  5  6  7  9  2  1]\n"
          ]
        }
      ]
    },
    {
      "cell_type": "code",
      "source": [
        "# segmentacion de arreglos\n",
        "# parte desde cero y corta en n-1\n",
        "\n",
        "y=np.random.randint(10, size=8) #array de 1 dimension, valores de 0 a 9, 8 datos\n",
        "print(y)\n",
        "\n",
        "y1=y[0:2].copy() # COPIA array y en y1 desde la ubicacion 0 a 2\n",
        "print(y1)\n",
        "\n",
        "y1[0]=12 # cambia valor de ubicacion 0 por 12\n",
        "print(y1)\n",
        "\n",
        "print(y) # NO afecta al array original"
      ],
      "metadata": {
        "colab": {
          "base_uri": "https://localhost:8080/"
        },
        "id": "fKvn9gGcbOGA",
        "outputId": "bda73df2-fffe-423a-f645-4d435ec88ee9"
      },
      "execution_count": 101,
      "outputs": [
        {
          "output_type": "stream",
          "name": "stdout",
          "text": [
            "[3 2 6 0 0 9 9 9]\n",
            "[3 2]\n",
            "[12  2]\n",
            "[3 2 6 0 0 9 9 9]\n"
          ]
        }
      ]
    },
    {
      "cell_type": "code",
      "source": [
        "# concatenacion de arreglos\n",
        "\n",
        "x=np.array([1,2,3])\n",
        "y=np.array([3,2,1])\n",
        "\n",
        "np.concatenate([x,y])"
      ],
      "metadata": {
        "colab": {
          "base_uri": "https://localhost:8080/"
        },
        "id": "uI3EprOxcYgz",
        "outputId": "a52ea06f-df3c-4373-dafe-321de12b03bc"
      },
      "execution_count": 104,
      "outputs": [
        {
          "output_type": "execute_result",
          "data": {
            "text/plain": [
              "array([1, 2, 3, 3, 2, 1])"
            ]
          },
          "metadata": {},
          "execution_count": 104
        }
      ]
    },
    {
      "cell_type": "code",
      "source": [
        "# division de arreglos\n",
        "\n",
        "x=np.array([1,2,3,99,99,3,2,1])\n",
        "print(x)\n",
        "x1,x2,x3=np.split(x,[3,5]) # divide array x en x1(0-3),x2(3-5),x3(resto).\n",
        "print(x1, x2, x3)"
      ],
      "metadata": {
        "colab": {
          "base_uri": "https://localhost:8080/"
        },
        "id": "ETykGln1dUpL",
        "outputId": "15af063f-78be-4887-886f-d3a9b2bdb2be"
      },
      "execution_count": 111,
      "outputs": [
        {
          "output_type": "stream",
          "name": "stdout",
          "text": [
            "[ 1  2  3 99 99  3  2  1]\n",
            "[1 2 3] [99 99] [3 2 1]\n"
          ]
        }
      ]
    },
    {
      "cell_type": "code",
      "source": [
        "# agregar elementos al array\n",
        "\n",
        "a=np.array([1,2,3,4,5,6])\n",
        "print(a)\n",
        "\n",
        "b=np.append(a,[7]) # agregar valor 7 al array a\n",
        "print(b)"
      ],
      "metadata": {
        "colab": {
          "base_uri": "https://localhost:8080/"
        },
        "id": "bqjWwVybeA5V",
        "outputId": "4eab1e98-e205-471e-80a7-230bd976d0e7"
      },
      "execution_count": 113,
      "outputs": [
        {
          "output_type": "stream",
          "name": "stdout",
          "text": [
            "[1 2 3 4 5 6]\n",
            "[1 2 3 4 5 6 7]\n"
          ]
        }
      ]
    },
    {
      "cell_type": "markdown",
      "source": [
        "## Aritmetica de arreglos (array)"
      ],
      "metadata": {
        "id": "Wxezpxv3hOH9"
      }
    },
    {
      "cell_type": "code",
      "source": [
        "# operaciones aritmeticas comunes\n",
        "\n",
        "x=np.random.randint(1,8,size=4) # 1 a 8, 5 datos\n",
        "\n",
        "print(\"x =\", x)\n",
        "print(\"x+5=\", x+5) # suma 5 a cada elemento del arreglo\n",
        "print(\"x-5=\", x-5) # resta 5 a cada elemento del arreglo\n",
        "print(\"x*2=\", x*5) # multiplica por 2 cada elemento del arreglo\n",
        "print(\"x/2=\", x/5) # divide por 2 cada elemento del arreglo\n",
        "print(\"x//2=\", x//5) # resto de la division por 2 de cada elemento del arreglo"
      ],
      "metadata": {
        "colab": {
          "base_uri": "https://localhost:8080/"
        },
        "id": "qWvGTGLJgViM",
        "outputId": "10d6f21e-fcd0-4b86-bea6-0f5b17599149"
      },
      "execution_count": 122,
      "outputs": [
        {
          "output_type": "stream",
          "name": "stdout",
          "text": [
            "x = [3 2 7 1]\n",
            "x+5= [ 8  7 12  6]\n",
            "x-5= [-2 -3  2 -4]\n",
            "x*2= [15 10 35  5]\n",
            "x/2= [0.6 0.4 1.4 0.2]\n",
            "x//2= [0 0 1 0]\n"
          ]
        }
      ]
    },
    {
      "cell_type": "code",
      "source": [
        "# valor absoluto\n",
        "\n",
        "y=np.array([-1,2,-3,4,-5,6])\n",
        "\n",
        "print(y)\n",
        "print(np.absolute(y))\n",
        "print(np.abs(y))"
      ],
      "metadata": {
        "colab": {
          "base_uri": "https://localhost:8080/"
        },
        "id": "4kIWWZGM19hL",
        "outputId": "13accc62-7994-4667-df77-0a4144424a36"
      },
      "execution_count": 123,
      "outputs": [
        {
          "output_type": "stream",
          "name": "stdout",
          "text": [
            "[-1  2 -3  4 -5  6]\n",
            "[1 2 3 4 5 6]\n",
            "[1 2 3 4 5 6]\n"
          ]
        }
      ]
    },
    {
      "cell_type": "code",
      "source": [
        "# funciones trigonometricas\n",
        "\n",
        "theta=np.linspace(0, np.pi, 3) # matriz N-dimensional de números espaciados uniformemente. inicia en 0, termina en pi, 3 elementos\n",
        "\n",
        "print(\"theta=\", theta)\n",
        "print(\"sin=\", np.sin(theta))\n",
        "print(\"cos=\", np.cos(theta))\n",
        "print(\"tan=\", np.tan(theta))"
      ],
      "metadata": {
        "colab": {
          "base_uri": "https://localhost:8080/"
        },
        "id": "_fI6EJiK4q1H",
        "outputId": "4cfc0e45-04db-469c-c3bf-faa8212e2aa5"
      },
      "execution_count": 132,
      "outputs": [
        {
          "output_type": "stream",
          "name": "stdout",
          "text": [
            "theta= [0.         1.57079633 3.14159265]\n",
            "sin= [0.0000000e+00 1.0000000e+00 1.2246468e-16]\n",
            "cos= [ 1.000000e+00  6.123234e-17 -1.000000e+00]\n",
            "tan= [ 0.00000000e+00  1.63312394e+16 -1.22464680e-16]\n"
          ]
        }
      ]
    },
    {
      "cell_type": "code",
      "source": [
        "# # funciones trigonometricas inversas\n",
        "\n",
        "x=np.array([-1,0,1])\n",
        "\n",
        "print(\"x=\", x)\n",
        "print(\"arcsin=\", np.arcsin(x))\n",
        "print(\"arccos=\", np.arccos(x))\n",
        "print(\"arctan=\", np.arctan(x))"
      ],
      "metadata": {
        "colab": {
          "base_uri": "https://localhost:8080/"
        },
        "id": "ZYM7rvRQ481H",
        "outputId": "d5c3c70b-e64b-4043-b60a-06ea8fb04859"
      },
      "execution_count": 135,
      "outputs": [
        {
          "output_type": "stream",
          "name": "stdout",
          "text": [
            "x= [-1  0  1]\n",
            "arcsin= [-1.57079633  0.          1.57079633]\n",
            "arccos= [3.14159265 1.57079633 0.        ]\n",
            "arctan= [-0.78539816  0.          0.78539816]\n"
          ]
        }
      ]
    },
    {
      "cell_type": "code",
      "source": [
        "# exponente (base, exponente)\n",
        "\n",
        "x=np.array([1,2,3])\n",
        "\n",
        "print(\"x=\", x)\n",
        "print(\"2^x=\", np.power(2, x))\n",
        "print(\"x^2=\", np.power(x, 2))"
      ],
      "metadata": {
        "colab": {
          "base_uri": "https://localhost:8080/"
        },
        "id": "OMFkxHbi66Lq",
        "outputId": "6d2a3058-49fe-4482-b44c-60e5103ac777"
      },
      "execution_count": 136,
      "outputs": [
        {
          "output_type": "stream",
          "name": "stdout",
          "text": [
            "x= [1 2 3]\n",
            "2^x= [2 4 8]\n",
            "x^2= [1 4 9]\n"
          ]
        }
      ]
    },
    {
      "cell_type": "code",
      "source": [
        "# logaritmos\n",
        "\n",
        "x=np.array([1,2,4,10])\n",
        "\n",
        "print(x)\n",
        "print(\"ln(x)=\", np.log(x)) # base 1\n",
        "print(\"log2(x)=\", np.log2(x)) # base 2\n",
        "print(\"log10(x)=\", np.log10(x)) # base 10"
      ],
      "metadata": {
        "colab": {
          "base_uri": "https://localhost:8080/"
        },
        "id": "lihtccMY7yyr",
        "outputId": "cef4f16e-2ed2-4614-e2d7-a7d8ad5bfbc2"
      },
      "execution_count": 140,
      "outputs": [
        {
          "output_type": "stream",
          "name": "stdout",
          "text": [
            "[ 1  2  4 10]\n",
            "ln(x)= [0.         0.69314718 1.38629436 2.30258509]\n",
            "log2(x)= [0.         1.         2.         3.32192809]\n",
            "log10(x)= [0.         0.30103    0.60205999 1.        ]\n"
          ]
        }
      ]
    },
    {
      "cell_type": "code",
      "source": [
        "# agregaciones\n",
        "\n",
        "x=np.array([1,5,2,6,3])\n",
        "\n",
        "print(x)\n",
        "print(\"minimo=\", np.min(x))\n",
        "print(\"maximo=\", np.max(x))\n",
        "print(\"mediana=\", np.median(x))\n",
        "print(\"media=\", np.mean(x))\n",
        "print(\"suma=\", np.sum(x))"
      ],
      "metadata": {
        "colab": {
          "base_uri": "https://localhost:8080/"
        },
        "id": "UlMqlEuS8NLr",
        "outputId": "8fb2e764-455d-4359-8493-a06ee09790f5"
      },
      "execution_count": 144,
      "outputs": [
        {
          "output_type": "stream",
          "name": "stdout",
          "text": [
            "[1 5 2 6 3]\n",
            "minimo= 1\n",
            "maximo= 6\n",
            "mediana= 3.0\n",
            "media= 3.4\n",
            "suma= 17\n"
          ]
        }
      ]
    },
    {
      "cell_type": "markdown",
      "source": [
        "## Introduccion a Pandas\n",
        "\n",
        "### series, dataframes e indices"
      ],
      "metadata": {
        "id": "OtmN4nLJ-Kq-"
      }
    },
    {
      "cell_type": "code",
      "source": [
        "import pandas as pd"
      ],
      "metadata": {
        "id": "AsINhYLA9Hv8"
      },
      "execution_count": 146,
      "outputs": []
    },
    {
      "cell_type": "markdown",
      "source": [
        "### Series"
      ],
      "metadata": {
        "id": "ElkcFGmZPWY4"
      }
    },
    {
      "cell_type": "code",
      "source": [
        "data = pd.Series([0.25, 0.5, 0.75, 1.0]) # matriz unidimensional de datos, indexada\n",
        "print(data)"
      ],
      "metadata": {
        "colab": {
          "base_uri": "https://localhost:8080/"
        },
        "id": "NIooex5l-s5u",
        "outputId": "ddc63583-a3ce-49ba-e1e7-84670379db5e"
      },
      "execution_count": 157,
      "outputs": [
        {
          "output_type": "stream",
          "name": "stdout",
          "text": [
            "0    0.25\n",
            "1    0.50\n",
            "2    0.75\n",
            "3    1.00\n",
            "dtype: float64\n"
          ]
        }
      ]
    },
    {
      "cell_type": "code",
      "source": [
        "data.values # los valores son simplemente un array"
      ],
      "metadata": {
        "colab": {
          "base_uri": "https://localhost:8080/"
        },
        "id": "_UW2MdpXLhU8",
        "outputId": "ccbfcd67-1150-4e41-878d-21e91dc37889"
      },
      "execution_count": 158,
      "outputs": [
        {
          "output_type": "execute_result",
          "data": {
            "text/plain": [
              "array([0.25, 0.5 , 0.75, 1.  ])"
            ]
          },
          "metadata": {},
          "execution_count": 158
        }
      ]
    },
    {
      "cell_type": "code",
      "source": [
        "# acceso a indice especifico\n",
        "\n",
        "print(data[2])\n",
        "print(data[1:3])"
      ],
      "metadata": {
        "colab": {
          "base_uri": "https://localhost:8080/"
        },
        "id": "bgOSS0aKL6Ms",
        "outputId": "4a614490-5797-413d-8d5f-75d95e01abea"
      },
      "execution_count": 159,
      "outputs": [
        {
          "output_type": "stream",
          "name": "stdout",
          "text": [
            "0.75\n",
            "1    0.50\n",
            "2    0.75\n",
            "dtype: float64\n"
          ]
        }
      ]
    },
    {
      "cell_type": "code",
      "source": [
        "# serie como matriz Numpy generalizada\n",
        "\n",
        "data = pd.Series([0.25, 0.5, 0.75, 1.0], index = [ 'a', 'b', 'c', 'd'])\n",
        "print(data)"
      ],
      "metadata": {
        "colab": {
          "base_uri": "https://localhost:8080/"
        },
        "id": "zbLIkeOMMMBc",
        "outputId": "b54ee559-72f6-46c5-80a6-e42e884bdc21"
      },
      "execution_count": 166,
      "outputs": [
        {
          "output_type": "stream",
          "name": "stdout",
          "text": [
            "a    0.25\n",
            "b    0.50\n",
            "c    0.75\n",
            "d    1.00\n",
            "dtype: float64\n"
          ]
        }
      ]
    },
    {
      "cell_type": "code",
      "source": [
        "# serie como un diccionario especializado\n",
        "\n",
        "population_dict = {'California': 38332521, 'Texas': 26448193, 'New York': 19651127, 'Florida': 19552860, 'Illinois': 12882135}\n",
        "population = pd.Series(population_dict)\n",
        "print(population)"
      ],
      "metadata": {
        "colab": {
          "base_uri": "https://localhost:8080/"
        },
        "id": "IXOp7uyBNUPv",
        "outputId": "7ec000b3-4042-4c65-8cd5-a683477e2f25"
      },
      "execution_count": 168,
      "outputs": [
        {
          "output_type": "stream",
          "name": "stdout",
          "text": [
            "California    38332521\n",
            "Texas         26448193\n",
            "New York      19651127\n",
            "Florida       19552860\n",
            "Illinois      12882135\n",
            "dtype: int64\n"
          ]
        }
      ]
    },
    {
      "cell_type": "markdown",
      "source": [
        "### DataFrame\n",
        "###matriz (array bidimensional etiquetada)"
      ],
      "metadata": {
        "id": "sD30ZdUoPc6R"
      }
    },
    {
      "cell_type": "code",
      "source": [
        "# construir la Serie diccionario\n",
        "\n",
        "area_dict = {'California': 423967, 'Texas': 695662, 'New York': 141297, 'Florida': 170312, 'Illinois': 149995}\n",
        "area = pd.Series(area_dict)\n",
        "print(area)\n",
        "\n"
      ],
      "metadata": {
        "colab": {
          "base_uri": "https://localhost:8080/"
        },
        "id": "u-1fMo6uO18Q",
        "outputId": "7da09d6f-b2a1-429c-b5df-4b534c0382cc"
      },
      "execution_count": 170,
      "outputs": [
        {
          "output_type": "stream",
          "name": "stdout",
          "text": [
            "California    423967\n",
            "Texas         695662\n",
            "New York      141297\n",
            "Florida       170312\n",
            "Illinois      149995\n",
            "dtype: int64\n"
          ]
        }
      ]
    },
    {
      "cell_type": "code",
      "source": [
        "# DataFrame: con el diccionario construido se genera un objeto de 2 dimensiones con etiquetas 'population' y 'area'\n",
        "# Serie 'population' + Serie 'area'\n",
        "\n",
        "states = pd.DataFrame({'population': population, 'area': area})\n",
        "print(states)"
      ],
      "metadata": {
        "colab": {
          "base_uri": "https://localhost:8080/"
        },
        "id": "ODolgyZuQfJh",
        "outputId": "82a5f27a-7679-4e02-bac0-c5648782364c"
      },
      "execution_count": 174,
      "outputs": [
        {
          "output_type": "stream",
          "name": "stdout",
          "text": [
            "            population    area\n",
            "California    38332521  423967\n",
            "Texas         26448193  695662\n",
            "New York      19651127  141297\n",
            "Florida       19552860  170312\n",
            "Illinois      12882135  149995\n"
          ]
        }
      ]
    },
    {
      "cell_type": "code",
      "source": [
        "# index y columns\n",
        "# acceso a los valores\n",
        "\n",
        "print(states.index)\n",
        "print(states.columns)"
      ],
      "metadata": {
        "colab": {
          "base_uri": "https://localhost:8080/"
        },
        "id": "EF3mNpF3Q7WB",
        "outputId": "e7fa59b8-3ce2-4a63-b51a-f1bc8ce8b93b"
      },
      "execution_count": 175,
      "outputs": [
        {
          "output_type": "stream",
          "name": "stdout",
          "text": [
            "Index(['California', 'Texas', 'New York', 'Florida', 'Illinois'], dtype='object')\n",
            "Index(['population', 'area'], dtype='object')\n"
          ]
        }
      ]
    },
    {
      "cell_type": "markdown",
      "source": [
        "### indices"
      ],
      "metadata": {
        "id": "2lVKEshZUWh-"
      }
    },
    {
      "cell_type": "code",
      "source": [
        "# se operan igual que un array, no se pueden modificar, solo indican ubicacion.\n",
        "\n",
        "ind = pd.Index([2, 3, 5, 7, 11])\n",
        "print(ind)"
      ],
      "metadata": {
        "colab": {
          "base_uri": "https://localhost:8080/"
        },
        "id": "1L2kHJtLT0Ld",
        "outputId": "e8912286-df8d-427e-e85a-de7d9eb03456"
      },
      "execution_count": 182,
      "outputs": [
        {
          "output_type": "stream",
          "name": "stdout",
          "text": [
            "Int64Index([2, 3, 5, 7, 11], dtype='int64')\n"
          ]
        }
      ]
    },
    {
      "cell_type": "code",
      "source": [],
      "metadata": {
        "id": "J_g_A5OHVE4V"
      },
      "execution_count": null,
      "outputs": []
    }
  ]
}