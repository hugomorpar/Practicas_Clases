{
 "cells": [
  {
   "cell_type": "markdown",
   "metadata": {},
   "source": [
    "# Extensiones de VSCode:\n",
    "\n",
    "1.- indenticator  \n",
    "2.- material icon team  \n",
    "3.- intellicode  \n",
    "4.- auto docstring  \n",
    "5.- code bert  \n",
    "6.- gittens  \n",
    "7.- code spellchecker  \n",
    "8.- autopep8  \n",
    "9.- excel viewer  \n",
    "10.- jupyter  \n",
    "11.- pdf viewer  \n",
    "12.- pylint  \n",
    "13.- rainbow csv  "
   ]
  },
  {
   "cell_type": "markdown",
   "metadata": {},
   "source": [
    "# Temas:  \n",
    "\n",
    "1.- pale night team  \n",
    "2.- one dark pro  "
   ]
  },
  {
   "cell_type": "markdown",
   "metadata": {},
   "source": [
    "# Chat GPT  \n",
    "1.- chat gpt  (login)  \n",
    "2.- code gpt  (API Key)\n"
   ]
  }
 ],
 "metadata": {
  "kernelspec": {
   "display_name": "base",
   "language": "python",
   "name": "python3"
  },
  "language_info": {
   "codemirror_mode": {
    "name": "ipython",
    "version": 3
   },
   "file_extension": ".py",
   "mimetype": "text/x-python",
   "name": "python",
   "nbconvert_exporter": "python",
   "pygments_lexer": "ipython3",
   "version": "3.11.5"
  }
 },
 "nbformat": 4,
 "nbformat_minor": 2
}
