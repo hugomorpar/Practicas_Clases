{
 "cells": [
  {
   "cell_type": "markdown",
   "id": "90374106-a59b-4a87-89ae-247778ff31ff",
   "metadata": {
    "tags": []
   },
   "source": [
    "# Trabajo Individual\n",
    "\n",
    "\n",
    "\n",
    "## Modulo: M4_E1 API4\n",
    "## Asignatura: Análisis y Visualizacion de Datos\n",
    "## Docente Online: James Tomalá Robles\n",
    "## Fecha de Entrega: 05 de octubre de 2023\n",
    "\n",
    "\n",
    "\n",
    "# Identificación del Estudiante:\n",
    "## Nombre y Apellido: Hugo Morales Paredes\n",
    "## Carrera: Tecnico Data Science"
   ]
  },
  {
   "cell_type": "raw",
   "id": "eb63eae4-9a00-4bd1-b9cd-51b36a326ade",
   "metadata": {
    "tags": []
   },
   "source": [
    "Revisar la situación entregada (intrucciones) y en función de lo que ya conoce de los datos (bases), plantear dos hipótesis, relacionándolas con las variables que están en las bases (recuerde que deben ser afirmaciones).\n",
    "\n",
    "1. Hacer un análisis exploratorio en base a esas hipótesis y explicar si en principio la evidencia de los datos respalda esas hipótesis o no.\n",
    "\n",
    "2. Escribir un ejemplo de una afirmación que no permitan hacer los datos disponibles en estas bases.\n",
    "\n",
    "3. Describir dos o tres aspectos que tendría en cuenta para comunicarlo a una audiencia no técnica. "
   ]
  },
  {
   "cell_type": "markdown",
   "id": "a40cb1ed-d16c-4bb4-92fa-53b2cfbf724d",
   "metadata": {},
   "source": [
    "# **CONSIGNA 1a.**"
   ]
  },
  {
   "cell_type": "markdown",
   "id": "e1b27847-05f1-49c4-b28b-0daa85495bf7",
   "metadata": {
    "tags": []
   },
   "source": [
    "# *Hipotesis 1:*\n",
    "\n",
    "## Sabiendo que Buenos Aires es donde se concentra la mayor poblacion, por ser la capital del pais, es donde se genera la mayor cantidad de exportaciones totales."
   ]
  },
  {
   "cell_type": "markdown",
   "id": "235fe154-dbce-4d73-9950-cc6aa3be0872",
   "metadata": {},
   "source": [
    "## Para el analisis exploratorio de la hipotesis 1, utilizaremos el dataset 'exportaciones.csv'"
   ]
  },
  {
   "cell_type": "code",
   "execution_count": 1,
   "id": "cf9f2d45-1dd4-4138-bd9a-eb3b8d9d2742",
   "metadata": {
    "tags": []
   },
   "outputs": [],
   "source": [
    "# importamos librerias necesarias\n",
    "\n",
    "import pandas as pd\n",
    "import matplotlib.pyplot as plt\n",
    "import seaborn as sns"
   ]
  },
  {
   "cell_type": "code",
   "execution_count": 2,
   "id": "59d74a63-b5c9-49d2-8be3-384e5e988783",
   "metadata": {
    "tags": []
   },
   "outputs": [],
   "source": [
    "# leemos dataset\n",
    "\n",
    "exportaciones_df = pd.read_csv('exportaciones.csv', encoding='latin-1')"
   ]
  },
  {
   "cell_type": "code",
   "execution_count": 3,
   "id": "7f709b27-f271-4ab6-bd5f-88b489825d4f",
   "metadata": {},
   "outputs": [
    {
     "data": {
      "text/html": [
       "<div>\n",
       "<style scoped>\n",
       "    .dataframe tbody tr th:only-of-type {\n",
       "        vertical-align: middle;\n",
       "    }\n",
       "\n",
       "    .dataframe tbody tr th {\n",
       "        vertical-align: top;\n",
       "    }\n",
       "\n",
       "    .dataframe thead th {\n",
       "        text-align: right;\n",
       "    }\n",
       "</style>\n",
       "<table border=\"1\" class=\"dataframe\">\n",
       "  <thead>\n",
       "    <tr style=\"text-align: right;\">\n",
       "      <th></th>\n",
       "      <th>rubro</th>\n",
       "      <th>provincia</th>\n",
       "      <th>anio</th>\n",
       "      <th>value</th>\n",
       "    </tr>\n",
       "  </thead>\n",
       "  <tbody>\n",
       "    <tr>\n",
       "      <th>0</th>\n",
       "      <td>Total</td>\n",
       "      <td>Total País</td>\n",
       "      <td>2005</td>\n",
       "      <td>40386.762</td>\n",
       "    </tr>\n",
       "    <tr>\n",
       "      <th>1</th>\n",
       "      <td>Total</td>\n",
       "      <td>Buenos Aires</td>\n",
       "      <td>2005</td>\n",
       "      <td>15626.865</td>\n",
       "    </tr>\n",
       "    <tr>\n",
       "      <th>2</th>\n",
       "      <td>Total</td>\n",
       "      <td>Capital Federal</td>\n",
       "      <td>2005</td>\n",
       "      <td>271.295</td>\n",
       "    </tr>\n",
       "    <tr>\n",
       "      <th>3</th>\n",
       "      <td>Total</td>\n",
       "      <td>Córdoba</td>\n",
       "      <td>2005</td>\n",
       "      <td>4452.178</td>\n",
       "    </tr>\n",
       "    <tr>\n",
       "      <th>4</th>\n",
       "      <td>Total</td>\n",
       "      <td>Entre Ríos</td>\n",
       "      <td>2005</td>\n",
       "      <td>815.341</td>\n",
       "    </tr>\n",
       "  </tbody>\n",
       "</table>\n",
       "</div>"
      ],
      "text/plain": [
       "   rubro        provincia  anio      value\n",
       "0  Total       Total País  2005  40386.762\n",
       "1  Total     Buenos Aires  2005  15626.865\n",
       "2  Total  Capital Federal  2005    271.295\n",
       "3  Total          Córdoba  2005   4452.178\n",
       "4  Total       Entre Ríos  2005    815.341"
      ]
     },
     "execution_count": 3,
     "metadata": {},
     "output_type": "execute_result"
    }
   ],
   "source": [
    "# visualizamos dataset\n",
    "\n",
    "exportaciones_df.head()"
   ]
  },
  {
   "cell_type": "code",
   "execution_count": 4,
   "id": "83ae82b4-f2e3-45d9-804f-e9bfed5ca63f",
   "metadata": {
    "tags": []
   },
   "outputs": [
    {
     "data": {
      "text/plain": [
       "rubro        object\n",
       "provincia    object\n",
       "anio          int64\n",
       "value        object\n",
       "dtype: object"
      ]
     },
     "execution_count": 4,
     "metadata": {},
     "output_type": "execute_result"
    }
   ],
   "source": [
    "# tipos de datos\n",
    "\n",
    "exportaciones_df.dtypes"
   ]
  },
  {
   "cell_type": "code",
   "execution_count": 5,
   "id": "51990ad1-6a3f-4c79-9336-790f78eecea9",
   "metadata": {
    "tags": []
   },
   "outputs": [],
   "source": [
    "# Convertimos el valor de la columna 'value' a tipo numerico\n",
    "\n",
    "exportaciones_df['value'] = pd.to_numeric(\n",
    "    exportaciones_df['value'], errors='coerce')"
   ]
  },
  {
   "cell_type": "markdown",
   "id": "8dceeceb-3457-4435-bd4c-53148c0e76f4",
   "metadata": {},
   "source": [
    "## El dataset tiene las siguientes columnas:  \n",
    "### rubro: Tipo de producto o categoría de exportación.\n",
    "### provincia: Provincia desde la cual se originan las exportaciones.\n",
    "### anio: Año en el que se registraron las exportaciones.\n",
    "### value: Valor de las exportaciones en una unidad no especificada."
   ]
  },
  {
   "cell_type": "raw",
   "id": "abf3dd1f-f9a9-491a-beae-6e6940821539",
   "metadata": {},
   "source": []
  },
  {
   "cell_type": "code",
   "execution_count": 6,
   "id": "1aa992e2-adbd-4c48-bf7b-5ab3dc372315",
   "metadata": {
    "tags": []
   },
   "outputs": [
    {
     "data": {
      "text/plain": [
       "provincia\n",
       "Total País             1998455.853\n",
       "Buenos Aires            690328.740\n",
       "Santa Fe                445009.470\n",
       "Córdoba                 266533.781\n",
       "Chubut                   80341.323\n",
       "Santa Cruz               52943.983\n",
       "Mendoza                  46759.999\n",
       "Entre Ríos               44240.795\n",
       "San Juan                 44027.141\n",
       "Catamarca                33350.490\n",
       "Salta                    32033.854\n",
       "Tucumán                  28247.555\n",
       "Santiago del Estero      20004.604\n",
       "San Luis                 18397.447\n",
       "Río Negro                15784.845\n",
       "Misiones                 14250.675\n",
       "Jujuy                    12788.607\n",
       "Neuquén                  11729.881\n",
       "La Pampa                 11581.818\n",
       "Capital Federal          11307.938\n",
       "Chaco                    10687.844\n",
       "Tierra del Fuego          9749.933\n",
       "La Rioja                  7249.351\n",
       "Corrientes                7105.700\n",
       "Formosa                   1233.441\n",
       "Name: value, dtype: float64"
      ]
     },
     "execution_count": 6,
     "metadata": {},
     "output_type": "execute_result"
    }
   ],
   "source": [
    "# Agrupamos los datos por 'provincia' y 'value', sumamos y le damos orden descendente.\n",
    "\n",
    "exportaciones_por_provincia = exportaciones_df.groupby(\n",
    "    'provincia')['value'].sum().sort_values(ascending=False)\n",
    "\n",
    "exportaciones_por_provincia"
   ]
  },
  {
   "cell_type": "code",
   "execution_count": 7,
   "id": "0765294a-b19d-4df4-b50f-f53f36f56259",
   "metadata": {
    "tags": []
   },
   "outputs": [
    {
     "data": {
      "text/plain": [
       "provincia\n",
       "Buenos Aires           690328.740\n",
       "Santa Fe               445009.470\n",
       "Córdoba                266533.781\n",
       "Chubut                  80341.323\n",
       "Santa Cruz              52943.983\n",
       "Mendoza                 46759.999\n",
       "Entre Ríos              44240.795\n",
       "San Juan                44027.141\n",
       "Catamarca               33350.490\n",
       "Salta                   32033.854\n",
       "Tucumán                 28247.555\n",
       "Santiago del Estero     20004.604\n",
       "San Luis                18397.447\n",
       "Río Negro               15784.845\n",
       "Misiones                14250.675\n",
       "Jujuy                   12788.607\n",
       "Neuquén                 11729.881\n",
       "La Pampa                11581.818\n",
       "Capital Federal         11307.938\n",
       "Chaco                   10687.844\n",
       "Tierra del Fuego         9749.933\n",
       "La Rioja                 7249.351\n",
       "Corrientes               7105.700\n",
       "Formosa                  1233.441\n",
       "Name: value, dtype: float64"
      ]
     },
     "execution_count": 7,
     "metadata": {},
     "output_type": "execute_result"
    }
   ],
   "source": [
    "# Total País: 1,998,455.853 (Este es el total general y no se considerará en la comparación).\n",
    "\n",
    "exportaciones_por_provincia.drop('Total País')"
   ]
  },
  {
   "cell_type": "code",
   "execution_count": 8,
   "id": "bd50214b-80b3-4a13-90ac-69510114bc69",
   "metadata": {
    "tags": []
   },
   "outputs": [
    {
     "data": {
      "image/png": "[encoded data removed]",
      "text/plain": [
       "<Figure size 1400x700 with 1 Axes>"
      ]
     },
     "metadata": {},
     "output_type": "display_data"
    }
   ],
   "source": [
    "# Graficamos en un grafico de barras para realizar la comparacion. Sin 'Total País'.\n",
    "\n",
    "plt.figure(figsize=(14, 7))\n",
    "exportaciones_por_provincia.drop('Total País').plot(\n",
    "    kind='bar', color='blue')\n",
    "plt.title('Exportaciones Totales por Provincia')\n",
    "plt.ylabel('Valor de Exportaciones')\n",
    "plt.xlabel('Provincia\\n\\nElaborado por: Hugo Morales Paredes, 01/10/2023, Fuente: Base de Datos Pública de la República Argentina')\n",
    "plt.xticks(rotation=45)\n",
    "plt.tight_layout()\n",
    "plt.show()"
   ]
  },
  {
   "cell_type": "code",
   "execution_count": 9,
   "id": "a25e9e4a-f8f8-47f7-b1f4-df8ebbf4f681",
   "metadata": {
    "tags": []
   },
   "outputs": [
    {
     "data": {
      "text/plain": [
       "count    2.500000e+01\n",
       "mean     1.565658e+05\n",
       "std      4.156810e+05\n",
       "min      1.233441e+03\n",
       "25%      1.158182e+04\n",
       "50%      2.000460e+04\n",
       "75%      4.676000e+04\n",
       "max      1.998456e+06\n",
       "Name: value, dtype: float64"
      ]
     },
     "execution_count": 9,
     "metadata": {},
     "output_type": "execute_result"
    }
   ],
   "source": [
    "# Estadisticas descriptivas\n",
    "\n",
    "exportaciones_por_provincia.describe()"
   ]
  },
  {
   "cell_type": "code",
   "execution_count": null,
   "id": "c686ad29-a627-447e-b42d-a0e06919fd16",
   "metadata": {},
   "outputs": [],
   "source": []
  },
  {
   "cell_type": "markdown",
   "id": "1a3961cb-faad-42f2-971f-7076d9323b0f",
   "metadata": {},
   "source": [
    "# **Conclusion:**\n",
    "\n",
    "## *Buenos Aires claramente lidera la lista con el valor más alto de exportaciones, confirmando la hipótesis propuesta. Le siguen Santa Fe y Córdoba. Las demás provincias tienen valores significativamente más bajos en comparación con Buenos Aires.*"
   ]
  },
  {
   "cell_type": "raw",
   "id": "642fb42e-3159-47a6-a73f-ac5445906e69",
   "metadata": {},
   "source": []
  },
  {
   "cell_type": "markdown",
   "id": "0bfed59f-d30f-4aab-972d-a3921244195f",
   "metadata": {},
   "source": [
    "# **CONSIGNA 1b.**"
   ]
  },
  {
   "cell_type": "markdown",
   "id": "f8e11847-7df4-4cea-a439-76cc6072f63d",
   "metadata": {},
   "source": [
    "# *Hipotesis 2:*  \n",
    "\n",
    "## La proyeccion de esperanza de vida, en la Republica Argentina, de mujeres es mayor a la de los hombres."
   ]
  },
  {
   "cell_type": "markdown",
   "id": "4f00398e-6feb-48f7-97d4-67ec84fea7ae",
   "metadata": {},
   "source": [
    "## Para el analisis exploratorio de la hipotesis 2, utilizaremos el dataset 'esperanza_de_vida.csv'"
   ]
  },
  {
   "cell_type": "code",
   "execution_count": 10,
   "id": "31f77ea0-f337-4e2d-997f-ac388d94a615",
   "metadata": {},
   "outputs": [],
   "source": [
    "# Las librerias necesarias ya fueron importadas.\n",
    "\n",
    "import numpy as np"
   ]
  },
  {
   "cell_type": "code",
   "execution_count": 11,
   "id": "2dfc5fad-c4a5-469c-b1d5-d3777af7a548",
   "metadata": {
    "tags": []
   },
   "outputs": [],
   "source": [
    "# leemos dataset\n",
    "\n",
    "esperanza_vida_df = pd.read_csv('esperanza_de_vida.csv', encoding='latin-1')"
   ]
  },
  {
   "cell_type": "code",
   "execution_count": 12,
   "id": "f14d26b9-4dec-4c99-b21a-68b69d8fa3ed",
   "metadata": {
    "tags": []
   },
   "outputs": [
    {
     "data": {
      "text/html": [
       "<div>\n",
       "<style scoped>\n",
       "    .dataframe tbody tr th:only-of-type {\n",
       "        vertical-align: middle;\n",
       "    }\n",
       "\n",
       "    .dataframe tbody tr th {\n",
       "        vertical-align: top;\n",
       "    }\n",
       "\n",
       "    .dataframe thead th {\n",
       "        text-align: right;\n",
       "    }\n",
       "</style>\n",
       "<table border=\"1\" class=\"dataframe\">\n",
       "  <thead>\n",
       "    <tr style=\"text-align: right;\">\n",
       "      <th></th>\n",
       "      <th>provincia</th>\n",
       "      <th>anio</th>\n",
       "      <th>mujeres</th>\n",
       "      <th>varones</th>\n",
       "    </tr>\n",
       "  </thead>\n",
       "  <tbody>\n",
       "    <tr>\n",
       "      <th>0</th>\n",
       "      <td>Buenos Aires</td>\n",
       "      <td>2015</td>\n",
       "      <td>80.22</td>\n",
       "      <td>73.54</td>\n",
       "    </tr>\n",
       "    <tr>\n",
       "      <th>1</th>\n",
       "      <td>Buenos Aires</td>\n",
       "      <td>2020</td>\n",
       "      <td>81.34</td>\n",
       "      <td>74.74</td>\n",
       "    </tr>\n",
       "    <tr>\n",
       "      <th>2</th>\n",
       "      <td>Buenos Aires</td>\n",
       "      <td>2025</td>\n",
       "      <td>82.32</td>\n",
       "      <td>75.80</td>\n",
       "    </tr>\n",
       "    <tr>\n",
       "      <th>3</th>\n",
       "      <td>Buenos Aires</td>\n",
       "      <td>2030</td>\n",
       "      <td>83.20</td>\n",
       "      <td>76.76</td>\n",
       "    </tr>\n",
       "    <tr>\n",
       "      <th>4</th>\n",
       "      <td>Buenos Aires</td>\n",
       "      <td>2035</td>\n",
       "      <td>83.98</td>\n",
       "      <td>77.60</td>\n",
       "    </tr>\n",
       "  </tbody>\n",
       "</table>\n",
       "</div>"
      ],
      "text/plain": [
       "      provincia  anio  mujeres  varones\n",
       "0  Buenos Aires  2015    80.22    73.54\n",
       "1  Buenos Aires  2020    81.34    74.74\n",
       "2  Buenos Aires  2025    82.32    75.80\n",
       "3  Buenos Aires  2030    83.20    76.76\n",
       "4  Buenos Aires  2035    83.98    77.60"
      ]
     },
     "execution_count": 12,
     "metadata": {},
     "output_type": "execute_result"
    }
   ],
   "source": [
    "esperanza_vida_df.head()"
   ]
  },
  {
   "cell_type": "code",
   "execution_count": 13,
   "id": "0c6ce65f-e7b4-4ede-ab46-bd810f5f45b4",
   "metadata": {
    "tags": []
   },
   "outputs": [
    {
     "data": {
      "text/plain": [
       "provincia     object\n",
       "anio           int64\n",
       "mujeres      float64\n",
       "varones      float64\n",
       "dtype: object"
      ]
     },
     "execution_count": 13,
     "metadata": {},
     "output_type": "execute_result"
    }
   ],
   "source": [
    "# tipo de datos\n",
    "\n",
    "esperanza_vida_df.dtypes"
   ]
  },
  {
   "cell_type": "markdown",
   "id": "88389015-7c98-4009-a7eb-fc9c70ce7553",
   "metadata": {},
   "source": [
    "## Para comprobar si la esperanza de vida de las mujeres sera mayor que la de los hombres, podemos calcular el promedio de la esperanza de vida para cada género en todos los años y provincias disponibles en el dataset."
   ]
  },
  {
   "cell_type": "code",
   "execution_count": 14,
   "id": "6bfad0be-cd27-4fb3-907c-d0ba6be70baf",
   "metadata": {
    "tags": []
   },
   "outputs": [
    {
     "data": {
      "text/plain": [
       "(82.71035, 76.41778)"
      ]
     },
     "execution_count": 14,
     "metadata": {},
     "output_type": "execute_result"
    }
   ],
   "source": [
    "# Calcular el promedio de la esperanza de vida para mujeres y varones\n",
    "\n",
    "promedio_mujeres = esperanza_vida_df[\"mujeres\"].mean().round(5)\n",
    "promedio_varones = esperanza_vida_df[\"varones\"].mean().round(5)\n",
    "\n",
    "promedio_mujeres, promedio_varones"
   ]
  },
  {
   "cell_type": "markdown",
   "id": "abcfa81a-73f1-469c-9eb8-4136260eef2b",
   "metadata": {},
   "source": [
    "## El promedio de la esperanza de vida para las mujeres sera de 82.71 años, mientras que para los varones sera de 76.42 años."
   ]
  },
  {
   "cell_type": "code",
   "execution_count": 15,
   "id": "60003cbf-3232-42ba-b6db-86667b92c3f9",
   "metadata": {
    "tags": []
   },
   "outputs": [
    {
     "data": {
      "image/png": "[encoded data removed]",
      "text/plain": [
       "<Figure size 800x600 with 1 Axes>"
      ]
     },
     "metadata": {},
     "output_type": "display_data"
    }
   ],
   "source": [
    "# Datos para el gráfico\n",
    "labels = ['Mujeres', 'Varones']\n",
    "values = [promedio_mujeres, promedio_varones]\n",
    "colors = ['#FF9999', '#66B2FF']\n",
    "\n",
    "# Crear el gráfico de barras\n",
    "plt.figure(figsize=(8, 6))\n",
    "bars = plt.bar(labels, values, color=colors)\n",
    "\n",
    "# Añadir título y etiquetas\n",
    "plt.title('Esperanza de Vida Promedio por Género')\n",
    "plt.ylabel('Años')\n",
    "plt.xlabel('Género\\n\\nElaborado por: Hugo Morales Paredes, 01/10/2023, Fuente: Base de Datos Pública de la República Argentina')\n",
    "\n",
    "# Mostrar el gráfico\n",
    "plt.tight_layout()\n",
    "plt.show()"
   ]
  },
  {
   "cell_type": "raw",
   "id": "18c533b9-74a5-462c-8796-e00647b346b8",
   "metadata": {},
   "source": []
  },
  {
   "cell_type": "markdown",
   "id": "a5ad29dc-54fd-4855-8983-1e2c68b5a2c3",
   "metadata": {
    "tags": []
   },
   "source": [
    "## La proyección de esperanza de vida en hombres y mujeres ira creciendo en el tiempo, para ello graficamos la tendencia de la esperanza de vida promedio para mujeres y varones a lo largo de los años en el dataset."
   ]
  },
  {
   "cell_type": "code",
   "execution_count": 16,
   "id": "8b136158-8cd4-4ed2-b95c-287a83ff291d",
   "metadata": {
    "tags": []
   },
   "outputs": [
    {
     "data": {
      "image/png": "[encoded data removed]",
      "text/plain": [
       "<Figure size 1000x600 with 1 Axes>"
      ]
     },
     "metadata": {},
     "output_type": "display_data"
    }
   ],
   "source": [
    "# Agrupar por año y calcular el promedio de esperanza de vida para cada género, especificando numeric_only=True\n",
    "data_grouped_updated = esperanza_vida_df.groupby(\n",
    "    'anio').mean(numeric_only=True)\n",
    "\n",
    "# Crear el gráfico de líneas nuevamente\n",
    "plt.figure(figsize=(10, 6))\n",
    "plt.plot(data_grouped_updated.index,\n",
    "         data_grouped_updated['mujeres'], label='Mujeres', color='#FF9999', marker='o')\n",
    "plt.plot(data_grouped_updated.index,\n",
    "         data_grouped_updated['varones'], label='Varones', color='#66B2FF', marker='o')\n",
    "\n",
    "# Añadir título, etiquetas y leyenda\n",
    "plt.title('Tendencia de Esperanza de Vida a lo largo del Tiempo')\n",
    "plt.ylabel('Esperanza de Vida (años)')\n",
    "plt.xlabel('Año\\n\\nElaborado por: Hugo Morales Paredes, 01/10/2023, Fuente: Base de Datos Pública de la República Argentina')\n",
    "plt.legend()\n",
    "\n",
    "# Mostrar el gráfico\n",
    "plt.grid(True, which='both', linestyle='--', linewidth=0.5)\n",
    "plt.tight_layout()\n",
    "plt.show()"
   ]
  },
  {
   "cell_type": "code",
   "execution_count": 17,
   "id": "85a161f4-70c8-4671-bfcc-b9804d24c316",
   "metadata": {
    "tags": []
   },
   "outputs": [
    {
     "data": {
      "text/plain": [
       "(count    144.00\n",
       " mean      82.71\n",
       " std        1.64\n",
       " min       78.32\n",
       " 25%       81.53\n",
       " 50%       82.86\n",
       " 75%       84.12\n",
       " max       85.46\n",
       " Name: mujeres, dtype: float64,\n",
       " count    144.00\n",
       " mean      76.42\n",
       " std        1.75\n",
       " min       71.53\n",
       " 25%       75.18\n",
       " 50%       76.60\n",
       " 75%       77.89\n",
       " max       79.27\n",
       " Name: varones, dtype: float64)"
      ]
     },
     "execution_count": 17,
     "metadata": {},
     "output_type": "execute_result"
    }
   ],
   "source": [
    "# Calcular las estadísticas descriptivas para la esperanza de vida de hombres y mujeres\n",
    "\n",
    "stats_mujeres = esperanza_vida_df['mujeres'].describe().round(2)\n",
    "stats_varones = esperanza_vida_df['varones'].describe().round(2)\n",
    "\n",
    "stats_mujeres, stats_varones"
   ]
  },
  {
   "cell_type": "markdown",
   "id": "13d24560-7a64-45ab-883f-2980686013c1",
   "metadata": {},
   "source": [
    "# **Conclusión**\n",
    "\n",
    "## *El gráfico de líneas muestra claramente que la esperanza de vida, tanto para mujeres como para varones, ha ido en aumento a lo largo del tiempo. Por lo tanto, la hipótesis de que \"la proyección de esperanza de vida en hombres y mujeres irá creciendo en el tiempo\" parece ser cierta según los datos proporcionados en el dataset.*"
   ]
  },
  {
   "cell_type": "raw",
   "id": "72574b81-846c-4ab9-97c5-663e2ff2ea45",
   "metadata": {
    "tags": []
   },
   "source": []
  },
  {
   "cell_type": "markdown",
   "id": "a1a6eaf2-fba0-49a9-acca-155d3a0a5f63",
   "metadata": {},
   "source": [
    "# **Consigna 2.**"
   ]
  },
  {
   "cell_type": "markdown",
   "id": "bf2d2740-92bf-4610-afcd-011815678145",
   "metadata": {
    "tags": []
   },
   "source": [
    "# *La tasa de desempleo en Buenos Aires en enero de 2009 fue del 5%.*"
   ]
  },
  {
   "cell_type": "code",
   "execution_count": 18,
   "id": "342b24c3",
   "metadata": {
    "tags": []
   },
   "outputs": [],
   "source": [
    "# importamos librerias\n",
    "\n",
    "import pandas as pd"
   ]
  },
  {
   "cell_type": "code",
   "execution_count": 19,
   "id": "c2627df0",
   "metadata": {
    "tags": []
   },
   "outputs": [
    {
     "data": {
      "text/html": [
       "<div>\n",
       "<style scoped>\n",
       "    .dataframe tbody tr th:only-of-type {\n",
       "        vertical-align: middle;\n",
       "    }\n",
       "\n",
       "    .dataframe tbody tr th {\n",
       "        vertical-align: top;\n",
       "    }\n",
       "\n",
       "    .dataframe thead th {\n",
       "        text-align: right;\n",
       "    }\n",
       "</style>\n",
       "<table border=\"1\" class=\"dataframe\">\n",
       "  <thead>\n",
       "    <tr style=\"text-align: right;\">\n",
       "      <th></th>\n",
       "      <th>provincia</th>\n",
       "      <th>anio</th>\n",
       "      <th>mes</th>\n",
       "      <th>empleados_registrados_miles</th>\n",
       "    </tr>\n",
       "  </thead>\n",
       "  <tbody>\n",
       "    <tr>\n",
       "      <th>0</th>\n",
       "      <td>Buenos Aires</td>\n",
       "      <td>2009</td>\n",
       "      <td>ene-09</td>\n",
       "      <td>1787.640</td>\n",
       "    </tr>\n",
       "    <tr>\n",
       "      <th>1</th>\n",
       "      <td>Buenos Aires</td>\n",
       "      <td>2009</td>\n",
       "      <td>feb-09</td>\n",
       "      <td>1769.223</td>\n",
       "    </tr>\n",
       "    <tr>\n",
       "      <th>2</th>\n",
       "      <td>Buenos Aires</td>\n",
       "      <td>2009</td>\n",
       "      <td>mar-09</td>\n",
       "      <td>1745.913</td>\n",
       "    </tr>\n",
       "    <tr>\n",
       "      <th>3</th>\n",
       "      <td>Buenos Aires</td>\n",
       "      <td>2009</td>\n",
       "      <td>abr-09</td>\n",
       "      <td>1729.917</td>\n",
       "    </tr>\n",
       "    <tr>\n",
       "      <th>4</th>\n",
       "      <td>Buenos Aires</td>\n",
       "      <td>2009</td>\n",
       "      <td>may-09</td>\n",
       "      <td>1723.218</td>\n",
       "    </tr>\n",
       "    <tr>\n",
       "      <th>5</th>\n",
       "      <td>Buenos Aires</td>\n",
       "      <td>2009</td>\n",
       "      <td>jun-09</td>\n",
       "      <td>1724.903</td>\n",
       "    </tr>\n",
       "    <tr>\n",
       "      <th>6</th>\n",
       "      <td>Buenos Aires</td>\n",
       "      <td>2009</td>\n",
       "      <td>jul-09</td>\n",
       "      <td>1722.949</td>\n",
       "    </tr>\n",
       "    <tr>\n",
       "      <th>7</th>\n",
       "      <td>Buenos Aires</td>\n",
       "      <td>2009</td>\n",
       "      <td>ago-09</td>\n",
       "      <td>1720.649</td>\n",
       "    </tr>\n",
       "    <tr>\n",
       "      <th>8</th>\n",
       "      <td>Buenos Aires</td>\n",
       "      <td>2009</td>\n",
       "      <td>sep-09</td>\n",
       "      <td>1727.501</td>\n",
       "    </tr>\n",
       "    <tr>\n",
       "      <th>9</th>\n",
       "      <td>Buenos Aires</td>\n",
       "      <td>2009</td>\n",
       "      <td>oct-09</td>\n",
       "      <td>1741.995</td>\n",
       "    </tr>\n",
       "    <tr>\n",
       "      <th>10</th>\n",
       "      <td>Buenos Aires</td>\n",
       "      <td>2009</td>\n",
       "      <td>nov-09</td>\n",
       "      <td>1753.656</td>\n",
       "    </tr>\n",
       "    <tr>\n",
       "      <th>11</th>\n",
       "      <td>Buenos Aires</td>\n",
       "      <td>2009</td>\n",
       "      <td>dic-09</td>\n",
       "      <td>1774.175</td>\n",
       "    </tr>\n",
       "    <tr>\n",
       "      <th>12</th>\n",
       "      <td>Buenos Aires</td>\n",
       "      <td>2010</td>\n",
       "      <td>ene-10</td>\n",
       "      <td>1786.437</td>\n",
       "    </tr>\n",
       "    <tr>\n",
       "      <th>13</th>\n",
       "      <td>Buenos Aires</td>\n",
       "      <td>2010</td>\n",
       "      <td>feb-10</td>\n",
       "      <td>1782.964</td>\n",
       "    </tr>\n",
       "    <tr>\n",
       "      <th>14</th>\n",
       "      <td>Buenos Aires</td>\n",
       "      <td>2010</td>\n",
       "      <td>mar-10</td>\n",
       "      <td>1773.732</td>\n",
       "    </tr>\n",
       "    <tr>\n",
       "      <th>15</th>\n",
       "      <td>Buenos Aires</td>\n",
       "      <td>2010</td>\n",
       "      <td>abr-10</td>\n",
       "      <td>1769.101</td>\n",
       "    </tr>\n",
       "    <tr>\n",
       "      <th>16</th>\n",
       "      <td>Buenos Aires</td>\n",
       "      <td>2010</td>\n",
       "      <td>may-10</td>\n",
       "      <td>1767.656</td>\n",
       "    </tr>\n",
       "    <tr>\n",
       "      <th>17</th>\n",
       "      <td>Buenos Aires</td>\n",
       "      <td>2010</td>\n",
       "      <td>jun-10</td>\n",
       "      <td>1771.643</td>\n",
       "    </tr>\n",
       "    <tr>\n",
       "      <th>18</th>\n",
       "      <td>Buenos Aires</td>\n",
       "      <td>2010</td>\n",
       "      <td>jul-10</td>\n",
       "      <td>1775.221</td>\n",
       "    </tr>\n",
       "    <tr>\n",
       "      <th>19</th>\n",
       "      <td>Buenos Aires</td>\n",
       "      <td>2010</td>\n",
       "      <td>ago-10</td>\n",
       "      <td>1785.985</td>\n",
       "    </tr>\n",
       "  </tbody>\n",
       "</table>\n",
       "</div>"
      ],
      "text/plain": [
       "       provincia  anio     mes  empleados_registrados_miles\n",
       "0   Buenos Aires  2009  ene-09                     1787.640\n",
       "1   Buenos Aires  2009  feb-09                     1769.223\n",
       "2   Buenos Aires  2009  mar-09                     1745.913\n",
       "3   Buenos Aires  2009  abr-09                     1729.917\n",
       "4   Buenos Aires  2009  may-09                     1723.218\n",
       "5   Buenos Aires  2009  jun-09                     1724.903\n",
       "6   Buenos Aires  2009  jul-09                     1722.949\n",
       "7   Buenos Aires  2009  ago-09                     1720.649\n",
       "8   Buenos Aires  2009  sep-09                     1727.501\n",
       "9   Buenos Aires  2009  oct-09                     1741.995\n",
       "10  Buenos Aires  2009  nov-09                     1753.656\n",
       "11  Buenos Aires  2009  dic-09                     1774.175\n",
       "12  Buenos Aires  2010  ene-10                     1786.437\n",
       "13  Buenos Aires  2010  feb-10                     1782.964\n",
       "14  Buenos Aires  2010  mar-10                     1773.732\n",
       "15  Buenos Aires  2010  abr-10                     1769.101\n",
       "16  Buenos Aires  2010  may-10                     1767.656\n",
       "17  Buenos Aires  2010  jun-10                     1771.643\n",
       "18  Buenos Aires  2010  jul-10                     1775.221\n",
       "19  Buenos Aires  2010  ago-10                     1785.985"
      ]
     },
     "execution_count": 19,
     "metadata": {},
     "output_type": "execute_result"
    }
   ],
   "source": [
    "# Leemos el dataset 'empleo.csv'\n",
    "\n",
    "empleo_data = pd.read_csv('empleo.csv', encoding='ISO-8859-1')\n",
    "\n",
    "# Mostrando las primeras filas del dataset\n",
    "\n",
    "empleo_data.head(20)"
   ]
  },
  {
   "cell_type": "code",
   "execution_count": 20,
   "id": "df5a27a7",
   "metadata": {},
   "outputs": [
    {
     "data": {
      "text/plain": [
       "provincia                       object\n",
       "anio                             int64\n",
       "mes                             object\n",
       "empleados_registrados_miles    float64\n",
       "dtype: object"
      ]
     },
     "execution_count": 20,
     "metadata": {},
     "output_type": "execute_result"
    }
   ],
   "source": [
    "# tipos de datos\n",
    "\n",
    "empleo_data.dtypes"
   ]
  },
  {
   "cell_type": "code",
   "execution_count": 21,
   "id": "254ee111",
   "metadata": {},
   "outputs": [
    {
     "data": {
      "text/plain": [
       "Index(['provincia', 'anio', 'mes', 'empleados_registrados_miles'], dtype='object')"
      ]
     },
     "execution_count": 21,
     "metadata": {},
     "output_type": "execute_result"
    }
   ],
   "source": [
    "# nombre de las columnas (labels)\n",
    "\n",
    "empleo_data.columns"
   ]
  },
  {
   "cell_type": "code",
   "execution_count": 22,
   "id": "f20206aa",
   "metadata": {},
   "outputs": [
    {
     "data": {
      "text/plain": [
       "<bound method DataFrame.info of          provincia  anio     mes  empleados_registrados_miles\n",
       "0     Buenos Aires  2009  ene-09                     1787.640\n",
       "1     Buenos Aires  2009  feb-09                     1769.223\n",
       "2     Buenos Aires  2009  mar-09                     1745.913\n",
       "3     Buenos Aires  2009  abr-09                     1729.917\n",
       "4     Buenos Aires  2009  may-09                     1723.218\n",
       "...            ...   ...     ...                          ...\n",
       "3691       Tucumán  2021  jun-21                      172.053\n",
       "3692       Tucumán  2021  jul-21                      172.030\n",
       "3693       Tucumán  2021  ago-21                      171.015\n",
       "3694       Tucumán  2021  sep-21                      168.084\n",
       "3695       Tucumán  2021  oct-21                      165.578\n",
       "\n",
       "[3696 rows x 4 columns]>"
      ]
     },
     "execution_count": 22,
     "metadata": {},
     "output_type": "execute_result"
    }
   ],
   "source": [
    "# informacion de la tabla\n",
    "\n",
    "empleo_data.info"
   ]
  },
  {
   "cell_type": "markdown",
   "id": "84ff4307",
   "metadata": {},
   "source": [
    "### El conjunto de datos contiene información sobre el empleo registrado en diferentes provincias de Argentina, desglosado por año y mes. Las columnas son:\n",
    "\n",
    "provincia: Nombre de la provincia.  \n",
    "anio: Año del registro.  \n",
    "mes: Mes del registro en formato \"mmm-aa\".  \n",
    "empleados_registrados_miles: Número de empleados registrados en miles."
   ]
  },
  {
   "cell_type": "code",
   "execution_count": 23,
   "id": "113da009-9b83-46d6-9534-b739d0cdbc4d",
   "metadata": {},
   "outputs": [
    {
     "data": {
      "text/html": [
       "<div>\n",
       "<style scoped>\n",
       "    .dataframe tbody tr th:only-of-type {\n",
       "        vertical-align: middle;\n",
       "    }\n",
       "\n",
       "    .dataframe tbody tr th {\n",
       "        vertical-align: top;\n",
       "    }\n",
       "\n",
       "    .dataframe thead th {\n",
       "        text-align: right;\n",
       "    }\n",
       "</style>\n",
       "<table border=\"1\" class=\"dataframe\">\n",
       "  <thead>\n",
       "    <tr style=\"text-align: right;\">\n",
       "      <th></th>\n",
       "      <th>provincia</th>\n",
       "      <th>anio</th>\n",
       "      <th>mes</th>\n",
       "      <th>empleados_registrados_miles</th>\n",
       "    </tr>\n",
       "  </thead>\n",
       "  <tbody>\n",
       "    <tr>\n",
       "      <th>0</th>\n",
       "      <td>Buenos Aires</td>\n",
       "      <td>2009</td>\n",
       "      <td>ene-09</td>\n",
       "      <td>1787.64</td>\n",
       "    </tr>\n",
       "  </tbody>\n",
       "</table>\n",
       "</div>"
      ],
      "text/plain": [
       "      provincia  anio     mes  empleados_registrados_miles\n",
       "0  Buenos Aires  2009  ene-09                      1787.64"
      ]
     },
     "execution_count": 23,
     "metadata": {},
     "output_type": "execute_result"
    }
   ],
   "source": [
    "# Filtrar los datos para Buenos Aires en enero de 2009\n",
    "\n",
    "empleo_ba_ene_2009 = empleo_data[(empleo_data['provincia'] == 'Buenos Aires') &\n",
    "                                 (empleo_data['anio'] == 2009) &\n",
    "                                 (empleo_data['mes'] == 'ene-09')]\n",
    "\n",
    "empleo_ba_ene_2009"
   ]
  },
  {
   "cell_type": "markdown",
   "id": "b097311e",
   "metadata": {},
   "source": [
    "## Para calcular la tasa de desempleo, se requiere la siguiente fórmula:\n",
    "\n",
    "\n",
    "\n",
    "                             Tasa de desempleo = (Numero de personas desempleadas / Fuerza laboral) * 100\n",
    "\n",
    "\n",
    "Dado que nuestro conjunto de datos solo nos proporciona el número de empleados registrados, no tenemos información sobre las personas que buscan activamente empleo ni sobre la fuerza laboral total. Por lo tanto, no podemos calcular la tasa de desempleo.\n",
    "\n",
    "Basándonos en la exploración del conjunto de datos, podemos observar lo siguiente:\n",
    "\n",
    "1. El conjunto de datos contiene registros de 24 provincias diferentes.\n",
    "2. Hay datos desde el año 2009 hasta el 2021.\n",
    "3. Existen 154 combinaciones únicas de meses y años en el conjunto de datos.\n",
    "4. La columna `empleados_registrados_miles` tiene 3650 valores únicos.\n",
    "\n"
   ]
  },
  {
   "cell_type": "markdown",
   "id": "ce269d73-b066-4762-aecf-ec76693b51c2",
   "metadata": {},
   "source": [
    "# **Conclusión**\n",
    "\n",
    "## Por lo tanto, aunque sabemos cuántas personas están empleadas en cada provincia, mes y año, no tenemos la información necesaria para determinar cuántas personas están desempleadas o cuántas están en la fuerza laboral total. Como resultado, no podemos calcular la tasa de desempleo con este conjunto de datos."
   ]
  },
  {
   "cell_type": "markdown",
   "id": "01acc6aa-dbec-4857-a904-e88ec302d197",
   "metadata": {},
   "source": [
    "# **CONSIGNA 3.**"
   ]
  },
  {
   "cell_type": "markdown",
   "id": "0925c512-027e-4bb7-9029-dd87a297a971",
   "metadata": {},
   "source": [
    "## Tres aspectos a tener en cuenta para comunicar datos a una audiencia no técnica:\n",
    "\n",
    "## 1.- Utilizar un lenguaje sencillo y claro. Es importante evitar el uso de términos técnicos o jerga que puedan dificultar la comprensión del mensaje. En su lugar, se debe utilizar un lenguaje sencillo y claro que pueda ser entendido por todos.\n",
    "\n",
    "## 2.- Ofrecer ejemplos, explicaciones y apoyo visual. Los ejemplos y las explicaciones pueden ayudar a ilustrar los datos y hacerlos más fáciles de entender. Por ejemplo, si se está presentando datos o resultados apoyarse con presentaciones de graficos sencillos y ppt.\n",
    "\n",
    "## 3.- Contextualizar los datos. Es importante contextualizar los datos para que la audiencia pueda comprender su significado. Esto se puede hacer proporcionando información sobre el origen de los datos, los métodos utilizados para recopilarlos y las limitaciones de los datos.\n"
   ]
  },
  {
   "cell_type": "code",
   "execution_count": null,
   "id": "600780e8",
   "metadata": {},
   "outputs": [],
   "source": []
  }
 ],
 "metadata": {
  "kernelspec": {
   "display_name": "Python 3 (ipykernel)",
   "language": "python",
   "name": "python3"
  },
  "language_info": {
   "codemirror_mode": {
    "name": "ipython",
    "version": 3
   },
   "file_extension": ".py",
   "mimetype": "text/x-python",
   "name": "python",
   "nbconvert_exporter": "python",
   "pygments_lexer": "ipython3",
   "version": "3.11.5"
  }
 },
 "nbformat": 4,
 "nbformat_minor": 5
}
