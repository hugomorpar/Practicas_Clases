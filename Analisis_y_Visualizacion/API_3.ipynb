{
 "cells": [
  {
   "cell_type": "markdown",
   "id": "51966e6e-16ee-457c-b2e4-0e571f6fcb8d",
   "metadata": {},
   "source": [
    "# Trabajo individual\n",
    "#\n",
    "#### Módulo:\tM3-E1 API3.\n",
    "#### Asignatura: Análisis y Visualización de Datos.\n",
    "#### Docente Online:James Tomalá Robles.\t\n",
    "#### Fecha de entrega: 28 de Septiembre 2023.  \n",
    "#\n",
    "#### Identificación del estudiante:  \n",
    "\n",
    "#### Nombre y apellido: Hugo Morales Paredes.\n",
    "#### Carrera: Técnico Data Science."
   ]
  },
  {
   "cell_type": "markdown",
   "id": "71ea9d6e-fe3a-4409-89b4-884a577ab500",
   "metadata": {
    "tags": []
   },
   "source": [
    "# Desarrollo API 3"
   ]
  },
  {
   "cell_type": "markdown",
   "id": "f38d778d",
   "metadata": {},
   "source": [
    "## Consigna\n",
    "### Teniendo en cuenta todas las bases disponibles, elija algunas variables y construya tres visualizaciones.\n",
    "- Una que muestre la distribución de una variable (ejemplo: histograma, boxplot, violinplot).\n",
    "- Una que muestre la relación entre dos variables (ejemplo: diagrama de dispersión).\n",
    "- Otra a elección (ejemplo: evolución en el tiempo, panel)."
   ]
  },
  {
   "cell_type": "markdown",
   "id": "3dee005c-ef05-4984-8f9c-89cf7c560703",
   "metadata": {},
   "source": [
    "## Importando las librerias necesarias"
   ]
  },
  {
   "cell_type": "code",
   "execution_count": 1,
   "id": "decb0031-71c7-42ef-86a7-8da6e8fd98e1",
   "metadata": {
    "tags": []
   },
   "outputs": [],
   "source": [
    "import pandas as pd, numpy as np\n",
    "\n",
    "import matplotlib.pyplot as plt, seaborn as sns\n",
    "\n",
    "%matplotlib inline"
   ]
  },
  {
   "cell_type": "markdown",
   "id": "4a3edefd-607c-4ef5-a6db-d08f879bb6ac",
   "metadata": {},
   "source": [
    "## Importando el dataset 'poblacion.csv'"
   ]
  },
  {
   "cell_type": "code",
   "execution_count": 2,
   "id": "51f1e09e-3e83-45c2-859c-c00167f47b34",
   "metadata": {
    "tags": []
   },
   "outputs": [],
   "source": [
    "# crea un dataframe a partir del dataset\n",
    "\n",
    "df = pd.read_csv('poblacion.csv', index_col=0, encoding='latin-1')"
   ]
  },
  {
   "cell_type": "markdown",
   "id": "87168025-544e-4dff-a7a2-2247c0524823",
   "metadata": {},
   "source": [
    "## Visualizamos el DataFrame y caracteristicas."
   ]
  },
  {
   "cell_type": "code",
   "execution_count": 3,
   "id": "63d78c2d-dd22-4f99-971b-ab57f544f25d",
   "metadata": {
    "tags": []
   },
   "outputs": [
    {
     "data": {
      "text/html": [
       "<div>\n",
       "<style scoped>\n",
       "    .dataframe tbody tr th:only-of-type {\n",
       "        vertical-align: middle;\n",
       "    }\n",
       "\n",
       "    .dataframe tbody tr th {\n",
       "        vertical-align: top;\n",
       "    }\n",
       "\n",
       "    .dataframe thead th {\n",
       "        text-align: right;\n",
       "    }\n",
       "</style>\n",
       "<table border=\"1\" class=\"dataframe\">\n",
       "  <thead>\n",
       "    <tr style=\"text-align: right;\">\n",
       "      <th></th>\n",
       "      <th>anio</th>\n",
       "      <th>poblacion_total</th>\n",
       "      <th>poblacion_varones</th>\n",
       "      <th>poblacion_mujeres</th>\n",
       "    </tr>\n",
       "    <tr>\n",
       "      <th>provincia</th>\n",
       "      <th></th>\n",
       "      <th></th>\n",
       "      <th></th>\n",
       "      <th></th>\n",
       "    </tr>\n",
       "  </thead>\n",
       "  <tbody>\n",
       "    <tr>\n",
       "      <th>Total País</th>\n",
       "      <td>2010</td>\n",
       "      <td>40788453</td>\n",
       "      <td>19940704</td>\n",
       "      <td>20847749</td>\n",
       "    </tr>\n",
       "    <tr>\n",
       "      <th>Total País</th>\n",
       "      <td>2011</td>\n",
       "      <td>41261490</td>\n",
       "      <td>20180791</td>\n",
       "      <td>21080699</td>\n",
       "    </tr>\n",
       "    <tr>\n",
       "      <th>Total País</th>\n",
       "      <td>2012</td>\n",
       "      <td>41733271</td>\n",
       "      <td>20420391</td>\n",
       "      <td>21312880</td>\n",
       "    </tr>\n",
       "    <tr>\n",
       "      <th>Total País</th>\n",
       "      <td>2013</td>\n",
       "      <td>42202935</td>\n",
       "      <td>20659037</td>\n",
       "      <td>21543898</td>\n",
       "    </tr>\n",
       "    <tr>\n",
       "      <th>Total País</th>\n",
       "      <td>2014</td>\n",
       "      <td>42669500</td>\n",
       "      <td>20896203</td>\n",
       "      <td>21773297</td>\n",
       "    </tr>\n",
       "  </tbody>\n",
       "</table>\n",
       "</div>"
      ],
      "text/plain": [
       "            anio  poblacion_total  poblacion_varones  poblacion_mujeres\n",
       "provincia                                                              \n",
       "Total País  2010         40788453           19940704           20847749\n",
       "Total País  2011         41261490           20180791           21080699\n",
       "Total País  2012         41733271           20420391           21312880\n",
       "Total País  2013         42202935           20659037           21543898\n",
       "Total País  2014         42669500           20896203           21773297"
      ]
     },
     "execution_count": 3,
     "metadata": {},
     "output_type": "execute_result"
    }
   ],
   "source": [
    "# Primeros 5 registros del DataFrame\n",
    "df.head()"
   ]
  },
  {
   "cell_type": "code",
   "execution_count": 4,
   "id": "f8eedaec-20a0-4e06-84cb-66b5055cebe6",
   "metadata": {
    "tags": []
   },
   "outputs": [
    {
     "data": {
      "text/html": [
       "<div>\n",
       "<style scoped>\n",
       "    .dataframe tbody tr th:only-of-type {\n",
       "        vertical-align: middle;\n",
       "    }\n",
       "\n",
       "    .dataframe tbody tr th {\n",
       "        vertical-align: top;\n",
       "    }\n",
       "\n",
       "    .dataframe thead th {\n",
       "        text-align: right;\n",
       "    }\n",
       "</style>\n",
       "<table border=\"1\" class=\"dataframe\">\n",
       "  <thead>\n",
       "    <tr style=\"text-align: right;\">\n",
       "      <th></th>\n",
       "      <th>provincia</th>\n",
       "      <th>anio</th>\n",
       "      <th>poblacion_total</th>\n",
       "      <th>poblacion_varones</th>\n",
       "      <th>poblacion_mujeres</th>\n",
       "    </tr>\n",
       "  </thead>\n",
       "  <tbody>\n",
       "    <tr>\n",
       "      <th>0</th>\n",
       "      <td>Total País</td>\n",
       "      <td>2010</td>\n",
       "      <td>40788453</td>\n",
       "      <td>19940704</td>\n",
       "      <td>20847749</td>\n",
       "    </tr>\n",
       "    <tr>\n",
       "      <th>1</th>\n",
       "      <td>Total País</td>\n",
       "      <td>2011</td>\n",
       "      <td>41261490</td>\n",
       "      <td>20180791</td>\n",
       "      <td>21080699</td>\n",
       "    </tr>\n",
       "    <tr>\n",
       "      <th>2</th>\n",
       "      <td>Total País</td>\n",
       "      <td>2012</td>\n",
       "      <td>41733271</td>\n",
       "      <td>20420391</td>\n",
       "      <td>21312880</td>\n",
       "    </tr>\n",
       "    <tr>\n",
       "      <th>3</th>\n",
       "      <td>Total País</td>\n",
       "      <td>2013</td>\n",
       "      <td>42202935</td>\n",
       "      <td>20659037</td>\n",
       "      <td>21543898</td>\n",
       "    </tr>\n",
       "    <tr>\n",
       "      <th>4</th>\n",
       "      <td>Total País</td>\n",
       "      <td>2014</td>\n",
       "      <td>42669500</td>\n",
       "      <td>20896203</td>\n",
       "      <td>21773297</td>\n",
       "    </tr>\n",
       "    <tr>\n",
       "      <th>5</th>\n",
       "      <td>Total País</td>\n",
       "      <td>2015</td>\n",
       "      <td>43131966</td>\n",
       "      <td>21131346</td>\n",
       "      <td>22000620</td>\n",
       "    </tr>\n",
       "    <tr>\n",
       "      <th>6</th>\n",
       "      <td>Total País</td>\n",
       "      <td>2016</td>\n",
       "      <td>43590368</td>\n",
       "      <td>21364470</td>\n",
       "      <td>22225898</td>\n",
       "    </tr>\n",
       "    <tr>\n",
       "      <th>7</th>\n",
       "      <td>Total País</td>\n",
       "      <td>2017</td>\n",
       "      <td>44044811</td>\n",
       "      <td>21595623</td>\n",
       "      <td>22449188</td>\n",
       "    </tr>\n",
       "    <tr>\n",
       "      <th>8</th>\n",
       "      <td>Total País</td>\n",
       "      <td>2018</td>\n",
       "      <td>44494502</td>\n",
       "      <td>21824372</td>\n",
       "      <td>22670130</td>\n",
       "    </tr>\n",
       "    <tr>\n",
       "      <th>9</th>\n",
       "      <td>Total País</td>\n",
       "      <td>2019</td>\n",
       "      <td>44938712</td>\n",
       "      <td>22050332</td>\n",
       "      <td>22888380</td>\n",
       "    </tr>\n",
       "    <tr>\n",
       "      <th>10</th>\n",
       "      <td>Total País</td>\n",
       "      <td>2020</td>\n",
       "      <td>45376763</td>\n",
       "      <td>22273132</td>\n",
       "      <td>23103631</td>\n",
       "    </tr>\n",
       "    <tr>\n",
       "      <th>11</th>\n",
       "      <td>Total País</td>\n",
       "      <td>2021</td>\n",
       "      <td>45808747</td>\n",
       "      <td>22492818</td>\n",
       "      <td>23315929</td>\n",
       "    </tr>\n",
       "    <tr>\n",
       "      <th>12</th>\n",
       "      <td>Total País</td>\n",
       "      <td>2022</td>\n",
       "      <td>46234830</td>\n",
       "      <td>22709478</td>\n",
       "      <td>23525352</td>\n",
       "    </tr>\n",
       "    <tr>\n",
       "      <th>13</th>\n",
       "      <td>Total País</td>\n",
       "      <td>2023</td>\n",
       "      <td>46654581</td>\n",
       "      <td>22922881</td>\n",
       "      <td>23731700</td>\n",
       "    </tr>\n",
       "    <tr>\n",
       "      <th>14</th>\n",
       "      <td>Total País</td>\n",
       "      <td>2024</td>\n",
       "      <td>47067641</td>\n",
       "      <td>23132846</td>\n",
       "      <td>23934795</td>\n",
       "    </tr>\n",
       "    <tr>\n",
       "      <th>15</th>\n",
       "      <td>Total País</td>\n",
       "      <td>2025</td>\n",
       "      <td>47473760</td>\n",
       "      <td>23339242</td>\n",
       "      <td>24134518</td>\n",
       "    </tr>\n",
       "    <tr>\n",
       "      <th>16</th>\n",
       "      <td>Total País</td>\n",
       "      <td>2026</td>\n",
       "      <td>47873268</td>\n",
       "      <td>23542251</td>\n",
       "      <td>24331017</td>\n",
       "    </tr>\n",
       "    <tr>\n",
       "      <th>17</th>\n",
       "      <td>Total País</td>\n",
       "      <td>2027</td>\n",
       "      <td>48266524</td>\n",
       "      <td>23742075</td>\n",
       "      <td>24524449</td>\n",
       "    </tr>\n",
       "    <tr>\n",
       "      <th>18</th>\n",
       "      <td>Total País</td>\n",
       "      <td>2028</td>\n",
       "      <td>48653385</td>\n",
       "      <td>23938645</td>\n",
       "      <td>24714740</td>\n",
       "    </tr>\n",
       "    <tr>\n",
       "      <th>19</th>\n",
       "      <td>Total País</td>\n",
       "      <td>2029</td>\n",
       "      <td>49033678</td>\n",
       "      <td>24131883</td>\n",
       "      <td>24901795</td>\n",
       "    </tr>\n",
       "    <tr>\n",
       "      <th>20</th>\n",
       "      <td>Total País</td>\n",
       "      <td>2030</td>\n",
       "      <td>49407265</td>\n",
       "      <td>24321729</td>\n",
       "      <td>25085536</td>\n",
       "    </tr>\n",
       "    <tr>\n",
       "      <th>21</th>\n",
       "      <td>Total País</td>\n",
       "      <td>2031</td>\n",
       "      <td>49774276</td>\n",
       "      <td>24508267</td>\n",
       "      <td>25266009</td>\n",
       "    </tr>\n",
       "    <tr>\n",
       "      <th>22</th>\n",
       "      <td>Total País</td>\n",
       "      <td>2032</td>\n",
       "      <td>50134861</td>\n",
       "      <td>24691585</td>\n",
       "      <td>25443276</td>\n",
       "    </tr>\n",
       "    <tr>\n",
       "      <th>23</th>\n",
       "      <td>Total País</td>\n",
       "      <td>2033</td>\n",
       "      <td>50488930</td>\n",
       "      <td>24871645</td>\n",
       "      <td>25617285</td>\n",
       "    </tr>\n",
       "    <tr>\n",
       "      <th>24</th>\n",
       "      <td>Total País</td>\n",
       "      <td>2034</td>\n",
       "      <td>50836373</td>\n",
       "      <td>25048401</td>\n",
       "      <td>25787972</td>\n",
       "    </tr>\n",
       "    <tr>\n",
       "      <th>25</th>\n",
       "      <td>Total País</td>\n",
       "      <td>2035</td>\n",
       "      <td>51177087</td>\n",
       "      <td>25221806</td>\n",
       "      <td>25955281</td>\n",
       "    </tr>\n",
       "    <tr>\n",
       "      <th>26</th>\n",
       "      <td>Total País</td>\n",
       "      <td>2036</td>\n",
       "      <td>51511042</td>\n",
       "      <td>25391854</td>\n",
       "      <td>26119188</td>\n",
       "    </tr>\n",
       "    <tr>\n",
       "      <th>27</th>\n",
       "      <td>Total País</td>\n",
       "      <td>2037</td>\n",
       "      <td>51838245</td>\n",
       "      <td>25558552</td>\n",
       "      <td>26279693</td>\n",
       "    </tr>\n",
       "    <tr>\n",
       "      <th>28</th>\n",
       "      <td>Total País</td>\n",
       "      <td>2038</td>\n",
       "      <td>52158610</td>\n",
       "      <td>25721856</td>\n",
       "      <td>26436754</td>\n",
       "    </tr>\n",
       "    <tr>\n",
       "      <th>29</th>\n",
       "      <td>Total País</td>\n",
       "      <td>2039</td>\n",
       "      <td>52472054</td>\n",
       "      <td>25881722</td>\n",
       "      <td>26590332</td>\n",
       "    </tr>\n",
       "    <tr>\n",
       "      <th>30</th>\n",
       "      <td>Total País</td>\n",
       "      <td>2040</td>\n",
       "      <td>52778477</td>\n",
       "      <td>26038093</td>\n",
       "      <td>26740384</td>\n",
       "    </tr>\n",
       "    <tr>\n",
       "      <th>31</th>\n",
       "      <td>Capital Federal</td>\n",
       "      <td>2010</td>\n",
       "      <td>3028481</td>\n",
       "      <td>1405566</td>\n",
       "      <td>1622915</td>\n",
       "    </tr>\n",
       "    <tr>\n",
       "      <th>32</th>\n",
       "      <td>Capital Federal</td>\n",
       "      <td>2011</td>\n",
       "      <td>3033639</td>\n",
       "      <td>1409835</td>\n",
       "      <td>1623804</td>\n",
       "    </tr>\n",
       "    <tr>\n",
       "      <th>33</th>\n",
       "      <td>Capital Federal</td>\n",
       "      <td>2012</td>\n",
       "      <td>3038860</td>\n",
       "      <td>1414105</td>\n",
       "      <td>1624755</td>\n",
       "    </tr>\n",
       "    <tr>\n",
       "      <th>34</th>\n",
       "      <td>Capital Federal</td>\n",
       "      <td>2013</td>\n",
       "      <td>3044076</td>\n",
       "      <td>1418339</td>\n",
       "      <td>1625737</td>\n",
       "    </tr>\n",
       "    <tr>\n",
       "      <th>35</th>\n",
       "      <td>Capital Federal</td>\n",
       "      <td>2014</td>\n",
       "      <td>3049229</td>\n",
       "      <td>1422507</td>\n",
       "      <td>1626722</td>\n",
       "    </tr>\n",
       "    <tr>\n",
       "      <th>36</th>\n",
       "      <td>Capital Federal</td>\n",
       "      <td>2015</td>\n",
       "      <td>3054267</td>\n",
       "      <td>1426582</td>\n",
       "      <td>1627685</td>\n",
       "    </tr>\n",
       "    <tr>\n",
       "      <th>37</th>\n",
       "      <td>Capital Federal</td>\n",
       "      <td>2016</td>\n",
       "      <td>3059122</td>\n",
       "      <td>1430531</td>\n",
       "      <td>1628591</td>\n",
       "    </tr>\n",
       "    <tr>\n",
       "      <th>38</th>\n",
       "      <td>Capital Federal</td>\n",
       "      <td>2017</td>\n",
       "      <td>3063728</td>\n",
       "      <td>1434323</td>\n",
       "      <td>1629405</td>\n",
       "    </tr>\n",
       "    <tr>\n",
       "      <th>39</th>\n",
       "      <td>Capital Federal</td>\n",
       "      <td>2018</td>\n",
       "      <td>3068043</td>\n",
       "      <td>1437936</td>\n",
       "      <td>1630107</td>\n",
       "    </tr>\n",
       "    <tr>\n",
       "      <th>40</th>\n",
       "      <td>Capital Federal</td>\n",
       "      <td>2019</td>\n",
       "      <td>3072029</td>\n",
       "      <td>1441350</td>\n",
       "      <td>1630679</td>\n",
       "    </tr>\n",
       "    <tr>\n",
       "      <th>41</th>\n",
       "      <td>Capital Federal</td>\n",
       "      <td>2020</td>\n",
       "      <td>3075646</td>\n",
       "      <td>1444545</td>\n",
       "      <td>1631101</td>\n",
       "    </tr>\n",
       "    <tr>\n",
       "      <th>42</th>\n",
       "      <td>Capital Federal</td>\n",
       "      <td>2021</td>\n",
       "      <td>3078836</td>\n",
       "      <td>1447495</td>\n",
       "      <td>1631341</td>\n",
       "    </tr>\n",
       "    <tr>\n",
       "      <th>43</th>\n",
       "      <td>Capital Federal</td>\n",
       "      <td>2022</td>\n",
       "      <td>3081550</td>\n",
       "      <td>1450179</td>\n",
       "      <td>1631371</td>\n",
       "    </tr>\n",
       "    <tr>\n",
       "      <th>44</th>\n",
       "      <td>Capital Federal</td>\n",
       "      <td>2023</td>\n",
       "      <td>3083770</td>\n",
       "      <td>1452588</td>\n",
       "      <td>1631182</td>\n",
       "    </tr>\n",
       "    <tr>\n",
       "      <th>45</th>\n",
       "      <td>Capital Federal</td>\n",
       "      <td>2024</td>\n",
       "      <td>3085483</td>\n",
       "      <td>1454716</td>\n",
       "      <td>1630767</td>\n",
       "    </tr>\n",
       "    <tr>\n",
       "      <th>46</th>\n",
       "      <td>Capital Federal</td>\n",
       "      <td>2025</td>\n",
       "      <td>3086680</td>\n",
       "      <td>1456560</td>\n",
       "      <td>1630120</td>\n",
       "    </tr>\n",
       "    <tr>\n",
       "      <th>47</th>\n",
       "      <td>Capital Federal</td>\n",
       "      <td>2026</td>\n",
       "      <td>3087338</td>\n",
       "      <td>1458111</td>\n",
       "      <td>1629227</td>\n",
       "    </tr>\n",
       "    <tr>\n",
       "      <th>48</th>\n",
       "      <td>Capital Federal</td>\n",
       "      <td>2027</td>\n",
       "      <td>3087434</td>\n",
       "      <td>1459359</td>\n",
       "      <td>1628075</td>\n",
       "    </tr>\n",
       "    <tr>\n",
       "      <th>49</th>\n",
       "      <td>Capital Federal</td>\n",
       "      <td>2028</td>\n",
       "      <td>3086973</td>\n",
       "      <td>1460309</td>\n",
       "      <td>1626664</td>\n",
       "    </tr>\n",
       "  </tbody>\n",
       "</table>\n",
       "</div>"
      ],
      "text/plain": [
       "          provincia  anio  poblacion_total  poblacion_varones  \\\n",
       "0        Total País  2010         40788453           19940704   \n",
       "1        Total País  2011         41261490           20180791   \n",
       "2        Total País  2012         41733271           20420391   \n",
       "3        Total País  2013         42202935           20659037   \n",
       "4        Total País  2014         42669500           20896203   \n",
       "5        Total País  2015         43131966           21131346   \n",
       "6        Total País  2016         43590368           21364470   \n",
       "7        Total País  2017         44044811           21595623   \n",
       "8        Total País  2018         44494502           21824372   \n",
       "9        Total País  2019         44938712           22050332   \n",
       "10       Total País  2020         45376763           22273132   \n",
       "11       Total País  2021         45808747           22492818   \n",
       "12       Total País  2022         46234830           22709478   \n",
       "13       Total País  2023         46654581           22922881   \n",
       "14       Total País  2024         47067641           23132846   \n",
       "15       Total País  2025         47473760           23339242   \n",
       "16       Total País  2026         47873268           23542251   \n",
       "17       Total País  2027         48266524           23742075   \n",
       "18       Total País  2028         48653385           23938645   \n",
       "19       Total País  2029         49033678           24131883   \n",
       "20       Total País  2030         49407265           24321729   \n",
       "21       Total País  2031         49774276           24508267   \n",
       "22       Total País  2032         50134861           24691585   \n",
       "23       Total País  2033         50488930           24871645   \n",
       "24       Total País  2034         50836373           25048401   \n",
       "25       Total País  2035         51177087           25221806   \n",
       "26       Total País  2036         51511042           25391854   \n",
       "27       Total País  2037         51838245           25558552   \n",
       "28       Total País  2038         52158610           25721856   \n",
       "29       Total País  2039         52472054           25881722   \n",
       "30       Total País  2040         52778477           26038093   \n",
       "31  Capital Federal  2010          3028481            1405566   \n",
       "32  Capital Federal  2011          3033639            1409835   \n",
       "33  Capital Federal  2012          3038860            1414105   \n",
       "34  Capital Federal  2013          3044076            1418339   \n",
       "35  Capital Federal  2014          3049229            1422507   \n",
       "36  Capital Federal  2015          3054267            1426582   \n",
       "37  Capital Federal  2016          3059122            1430531   \n",
       "38  Capital Federal  2017          3063728            1434323   \n",
       "39  Capital Federal  2018          3068043            1437936   \n",
       "40  Capital Federal  2019          3072029            1441350   \n",
       "41  Capital Federal  2020          3075646            1444545   \n",
       "42  Capital Federal  2021          3078836            1447495   \n",
       "43  Capital Federal  2022          3081550            1450179   \n",
       "44  Capital Federal  2023          3083770            1452588   \n",
       "45  Capital Federal  2024          3085483            1454716   \n",
       "46  Capital Federal  2025          3086680            1456560   \n",
       "47  Capital Federal  2026          3087338            1458111   \n",
       "48  Capital Federal  2027          3087434            1459359   \n",
       "49  Capital Federal  2028          3086973            1460309   \n",
       "\n",
       "    poblacion_mujeres  \n",
       "0            20847749  \n",
       "1            21080699  \n",
       "2            21312880  \n",
       "3            21543898  \n",
       "4            21773297  \n",
       "5            22000620  \n",
       "6            22225898  \n",
       "7            22449188  \n",
       "8            22670130  \n",
       "9            22888380  \n",
       "10           23103631  \n",
       "11           23315929  \n",
       "12           23525352  \n",
       "13           23731700  \n",
       "14           23934795  \n",
       "15           24134518  \n",
       "16           24331017  \n",
       "17           24524449  \n",
       "18           24714740  \n",
       "19           24901795  \n",
       "20           25085536  \n",
       "21           25266009  \n",
       "22           25443276  \n",
       "23           25617285  \n",
       "24           25787972  \n",
       "25           25955281  \n",
       "26           26119188  \n",
       "27           26279693  \n",
       "28           26436754  \n",
       "29           26590332  \n",
       "30           26740384  \n",
       "31            1622915  \n",
       "32            1623804  \n",
       "33            1624755  \n",
       "34            1625737  \n",
       "35            1626722  \n",
       "36            1627685  \n",
       "37            1628591  \n",
       "38            1629405  \n",
       "39            1630107  \n",
       "40            1630679  \n",
       "41            1631101  \n",
       "42            1631341  \n",
       "43            1631371  \n",
       "44            1631182  \n",
       "45            1630767  \n",
       "46            1630120  \n",
       "47            1629227  \n",
       "48            1628075  \n",
       "49            1626664  "
      ]
     },
     "execution_count": 4,
     "metadata": {},
     "output_type": "execute_result"
    }
   ],
   "source": [
    "# Reseteamos el 'index'\n",
    "df = df.reset_index()\n",
    "\n",
    "# Visualizacion de los primeros 50 registros.\n",
    "df.head(50)"
   ]
  },
  {
   "cell_type": "code",
   "execution_count": 5,
   "id": "2b5ab261-674c-426f-8bc8-032acb6189cc",
   "metadata": {},
   "outputs": [
    {
     "data": {
      "text/html": [
       "<div>\n",
       "<style scoped>\n",
       "    .dataframe tbody tr th:only-of-type {\n",
       "        vertical-align: middle;\n",
       "    }\n",
       "\n",
       "    .dataframe tbody tr th {\n",
       "        vertical-align: top;\n",
       "    }\n",
       "\n",
       "    .dataframe thead th {\n",
       "        text-align: right;\n",
       "    }\n",
       "</style>\n",
       "<table border=\"1\" class=\"dataframe\">\n",
       "  <thead>\n",
       "    <tr style=\"text-align: right;\">\n",
       "      <th></th>\n",
       "      <th>provincia</th>\n",
       "      <th>anio</th>\n",
       "      <th>poblacion_total</th>\n",
       "      <th>poblacion_varones</th>\n",
       "      <th>poblacion_mujeres</th>\n",
       "    </tr>\n",
       "  </thead>\n",
       "  <tbody>\n",
       "    <tr>\n",
       "      <th>770</th>\n",
       "      <td>Tierra del Fuego</td>\n",
       "      <td>2036</td>\n",
       "      <td>241593</td>\n",
       "      <td>122567</td>\n",
       "      <td>119026</td>\n",
       "    </tr>\n",
       "    <tr>\n",
       "      <th>771</th>\n",
       "      <td>Tierra del Fuego</td>\n",
       "      <td>2037</td>\n",
       "      <td>245734</td>\n",
       "      <td>124625</td>\n",
       "      <td>121109</td>\n",
       "    </tr>\n",
       "    <tr>\n",
       "      <th>772</th>\n",
       "      <td>Tierra del Fuego</td>\n",
       "      <td>2038</td>\n",
       "      <td>249853</td>\n",
       "      <td>126670</td>\n",
       "      <td>123183</td>\n",
       "    </tr>\n",
       "    <tr>\n",
       "      <th>773</th>\n",
       "      <td>Tierra del Fuego</td>\n",
       "      <td>2039</td>\n",
       "      <td>253948</td>\n",
       "      <td>128702</td>\n",
       "      <td>125246</td>\n",
       "    </tr>\n",
       "    <tr>\n",
       "      <th>774</th>\n",
       "      <td>Tierra del Fuego</td>\n",
       "      <td>2040</td>\n",
       "      <td>258020</td>\n",
       "      <td>130721</td>\n",
       "      <td>127299</td>\n",
       "    </tr>\n",
       "  </tbody>\n",
       "</table>\n",
       "</div>"
      ],
      "text/plain": [
       "            provincia  anio  poblacion_total  poblacion_varones  \\\n",
       "770  Tierra del Fuego  2036           241593             122567   \n",
       "771  Tierra del Fuego  2037           245734             124625   \n",
       "772  Tierra del Fuego  2038           249853             126670   \n",
       "773  Tierra del Fuego  2039           253948             128702   \n",
       "774  Tierra del Fuego  2040           258020             130721   \n",
       "\n",
       "     poblacion_mujeres  \n",
       "770             119026  \n",
       "771             121109  \n",
       "772             123183  \n",
       "773             125246  \n",
       "774             127299  "
      ]
     },
     "execution_count": 5,
     "metadata": {},
     "output_type": "execute_result"
    }
   ],
   "source": [
    "# Ultimos 5 registros de DataFrame\n",
    "df.tail()"
   ]
  },
  {
   "cell_type": "code",
   "execution_count": 6,
   "id": "9bee8169-ae85-47e9-9ea9-fb7c9871abe7",
   "metadata": {
    "tags": []
   },
   "outputs": [
    {
     "data": {
      "text/plain": [
       "(775, 5)"
      ]
     },
     "execution_count": 6,
     "metadata": {},
     "output_type": "execute_result"
    }
   ],
   "source": [
    "# Dimension del DataFrame\n",
    "df.shape"
   ]
  },
  {
   "cell_type": "code",
   "execution_count": 7,
   "id": "bf4735aa-c737-4b83-b1a2-2d6d4661a194",
   "metadata": {
    "tags": []
   },
   "outputs": [
    {
     "data": {
      "text/plain": [
       "Index(['provincia', 'anio', 'poblacion_total', 'poblacion_varones',\n",
       "       'poblacion_mujeres'],\n",
       "      dtype='object')"
      ]
     },
     "execution_count": 7,
     "metadata": {},
     "output_type": "execute_result"
    }
   ],
   "source": [
    "# Label de las columnas y tipos de datos\n",
    "df.columns"
   ]
  },
  {
   "cell_type": "code",
   "execution_count": 8,
   "id": "65f9190b-844f-44a6-8b0d-bae31f9c80ed",
   "metadata": {
    "tags": []
   },
   "outputs": [
    {
     "name": "stdout",
     "output_type": "stream",
     "text": [
      "<class 'pandas.core.frame.DataFrame'>\n",
      "RangeIndex: 775 entries, 0 to 774\n",
      "Data columns (total 5 columns):\n",
      " #   Column             Non-Null Count  Dtype \n",
      "---  ------             --------------  ----- \n",
      " 0   provincia          775 non-null    object\n",
      " 1   anio               775 non-null    int64 \n",
      " 2   poblacion_total    775 non-null    int64 \n",
      " 3   poblacion_varones  775 non-null    int64 \n",
      " 4   poblacion_mujeres  775 non-null    int64 \n",
      "dtypes: int64(4), object(1)\n",
      "memory usage: 30.4+ KB\n"
     ]
    }
   ],
   "source": [
    "# Informacion de la tabla y Tipos de datos de las columnas (int64=integer de 64 bits)\n",
    "df.info()"
   ]
  },
  {
   "cell_type": "markdown",
   "id": "881c53eb-8059-4b83-987f-c5d2790cac7f",
   "metadata": {},
   "source": [
    "# Comenzamos a filtrar el DataFrame, dejando solo la provincia 'Total País', que es con los datos que trabajeremos."
   ]
  },
  {
   "cell_type": "markdown",
   "id": "e8904ade-3a89-44c3-8acc-b395fa24d61d",
   "metadata": {},
   "source": [
    "### Este nuevo DataFrame lo almacenamos en df_1, que es df con el que trabajaremos."
   ]
  },
  {
   "cell_type": "code",
   "execution_count": 9,
   "id": "33b8410b-4fc8-43da-81c2-92a9a5256c25",
   "metadata": {},
   "outputs": [
    {
     "data": {
      "text/html": [
       "<div>\n",
       "<style scoped>\n",
       "    .dataframe tbody tr th:only-of-type {\n",
       "        vertical-align: middle;\n",
       "    }\n",
       "\n",
       "    .dataframe tbody tr th {\n",
       "        vertical-align: top;\n",
       "    }\n",
       "\n",
       "    .dataframe thead th {\n",
       "        text-align: right;\n",
       "    }\n",
       "</style>\n",
       "<table border=\"1\" class=\"dataframe\">\n",
       "  <thead>\n",
       "    <tr style=\"text-align: right;\">\n",
       "      <th></th>\n",
       "      <th>provincia</th>\n",
       "      <th>anio</th>\n",
       "      <th>poblacion_total</th>\n",
       "      <th>poblacion_varones</th>\n",
       "      <th>poblacion_mujeres</th>\n",
       "    </tr>\n",
       "  </thead>\n",
       "  <tbody>\n",
       "    <tr>\n",
       "      <th>0</th>\n",
       "      <td>Total País</td>\n",
       "      <td>2010</td>\n",
       "      <td>40788453</td>\n",
       "      <td>19940704</td>\n",
       "      <td>20847749</td>\n",
       "    </tr>\n",
       "    <tr>\n",
       "      <th>1</th>\n",
       "      <td>Total País</td>\n",
       "      <td>2011</td>\n",
       "      <td>41261490</td>\n",
       "      <td>20180791</td>\n",
       "      <td>21080699</td>\n",
       "    </tr>\n",
       "    <tr>\n",
       "      <th>2</th>\n",
       "      <td>Total País</td>\n",
       "      <td>2012</td>\n",
       "      <td>41733271</td>\n",
       "      <td>20420391</td>\n",
       "      <td>21312880</td>\n",
       "    </tr>\n",
       "    <tr>\n",
       "      <th>3</th>\n",
       "      <td>Total País</td>\n",
       "      <td>2013</td>\n",
       "      <td>42202935</td>\n",
       "      <td>20659037</td>\n",
       "      <td>21543898</td>\n",
       "    </tr>\n",
       "    <tr>\n",
       "      <th>4</th>\n",
       "      <td>Total País</td>\n",
       "      <td>2014</td>\n",
       "      <td>42669500</td>\n",
       "      <td>20896203</td>\n",
       "      <td>21773297</td>\n",
       "    </tr>\n",
       "    <tr>\n",
       "      <th>5</th>\n",
       "      <td>Total País</td>\n",
       "      <td>2015</td>\n",
       "      <td>43131966</td>\n",
       "      <td>21131346</td>\n",
       "      <td>22000620</td>\n",
       "    </tr>\n",
       "    <tr>\n",
       "      <th>6</th>\n",
       "      <td>Total País</td>\n",
       "      <td>2016</td>\n",
       "      <td>43590368</td>\n",
       "      <td>21364470</td>\n",
       "      <td>22225898</td>\n",
       "    </tr>\n",
       "    <tr>\n",
       "      <th>7</th>\n",
       "      <td>Total País</td>\n",
       "      <td>2017</td>\n",
       "      <td>44044811</td>\n",
       "      <td>21595623</td>\n",
       "      <td>22449188</td>\n",
       "    </tr>\n",
       "    <tr>\n",
       "      <th>8</th>\n",
       "      <td>Total País</td>\n",
       "      <td>2018</td>\n",
       "      <td>44494502</td>\n",
       "      <td>21824372</td>\n",
       "      <td>22670130</td>\n",
       "    </tr>\n",
       "    <tr>\n",
       "      <th>9</th>\n",
       "      <td>Total País</td>\n",
       "      <td>2019</td>\n",
       "      <td>44938712</td>\n",
       "      <td>22050332</td>\n",
       "      <td>22888380</td>\n",
       "    </tr>\n",
       "    <tr>\n",
       "      <th>10</th>\n",
       "      <td>Total País</td>\n",
       "      <td>2020</td>\n",
       "      <td>45376763</td>\n",
       "      <td>22273132</td>\n",
       "      <td>23103631</td>\n",
       "    </tr>\n",
       "    <tr>\n",
       "      <th>11</th>\n",
       "      <td>Total País</td>\n",
       "      <td>2021</td>\n",
       "      <td>45808747</td>\n",
       "      <td>22492818</td>\n",
       "      <td>23315929</td>\n",
       "    </tr>\n",
       "    <tr>\n",
       "      <th>12</th>\n",
       "      <td>Total País</td>\n",
       "      <td>2022</td>\n",
       "      <td>46234830</td>\n",
       "      <td>22709478</td>\n",
       "      <td>23525352</td>\n",
       "    </tr>\n",
       "    <tr>\n",
       "      <th>13</th>\n",
       "      <td>Total País</td>\n",
       "      <td>2023</td>\n",
       "      <td>46654581</td>\n",
       "      <td>22922881</td>\n",
       "      <td>23731700</td>\n",
       "    </tr>\n",
       "    <tr>\n",
       "      <th>14</th>\n",
       "      <td>Total País</td>\n",
       "      <td>2024</td>\n",
       "      <td>47067641</td>\n",
       "      <td>23132846</td>\n",
       "      <td>23934795</td>\n",
       "    </tr>\n",
       "    <tr>\n",
       "      <th>15</th>\n",
       "      <td>Total País</td>\n",
       "      <td>2025</td>\n",
       "      <td>47473760</td>\n",
       "      <td>23339242</td>\n",
       "      <td>24134518</td>\n",
       "    </tr>\n",
       "    <tr>\n",
       "      <th>16</th>\n",
       "      <td>Total País</td>\n",
       "      <td>2026</td>\n",
       "      <td>47873268</td>\n",
       "      <td>23542251</td>\n",
       "      <td>24331017</td>\n",
       "    </tr>\n",
       "    <tr>\n",
       "      <th>17</th>\n",
       "      <td>Total País</td>\n",
       "      <td>2027</td>\n",
       "      <td>48266524</td>\n",
       "      <td>23742075</td>\n",
       "      <td>24524449</td>\n",
       "    </tr>\n",
       "    <tr>\n",
       "      <th>18</th>\n",
       "      <td>Total País</td>\n",
       "      <td>2028</td>\n",
       "      <td>48653385</td>\n",
       "      <td>23938645</td>\n",
       "      <td>24714740</td>\n",
       "    </tr>\n",
       "    <tr>\n",
       "      <th>19</th>\n",
       "      <td>Total País</td>\n",
       "      <td>2029</td>\n",
       "      <td>49033678</td>\n",
       "      <td>24131883</td>\n",
       "      <td>24901795</td>\n",
       "    </tr>\n",
       "    <tr>\n",
       "      <th>20</th>\n",
       "      <td>Total País</td>\n",
       "      <td>2030</td>\n",
       "      <td>49407265</td>\n",
       "      <td>24321729</td>\n",
       "      <td>25085536</td>\n",
       "    </tr>\n",
       "    <tr>\n",
       "      <th>21</th>\n",
       "      <td>Total País</td>\n",
       "      <td>2031</td>\n",
       "      <td>49774276</td>\n",
       "      <td>24508267</td>\n",
       "      <td>25266009</td>\n",
       "    </tr>\n",
       "    <tr>\n",
       "      <th>22</th>\n",
       "      <td>Total País</td>\n",
       "      <td>2032</td>\n",
       "      <td>50134861</td>\n",
       "      <td>24691585</td>\n",
       "      <td>25443276</td>\n",
       "    </tr>\n",
       "    <tr>\n",
       "      <th>23</th>\n",
       "      <td>Total País</td>\n",
       "      <td>2033</td>\n",
       "      <td>50488930</td>\n",
       "      <td>24871645</td>\n",
       "      <td>25617285</td>\n",
       "    </tr>\n",
       "    <tr>\n",
       "      <th>24</th>\n",
       "      <td>Total País</td>\n",
       "      <td>2034</td>\n",
       "      <td>50836373</td>\n",
       "      <td>25048401</td>\n",
       "      <td>25787972</td>\n",
       "    </tr>\n",
       "    <tr>\n",
       "      <th>25</th>\n",
       "      <td>Total País</td>\n",
       "      <td>2035</td>\n",
       "      <td>51177087</td>\n",
       "      <td>25221806</td>\n",
       "      <td>25955281</td>\n",
       "    </tr>\n",
       "    <tr>\n",
       "      <th>26</th>\n",
       "      <td>Total País</td>\n",
       "      <td>2036</td>\n",
       "      <td>51511042</td>\n",
       "      <td>25391854</td>\n",
       "      <td>26119188</td>\n",
       "    </tr>\n",
       "    <tr>\n",
       "      <th>27</th>\n",
       "      <td>Total País</td>\n",
       "      <td>2037</td>\n",
       "      <td>51838245</td>\n",
       "      <td>25558552</td>\n",
       "      <td>26279693</td>\n",
       "    </tr>\n",
       "    <tr>\n",
       "      <th>28</th>\n",
       "      <td>Total País</td>\n",
       "      <td>2038</td>\n",
       "      <td>52158610</td>\n",
       "      <td>25721856</td>\n",
       "      <td>26436754</td>\n",
       "    </tr>\n",
       "    <tr>\n",
       "      <th>29</th>\n",
       "      <td>Total País</td>\n",
       "      <td>2039</td>\n",
       "      <td>52472054</td>\n",
       "      <td>25881722</td>\n",
       "      <td>26590332</td>\n",
       "    </tr>\n",
       "    <tr>\n",
       "      <th>30</th>\n",
       "      <td>Total País</td>\n",
       "      <td>2040</td>\n",
       "      <td>52778477</td>\n",
       "      <td>26038093</td>\n",
       "      <td>26740384</td>\n",
       "    </tr>\n",
       "  </tbody>\n",
       "</table>\n",
       "</div>"
      ],
      "text/plain": [
       "     provincia  anio  poblacion_total  poblacion_varones  poblacion_mujeres\n",
       "0   Total País  2010         40788453           19940704           20847749\n",
       "1   Total País  2011         41261490           20180791           21080699\n",
       "2   Total País  2012         41733271           20420391           21312880\n",
       "3   Total País  2013         42202935           20659037           21543898\n",
       "4   Total País  2014         42669500           20896203           21773297\n",
       "5   Total País  2015         43131966           21131346           22000620\n",
       "6   Total País  2016         43590368           21364470           22225898\n",
       "7   Total País  2017         44044811           21595623           22449188\n",
       "8   Total País  2018         44494502           21824372           22670130\n",
       "9   Total País  2019         44938712           22050332           22888380\n",
       "10  Total País  2020         45376763           22273132           23103631\n",
       "11  Total País  2021         45808747           22492818           23315929\n",
       "12  Total País  2022         46234830           22709478           23525352\n",
       "13  Total País  2023         46654581           22922881           23731700\n",
       "14  Total País  2024         47067641           23132846           23934795\n",
       "15  Total País  2025         47473760           23339242           24134518\n",
       "16  Total País  2026         47873268           23542251           24331017\n",
       "17  Total País  2027         48266524           23742075           24524449\n",
       "18  Total País  2028         48653385           23938645           24714740\n",
       "19  Total País  2029         49033678           24131883           24901795\n",
       "20  Total País  2030         49407265           24321729           25085536\n",
       "21  Total País  2031         49774276           24508267           25266009\n",
       "22  Total País  2032         50134861           24691585           25443276\n",
       "23  Total País  2033         50488930           24871645           25617285\n",
       "24  Total País  2034         50836373           25048401           25787972\n",
       "25  Total País  2035         51177087           25221806           25955281\n",
       "26  Total País  2036         51511042           25391854           26119188\n",
       "27  Total País  2037         51838245           25558552           26279693\n",
       "28  Total País  2038         52158610           25721856           26436754\n",
       "29  Total País  2039         52472054           25881722           26590332\n",
       "30  Total País  2040         52778477           26038093           26740384"
      ]
     },
     "execution_count": 9,
     "metadata": {},
     "output_type": "execute_result"
    }
   ],
   "source": [
    "# Dejamos solo 'Total País'\n",
    "df_1=df[ df[('provincia')] == ('Total País') ]\n",
    "\n",
    "df_1"
   ]
  },
  {
   "cell_type": "code",
   "execution_count": 10,
   "id": "2f5fe206-ef95-495a-b3bb-0e1e132984f7",
   "metadata": {
    "tags": []
   },
   "outputs": [
    {
     "data": {
      "text/plain": [
       "(31, 5)"
      ]
     },
     "execution_count": 10,
     "metadata": {},
     "output_type": "execute_result"
    }
   ],
   "source": [
    "df_1.shape"
   ]
  },
  {
   "cell_type": "markdown",
   "id": "ea516f22-2bf6-4017-9167-7051fc8cb24b",
   "metadata": {},
   "source": [
    "## Corroboramos que solo tengamos 'Total País' y ademas tenemos registros anteriores, presentes y proyeccion de futuros, ideal para graficas de proyecciones."
   ]
  },
  {
   "cell_type": "markdown",
   "id": "a34e0135-3831-4027-9f56-ed46dbfeb5fb",
   "metadata": {},
   "source": [
    "# Distribución de una variable"
   ]
  },
  {
   "cell_type": "markdown",
   "id": "c8e41459-82a8-45cc-9e88-4b0d8a4f3a94",
   "metadata": {},
   "source": [
    "## Histograma de variables 'poblacion_total'\n",
    "## Usando matplot."
   ]
  },
  {
   "cell_type": "code",
   "execution_count": 11,
   "id": "7ecf03d5-7ad3-4c61-842d-5d2c3ec7e9ad",
   "metadata": {
    "tags": []
   },
   "outputs": [
    {
     "data": {
      "image/png": "[encoded data removed]",
      "text/plain": [
       "<Figure size 640x480 with 1 Axes>"
      ]
     },
     "metadata": {},
     "output_type": "display_data"
    }
   ],
   "source": [
    "# histograma con lineas de barras y transparencia de color\n",
    "plt.hist(df_1[\"poblacion_total\"], edgecolor=(\"black\"), alpha=0.2)\n",
    "#título del histograma.\n",
    "plt.title (\"Histograma Población Total\")\n",
    "# label eje x\n",
    "plt.xlabel (\"Población\")\n",
    "# label eje y\n",
    "plt.ylabel (\"Frecuencia\")\n",
    "# anotación del histograma, tamaño de letra\n",
    "plt.suptitle (\"Elaborado por:HEMP, 28/09/2023, Fuente: Bases de datos públicas de la República Argentina\", fontsize=6)\n",
    "\n",
    "plt.show()"
   ]
  },
  {
   "cell_type": "raw",
   "id": "a203ba2c-e4c5-4d92-9395-2910ae5cba07",
   "metadata": {},
   "source": []
  },
  {
   "cell_type": "markdown",
   "id": "f5fa7477-8603-41e6-9f52-2a6bba205207",
   "metadata": {},
   "source": [
    "## Histograma de variables 'poblacion_total'\n",
    "\n",
    "### Usando seaborn"
   ]
  },
  {
   "cell_type": "code",
   "execution_count": 12,
   "id": "040601cb-f4d9-486a-8075-55c6e18853e2",
   "metadata": {
    "tags": []
   },
   "outputs": [
    {
     "data": {
      "image/png": "[encoded data removed]",
      "text/plain": [
       "<Figure size 640x480 with 1 Axes>"
      ]
     },
     "metadata": {},
     "output_type": "display_data"
    }
   ],
   "source": [
    "# histograma con 'bins', frecuencia relativa y curva de distribucion (kde)\n",
    "sns.histplot(data=df_1, x='poblacion_total', bins=6, stat='probability', kde=True)\n",
    "#título del histograma.\n",
    "plt.title (\"Histograma Población Total\")\n",
    "# label eje x\n",
    "plt.xlabel (\"Población\")\n",
    "# label eje y\n",
    "plt.ylabel (\"Frecuencia relativa\")\n",
    "# anotación del histograma, tamaño de letra\n",
    "plt.suptitle (\"Elaborado por:HEMP, 28/09/2023, Fuente: Bases de datos públicas de la República Argentina\", fontsize=6)\n",
    "\n",
    "plt.show()"
   ]
  },
  {
   "cell_type": "raw",
   "id": "18e25d2b-0134-455a-99bd-7e1b0b15be1f",
   "metadata": {},
   "source": []
  },
  {
   "cell_type": "markdown",
   "id": "ceef7f5b-f5fb-4a93-8146-1be1a9e44074",
   "metadata": {
    "tags": []
   },
   "source": [
    "# Relación entre dos variables"
   ]
  },
  {
   "cell_type": "markdown",
   "id": "6d17d57c-ff96-4917-9e7e-d5a6cef517c3",
   "metadata": {
    "tags": []
   },
   "source": [
    "## Gráfico de lineas, evolucion de 'poblacion_total' por 'años'"
   ]
  },
  {
   "cell_type": "code",
   "execution_count": 13,
   "id": "0963e0c2-e23d-47d8-81ba-fa31423741b7",
   "metadata": {},
   "outputs": [
    {
     "data": {
      "image/png": "[encoded data removed]",
      "text/plain": [
       "<Figure size 640x480 with 1 Axes>"
      ]
     },
     "metadata": {},
     "output_type": "display_data"
    }
   ],
   "source": [
    "# Graficamos poblacion total vs años\n",
    "df_1.plot(x = \"anio\", y = \"poblacion_total\")\n",
    "# label eje x\n",
    "plt.xlabel ( 'años')\n",
    "# label eje y\n",
    "plt.ylabel ( 'población' )\n",
    "# título del gráfico.\n",
    "plt.title('Evolucion de habitantes/año')\n",
    "\n",
    "plt.show()"
   ]
  },
  {
   "cell_type": "markdown",
   "id": "c00f3c93-fcaf-489f-b9a6-6ad7a4d6c2c5",
   "metadata": {},
   "source": [
    "## Histograma de 2 variables:'poblacion_varones' y 'poblacion_mujeres'"
   ]
  },
  {
   "cell_type": "code",
   "execution_count": 14,
   "id": "176a91ad-ecd4-41d9-b8b8-d2254e07da97",
   "metadata": {
    "tags": []
   },
   "outputs": [
    {
     "data": {
      "image/png": "[encoded data removed]",
      "text/plain": [
       "<Figure size 640x480 with 2 Axes>"
      ]
     },
     "metadata": {},
     "output_type": "display_data"
    }
   ],
   "source": [
    "fig, axs = plt.subplots(2, sharey=True)\n",
    "\n",
    "# Graficar la población de varones\n",
    "axs[0].hist(df_1[\"poblacion_varones\"], label=\"Población varones\")\n",
    "\n",
    "# Graficar la población de mujeres \n",
    "axs[1].hist(df_1[\"poblacion_mujeres\"], label=\"Población mujeres\")\n",
    "\n",
    "# Agregar etiquetas a los ejes\n",
    "\n",
    "axs[0].set_xlabel(\"Población\")\n",
    "axs[0].set_ylabel(\"Frecuencia\")\n",
    "axs[1].set_ylabel(\"Frecuencia\")\n",
    "axs[0].legend()\n",
    "axs[1].legend()\n",
    "\n",
    "plt.show()"
   ]
  },
  {
   "cell_type": "raw",
   "id": "c31f3fc9-925e-46e0-8ab9-b9fdf20ae0f8",
   "metadata": {},
   "source": []
  },
  {
   "cell_type": "markdown",
   "id": "587042ff-507f-4607-b39e-64a0836d936a",
   "metadata": {},
   "source": [
    "## Grafico de lineas, variables 'varones' y 'mujeres'. Evolución por años"
   ]
  },
  {
   "cell_type": "code",
   "execution_count": 15,
   "id": "7e956827-c61f-47b0-bbe8-8f70c66a2bd0",
   "metadata": {
    "tags": []
   },
   "outputs": [
    {
     "data": {
      "image/png": "[encoded data removed]",
      "text/plain": [
       "<Figure size 640x480 with 2 Axes>"
      ]
     },
     "metadata": {},
     "output_type": "display_data"
    }
   ],
   "source": [
    "fig, ax = plt.subplots()\n",
    "\n",
    "# Graficar la población 'varones'\n",
    "ax.plot(df_1[\"anio\"], df_1[\"poblacion_varones\"], label=\"Población varones\")\n",
    "\n",
    "# Graficar la población 'mujeres'\n",
    "ax.twinx()\n",
    "ax.plot(df_1[\"anio\"], df_1[\"poblacion_mujeres\"], label=\"Población mujeres\")\n",
    "\n",
    "# Agregar etiquetas a los ejes\n",
    "ax.set_xlabel(\"Año\")\n",
    "ax.set_ylabel(\"Población\")\n",
    "ax.legend()\n",
    "\n",
    "plt.title (\"Crecimiento de Población de Varones/Mujeres\")\n",
    "\n",
    "plt.show()"
   ]
  },
  {
   "cell_type": "raw",
   "id": "a7871793-3969-4adf-9665-fd1c391b335b",
   "metadata": {},
   "source": []
  },
  {
   "cell_type": "code",
   "execution_count": null,
   "id": "449e8d6b-5ab0-4f3a-8dfd-2f2a474d534d",
   "metadata": {},
   "outputs": [],
   "source": []
  },
  {
   "cell_type": "markdown",
   "id": "fb1f80f0-e9af-4ff4-8fc8-7d320a42088c",
   "metadata": {},
   "source": [
    "## Gráfico de barras evolución de la poblacion total a través de los años."
   ]
  },
  {
   "cell_type": "code",
   "execution_count": 16,
   "id": "d6215dd8-00df-423e-9392-729cb54cca89",
   "metadata": {
    "tags": []
   },
   "outputs": [
    {
     "data": {
      "image/png": "[encoded data removed]",
      "text/plain": [
       "<Figure size 640x480 with 1 Axes>"
      ]
     },
     "metadata": {},
     "output_type": "display_data"
    }
   ],
   "source": [
    "# Graficar la población 'varones'\n",
    "plt.bar(df_1[\"anio\"], df_1[\"poblacion_total\"], edgecolor=('black'), alpha=0.4)\n",
    "\n",
    "# Agregar etiquetas a los ejes\n",
    "plt.xlabel(\"Año\")\n",
    "plt.ylabel(\"Población\")\n",
    "# título del gráfico\n",
    "plt.title (\"Población Total vs Años\")\n",
    "# anotaciones\n",
    "plt.suptitle (\"Elaborado por:HEMP, 28/09/2023, Fuente: Bases de datos públicas de la República Argentina\", fontsize=6)\n",
    "\n",
    "plt.show()"
   ]
  },
  {
   "cell_type": "raw",
   "id": "dba47148-7b8e-4f01-969f-b5d90c5f1270",
   "metadata": {},
   "source": []
  },
  {
   "cell_type": "markdown",
   "id": "77093a18-f9ab-4883-9657-9ed0325b8603",
   "metadata": {},
   "source": [
    "## Gráfico de barras apiladas de 'poblacion_varones' y 'poblacion_mujeres´"
   ]
  },
  {
   "cell_type": "code",
   "execution_count": 17,
   "id": "57edd3d6-f836-4406-9e62-534187dc0f0b",
   "metadata": {
    "tags": []
   },
   "outputs": [
    {
     "data": {
      "image/png": "[encoded data removed]",
      "text/plain": [
       "<Figure size 640x480 with 1 Axes>"
      ]
     },
     "metadata": {},
     "output_type": "display_data"
    }
   ],
   "source": [
    "# Graficar la población total y urbana apiladas\n",
    "\n",
    "fig, ax = plt.subplots()\n",
    "\n",
    "ax.stackplot(df_1[\"anio\"], df_1[\"poblacion_varones\"], df_1[\"poblacion_mujeres\"], labels=[\"varones\", \"mujeres\"], colors=[\"blue\", \"red\"], alpha=0.7)\n",
    "\n",
    "# Agregar etiquetas a los ejes\n",
    "ax.set_xlabel(\"Año\")\n",
    "ax.set_ylabel(\"Población\")\n",
    "ax.legend()\n",
    "\n",
    "plt.show()"
   ]
  },
  {
   "cell_type": "raw",
   "id": "ff83998f-cbe7-4eb2-8086-c2df69d591d7",
   "metadata": {},
   "source": []
  },
  {
   "cell_type": "markdown",
   "id": "2403f1a2-06d0-4549-bc8c-ad959046b17e",
   "metadata": {},
   "source": [
    "# Boxplot de 'poblacion_total'\n",
    "\n",
    "## Usando matplot "
   ]
  },
  {
   "cell_type": "markdown",
   "id": "38fa1df4-f8c5-4c8b-b8fa-67fcd663b023",
   "metadata": {
    "tags": []
   },
   "source": [
    "## Estadísticas descriptivas de 'poblacion_total'."
   ]
  },
  {
   "cell_type": "code",
   "execution_count": 18,
   "id": "30734180-6755-421f-a983-cbeb11c490c8",
   "metadata": {
    "tags": []
   },
   "outputs": [
    {
     "data": {
      "text/plain": [
       "count    3.100000e+01\n",
       "mean     4.722182e+07\n",
       "std      3.655697e+06\n",
       "min      4.078845e+07\n",
       "25%      4.426966e+07\n",
       "50%      4.747376e+07\n",
       "75%      5.031190e+07\n",
       "max      5.277848e+07\n",
       "Name: poblacion_total, dtype: float64"
      ]
     },
     "execution_count": 18,
     "metadata": {},
     "output_type": "execute_result"
    }
   ],
   "source": [
    "df_1['poblacion_total'].describe()"
   ]
  },
  {
   "cell_type": "code",
   "execution_count": 19,
   "id": "675f3141-c3b2-4de2-b4d7-455c75870863",
   "metadata": {
    "tags": []
   },
   "outputs": [
    {
     "data": {
      "image/png": "[encoded data removed]",
      "text/plain": [
       "<Figure size 1000x700 with 1 Axes>"
      ]
     },
     "metadata": {},
     "output_type": "display_data"
    }
   ],
   "source": [
    "# boxplot con matplot\n",
    "\n",
    "fig=plt.figure(figsize=(10,7))\n",
    "\n",
    "plt.boxplot(df_1['poblacion_total'])\n",
    "\n",
    "# Agregar etiquetas a los ejes\n",
    "plt.xlabel(\"Estadísticas descriptivas\")\n",
    "plt.ylabel(\"Población\")\n",
    "# título del gráfico\n",
    "plt.title (\"Población Total\")\n",
    "# anotaciones\n",
    "plt.suptitle (\"Elaborado por:HEMP, 28/09/2023, Fuente: Bases de datos públicas de la República Argentina\", fontsize=6)\n",
    "\n",
    "plt.show()"
   ]
  },
  {
   "cell_type": "code",
   "execution_count": null,
   "id": "6ed7e127-c99a-48f8-a386-9bae864c8c54",
   "metadata": {},
   "outputs": [],
   "source": []
  },
  {
   "cell_type": "markdown",
   "id": "d3eb128a-b57f-4813-bcc3-56cc723c6424",
   "metadata": {},
   "source": [
    "# Boxplot de 'poblacion_total'\n",
    "\n",
    "## Usando seaborn"
   ]
  },
  {
   "cell_type": "code",
   "execution_count": 33,
   "id": "9eb795a4-4523-4129-a500-27228de5852a",
   "metadata": {
    "tags": []
   },
   "outputs": [
    {
     "data": {
      "image/png": "[encoded data removed]",
      "text/plain": [
       "<Figure size 640x480 with 1 Axes>"
      ]
     },
     "metadata": {},
     "output_type": "display_data"
    }
   ],
   "source": [
    "sns.boxplot(data=df_1, x='poblacion_total', showfliers=False)\n",
    "\n",
    "# Agregar etiquetas a los ejes\n",
    "plt.xlabel(\"Población\") \n",
    "plt.ylabel(\"Estadísticas descriptivas\")\n",
    "# título del gráfico\n",
    "plt.title (\"Población Total\")\n",
    "# anotaciones\n",
    "plt.suptitle (\"Elaborado por:HEMP, 28/09/2023, Fuente: Bases de datos públicas de la República Argentina\", fontsize=6)\n",
    "\n",
    "plt.show()"
   ]
  },
  {
   "cell_type": "code",
   "execution_count": null,
   "id": "196c6c8f-ef03-4b81-8274-a1773ea701ec",
   "metadata": {},
   "outputs": [],
   "source": []
  }
 ],
 "metadata": {
  "kernelspec": {
   "display_name": "Python 3 (ipykernel)",
   "language": "python",
   "name": "python3"
  },
  "language_info": {
   "codemirror_mode": {
    "name": "ipython",
    "version": 3
   },
   "file_extension": ".py",
   "mimetype": "text/x-python",
   "name": "python",
   "nbconvert_exporter": "python",
   "pygments_lexer": "ipython3",
   "version": "3.11.4"
  },
  "varInspector": {
   "cols": {
    "lenName": 16,
    "lenType": 16,
    "lenVar": 40
   },
   "kernels_config": {
    "python": {
     "delete_cmd_postfix": "",
     "delete_cmd_prefix": "del ",
     "library": "var_list.py",
     "varRefreshCmd": "print(var_dic_list())"
    },
    "r": {
     "delete_cmd_postfix": ") ",
     "delete_cmd_prefix": "rm(",
     "library": "var_list.r",
     "varRefreshCmd": "cat(var_dic_list()) "
    }
   },
   "types_to_exclude": [
    "module",
    "function",
    "builtin_function_or_method",
    "instance",
    "_Feature"
   ],
   "window_display": false
  }
 },
 "nbformat": 4,
 "nbformat_minor": 5
}
