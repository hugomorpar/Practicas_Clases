{
 "cells": [
  {
   "cell_type": "code",
   "execution_count": 9,
   "id": "a1f01ac8",
   "metadata": {},
   "outputs": [
    {
     "name": "stdout",
     "output_type": "stream",
     "text": [
      "La temperatura en Celsius es:  32.22222222222222\n"
     ]
    }
   ],
   "source": [
    "# Farenheit to Celsius conversión\n",
    "# (32°F − 32) × 5/9 = 0°C\n",
    "\n",
    "import pandas as pd\n",
    "import numpy as np\n",
    "\n",
    "# ingreasmos la temperatura en farenheit con input\n",
    "\n",
    "temp = float(input(\"Ingrese la temperatura en Farenheit: \"))\n",
    "celsius = (temp - 32) * 5/9\n",
    "print(\"La temperatura en Celsius es: \", celsius)"
   ]
  },
  {
   "cell_type": "code",
   "execution_count": null,
   "id": "974590cc",
   "metadata": {},
   "outputs": [],
   "source": []
  }
 ],
 "metadata": {
  "kernelspec": {
   "display_name": "Python 3 (ipykernel)",
   "language": "python",
   "name": "python3"
  },
  "language_info": {
   "codemirror_mode": {
    "name": "ipython",
    "version": 3
   },
   "file_extension": ".py",
   "mimetype": "text/x-python",
   "name": "python",
   "nbconvert_exporter": "python",
   "pygments_lexer": "ipython3",
   "version": "3.12.0"
  }
 },
 "nbformat": 4,
 "nbformat_minor": 5
}
