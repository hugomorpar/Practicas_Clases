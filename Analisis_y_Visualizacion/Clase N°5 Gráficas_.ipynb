{
 "cells": [
  {
   "attachments": {
    "images.jpg": {
     "image/jpeg": "[encoded data removed]"
    }
   },
   "cell_type": "markdown",
   "id": "c6722f64",
   "metadata": {},
   "source": [
    "# Gráficos con Python(Matplotlib y Seaborn)\n",
    "![images.jpg](attachment:images.jpg)\n",
    "\n",
    "\n",
    "Docente: James Tomalá Robles "
   ]
  },
  {
   "attachments": {
    "Sin%20t%C3%ADtulo.jpg": {
     "image/jpeg": "[encoded data removed]"
    }
   },
   "cell_type": "markdown",
   "id": "a362e5d0",
   "metadata": {},
   "source": [
    "## Abandono Clientes de Telefonía \n",
    "\n",
    "### Caso práctico : Análisis exploratorio gráfico y analítico como parte del preprocesamiento para un modelo Machine Learning. \n",
    "\n",
    "Realizar gráfico univariadoy de estadísticas descriptivas   de dos variables (una cuantitativa y otra categórica). Explorar varios tipos de gráficas con Matplot y Seaborn.  \n",
    "\n",
    "Exponer gráficamente cómo se relacionan estas variables con el target. \n",
    "\n",
    "Elegir dos variables numéricas, ¿cómo realizaría un gráfico bivariado para exponer cómo se relacionan estas dos variables con el target?. \n",
    "\n",
    "\n",
    "\n",
    "![Sin%20t%C3%ADtulo.jpg](attachment:Sin%20t%C3%ADtulo.jpg)"
   ]
  },
  {
   "cell_type": "markdown",
   "id": "7679bb05",
   "metadata": {},
   "source": [
    "## Lectura archivos CSV "
   ]
  },
  {
   "cell_type": "code",
   "execution_count": 1,
   "id": "66ae7a89",
   "metadata": {},
   "outputs": [],
   "source": [
    "import pandas as pd \n",
    "\n",
    "df = pd.read_csv(\"telecom_churn.csv\")\n",
    "\n"
   ]
  },
  {
   "cell_type": "markdown",
   "id": "8c693586",
   "metadata": {},
   "source": [
    "## Explorando la tabla  "
   ]
  },
  {
   "cell_type": "code",
   "execution_count": 2,
   "id": "2db0d2bd",
   "metadata": {},
   "outputs": [
    {
     "data": {
      "text/html": [
       "<div>\n",
       "<style scoped>\n",
       "    .dataframe tbody tr th:only-of-type {\n",
       "        vertical-align: middle;\n",
       "    }\n",
       "\n",
       "    .dataframe tbody tr th {\n",
       "        vertical-align: top;\n",
       "    }\n",
       "\n",
       "    .dataframe thead th {\n",
       "        text-align: right;\n",
       "    }\n",
       "</style>\n",
       "<table border=\"1\" class=\"dataframe\">\n",
       "  <thead>\n",
       "    <tr style=\"text-align: right;\">\n",
       "      <th></th>\n",
       "      <th>State</th>\n",
       "      <th>Account length</th>\n",
       "      <th>Area code</th>\n",
       "      <th>International plan</th>\n",
       "      <th>Voice mail plan</th>\n",
       "      <th>Number vmail messages</th>\n",
       "      <th>Total day minutes</th>\n",
       "      <th>Total day calls</th>\n",
       "      <th>Total day charge</th>\n",
       "      <th>Total eve minutes</th>\n",
       "      <th>Total eve calls</th>\n",
       "      <th>Total eve charge</th>\n",
       "      <th>Total night minutes</th>\n",
       "      <th>Total night calls</th>\n",
       "      <th>Total night charge</th>\n",
       "      <th>Total intl minutes</th>\n",
       "      <th>Total intl calls</th>\n",
       "      <th>Total intl charge</th>\n",
       "      <th>Customer service calls</th>\n",
       "      <th>Churn</th>\n",
       "    </tr>\n",
       "  </thead>\n",
       "  <tbody>\n",
       "    <tr>\n",
       "      <th>0</th>\n",
       "      <td>KS</td>\n",
       "      <td>128</td>\n",
       "      <td>415</td>\n",
       "      <td>No</td>\n",
       "      <td>Yes</td>\n",
       "      <td>25</td>\n",
       "      <td>265.1</td>\n",
       "      <td>110</td>\n",
       "      <td>45.07</td>\n",
       "      <td>197.4</td>\n",
       "      <td>99</td>\n",
       "      <td>16.78</td>\n",
       "      <td>244.7</td>\n",
       "      <td>91</td>\n",
       "      <td>11.01</td>\n",
       "      <td>10.0</td>\n",
       "      <td>3</td>\n",
       "      <td>2.70</td>\n",
       "      <td>1</td>\n",
       "      <td>False</td>\n",
       "    </tr>\n",
       "    <tr>\n",
       "      <th>1</th>\n",
       "      <td>OH</td>\n",
       "      <td>107</td>\n",
       "      <td>415</td>\n",
       "      <td>No</td>\n",
       "      <td>Yes</td>\n",
       "      <td>26</td>\n",
       "      <td>161.6</td>\n",
       "      <td>123</td>\n",
       "      <td>27.47</td>\n",
       "      <td>195.5</td>\n",
       "      <td>103</td>\n",
       "      <td>16.62</td>\n",
       "      <td>254.4</td>\n",
       "      <td>103</td>\n",
       "      <td>11.45</td>\n",
       "      <td>13.7</td>\n",
       "      <td>3</td>\n",
       "      <td>3.70</td>\n",
       "      <td>1</td>\n",
       "      <td>False</td>\n",
       "    </tr>\n",
       "    <tr>\n",
       "      <th>2</th>\n",
       "      <td>NJ</td>\n",
       "      <td>137</td>\n",
       "      <td>415</td>\n",
       "      <td>No</td>\n",
       "      <td>No</td>\n",
       "      <td>0</td>\n",
       "      <td>243.4</td>\n",
       "      <td>114</td>\n",
       "      <td>41.38</td>\n",
       "      <td>121.2</td>\n",
       "      <td>110</td>\n",
       "      <td>10.30</td>\n",
       "      <td>162.6</td>\n",
       "      <td>104</td>\n",
       "      <td>7.32</td>\n",
       "      <td>12.2</td>\n",
       "      <td>5</td>\n",
       "      <td>3.29</td>\n",
       "      <td>0</td>\n",
       "      <td>False</td>\n",
       "    </tr>\n",
       "    <tr>\n",
       "      <th>3</th>\n",
       "      <td>OH</td>\n",
       "      <td>84</td>\n",
       "      <td>408</td>\n",
       "      <td>Yes</td>\n",
       "      <td>No</td>\n",
       "      <td>0</td>\n",
       "      <td>299.4</td>\n",
       "      <td>71</td>\n",
       "      <td>50.90</td>\n",
       "      <td>61.9</td>\n",
       "      <td>88</td>\n",
       "      <td>5.26</td>\n",
       "      <td>196.9</td>\n",
       "      <td>89</td>\n",
       "      <td>8.86</td>\n",
       "      <td>6.6</td>\n",
       "      <td>7</td>\n",
       "      <td>1.78</td>\n",
       "      <td>2</td>\n",
       "      <td>False</td>\n",
       "    </tr>\n",
       "    <tr>\n",
       "      <th>4</th>\n",
       "      <td>OK</td>\n",
       "      <td>75</td>\n",
       "      <td>415</td>\n",
       "      <td>Yes</td>\n",
       "      <td>No</td>\n",
       "      <td>0</td>\n",
       "      <td>166.7</td>\n",
       "      <td>113</td>\n",
       "      <td>28.34</td>\n",
       "      <td>148.3</td>\n",
       "      <td>122</td>\n",
       "      <td>12.61</td>\n",
       "      <td>186.9</td>\n",
       "      <td>121</td>\n",
       "      <td>8.41</td>\n",
       "      <td>10.1</td>\n",
       "      <td>3</td>\n",
       "      <td>2.73</td>\n",
       "      <td>3</td>\n",
       "      <td>False</td>\n",
       "    </tr>\n",
       "    <tr>\n",
       "      <th>5</th>\n",
       "      <td>AL</td>\n",
       "      <td>118</td>\n",
       "      <td>510</td>\n",
       "      <td>Yes</td>\n",
       "      <td>No</td>\n",
       "      <td>0</td>\n",
       "      <td>223.4</td>\n",
       "      <td>98</td>\n",
       "      <td>37.98</td>\n",
       "      <td>220.6</td>\n",
       "      <td>101</td>\n",
       "      <td>18.75</td>\n",
       "      <td>203.9</td>\n",
       "      <td>118</td>\n",
       "      <td>9.18</td>\n",
       "      <td>6.3</td>\n",
       "      <td>6</td>\n",
       "      <td>1.70</td>\n",
       "      <td>0</td>\n",
       "      <td>False</td>\n",
       "    </tr>\n",
       "    <tr>\n",
       "      <th>6</th>\n",
       "      <td>MA</td>\n",
       "      <td>121</td>\n",
       "      <td>510</td>\n",
       "      <td>No</td>\n",
       "      <td>Yes</td>\n",
       "      <td>24</td>\n",
       "      <td>218.2</td>\n",
       "      <td>88</td>\n",
       "      <td>37.09</td>\n",
       "      <td>348.5</td>\n",
       "      <td>108</td>\n",
       "      <td>29.62</td>\n",
       "      <td>212.6</td>\n",
       "      <td>118</td>\n",
       "      <td>9.57</td>\n",
       "      <td>7.5</td>\n",
       "      <td>7</td>\n",
       "      <td>2.03</td>\n",
       "      <td>3</td>\n",
       "      <td>False</td>\n",
       "    </tr>\n",
       "    <tr>\n",
       "      <th>7</th>\n",
       "      <td>MO</td>\n",
       "      <td>147</td>\n",
       "      <td>415</td>\n",
       "      <td>Yes</td>\n",
       "      <td>No</td>\n",
       "      <td>0</td>\n",
       "      <td>157.0</td>\n",
       "      <td>79</td>\n",
       "      <td>26.69</td>\n",
       "      <td>103.1</td>\n",
       "      <td>94</td>\n",
       "      <td>8.76</td>\n",
       "      <td>211.8</td>\n",
       "      <td>96</td>\n",
       "      <td>9.53</td>\n",
       "      <td>7.1</td>\n",
       "      <td>6</td>\n",
       "      <td>1.92</td>\n",
       "      <td>0</td>\n",
       "      <td>False</td>\n",
       "    </tr>\n",
       "    <tr>\n",
       "      <th>8</th>\n",
       "      <td>LA</td>\n",
       "      <td>117</td>\n",
       "      <td>408</td>\n",
       "      <td>No</td>\n",
       "      <td>No</td>\n",
       "      <td>0</td>\n",
       "      <td>184.5</td>\n",
       "      <td>97</td>\n",
       "      <td>31.37</td>\n",
       "      <td>351.6</td>\n",
       "      <td>80</td>\n",
       "      <td>29.89</td>\n",
       "      <td>215.8</td>\n",
       "      <td>90</td>\n",
       "      <td>9.71</td>\n",
       "      <td>8.7</td>\n",
       "      <td>4</td>\n",
       "      <td>2.35</td>\n",
       "      <td>1</td>\n",
       "      <td>False</td>\n",
       "    </tr>\n",
       "    <tr>\n",
       "      <th>9</th>\n",
       "      <td>WV</td>\n",
       "      <td>141</td>\n",
       "      <td>415</td>\n",
       "      <td>Yes</td>\n",
       "      <td>Yes</td>\n",
       "      <td>37</td>\n",
       "      <td>258.6</td>\n",
       "      <td>84</td>\n",
       "      <td>43.96</td>\n",
       "      <td>222.0</td>\n",
       "      <td>111</td>\n",
       "      <td>18.87</td>\n",
       "      <td>326.4</td>\n",
       "      <td>97</td>\n",
       "      <td>14.69</td>\n",
       "      <td>11.2</td>\n",
       "      <td>5</td>\n",
       "      <td>3.02</td>\n",
       "      <td>0</td>\n",
       "      <td>False</td>\n",
       "    </tr>\n",
       "  </tbody>\n",
       "</table>\n",
       "</div>"
      ],
      "text/plain": [
       "  State  Account length  Area code International plan Voice mail plan  \\\n",
       "0    KS             128        415                 No             Yes   \n",
       "1    OH             107        415                 No             Yes   \n",
       "2    NJ             137        415                 No              No   \n",
       "3    OH              84        408                Yes              No   \n",
       "4    OK              75        415                Yes              No   \n",
       "5    AL             118        510                Yes              No   \n",
       "6    MA             121        510                 No             Yes   \n",
       "7    MO             147        415                Yes              No   \n",
       "8    LA             117        408                 No              No   \n",
       "9    WV             141        415                Yes             Yes   \n",
       "\n",
       "   Number vmail messages  Total day minutes  Total day calls  \\\n",
       "0                     25              265.1              110   \n",
       "1                     26              161.6              123   \n",
       "2                      0              243.4              114   \n",
       "3                      0              299.4               71   \n",
       "4                      0              166.7              113   \n",
       "5                      0              223.4               98   \n",
       "6                     24              218.2               88   \n",
       "7                      0              157.0               79   \n",
       "8                      0              184.5               97   \n",
       "9                     37              258.6               84   \n",
       "\n",
       "   Total day charge  Total eve minutes  Total eve calls  Total eve charge  \\\n",
       "0             45.07              197.4               99             16.78   \n",
       "1             27.47              195.5              103             16.62   \n",
       "2             41.38              121.2              110             10.30   \n",
       "3             50.90               61.9               88              5.26   \n",
       "4             28.34              148.3              122             12.61   \n",
       "5             37.98              220.6              101             18.75   \n",
       "6             37.09              348.5              108             29.62   \n",
       "7             26.69              103.1               94              8.76   \n",
       "8             31.37              351.6               80             29.89   \n",
       "9             43.96              222.0              111             18.87   \n",
       "\n",
       "   Total night minutes  Total night calls  Total night charge  \\\n",
       "0                244.7                 91               11.01   \n",
       "1                254.4                103               11.45   \n",
       "2                162.6                104                7.32   \n",
       "3                196.9                 89                8.86   \n",
       "4                186.9                121                8.41   \n",
       "5                203.9                118                9.18   \n",
       "6                212.6                118                9.57   \n",
       "7                211.8                 96                9.53   \n",
       "8                215.8                 90                9.71   \n",
       "9                326.4                 97               14.69   \n",
       "\n",
       "   Total intl minutes  Total intl calls  Total intl charge  \\\n",
       "0                10.0                 3               2.70   \n",
       "1                13.7                 3               3.70   \n",
       "2                12.2                 5               3.29   \n",
       "3                 6.6                 7               1.78   \n",
       "4                10.1                 3               2.73   \n",
       "5                 6.3                 6               1.70   \n",
       "6                 7.5                 7               2.03   \n",
       "7                 7.1                 6               1.92   \n",
       "8                 8.7                 4               2.35   \n",
       "9                11.2                 5               3.02   \n",
       "\n",
       "   Customer service calls  Churn  \n",
       "0                       1  False  \n",
       "1                       1  False  \n",
       "2                       0  False  \n",
       "3                       2  False  \n",
       "4                       3  False  \n",
       "5                       0  False  \n",
       "6                       3  False  \n",
       "7                       0  False  \n",
       "8                       1  False  \n",
       "9                       0  False  "
      ]
     },
     "execution_count": 2,
     "metadata": {},
     "output_type": "execute_result"
    }
   ],
   "source": [
    "# primeros registros \n",
    "df.head(10)"
   ]
  },
  {
   "cell_type": "code",
   "execution_count": 3,
   "id": "c8bac605",
   "metadata": {},
   "outputs": [
    {
     "name": "stdout",
     "output_type": "stream",
     "text": [
      "<class 'pandas.core.frame.DataFrame'>\n",
      "RangeIndex: 3333 entries, 0 to 3332\n",
      "Data columns (total 20 columns):\n",
      " #   Column                  Non-Null Count  Dtype  \n",
      "---  ------                  --------------  -----  \n",
      " 0   State                   3333 non-null   object \n",
      " 1   Account length          3333 non-null   int64  \n",
      " 2   Area code               3333 non-null   int64  \n",
      " 3   International plan      3333 non-null   object \n",
      " 4   Voice mail plan         3333 non-null   object \n",
      " 5   Number vmail messages   3333 non-null   int64  \n",
      " 6   Total day minutes       3333 non-null   float64\n",
      " 7   Total day calls         3333 non-null   int64  \n",
      " 8   Total day charge        3333 non-null   float64\n",
      " 9   Total eve minutes       3333 non-null   float64\n",
      " 10  Total eve calls         3333 non-null   int64  \n",
      " 11  Total eve charge        3333 non-null   float64\n",
      " 12  Total night minutes     3333 non-null   float64\n",
      " 13  Total night calls       3333 non-null   int64  \n",
      " 14  Total night charge      3333 non-null   float64\n",
      " 15  Total intl minutes      3333 non-null   float64\n",
      " 16  Total intl calls        3333 non-null   int64  \n",
      " 17  Total intl charge       3333 non-null   float64\n",
      " 18  Customer service calls  3333 non-null   int64  \n",
      " 19  Churn                   3333 non-null   bool   \n",
      "dtypes: bool(1), float64(8), int64(8), object(3)\n",
      "memory usage: 498.1+ KB\n"
     ]
    }
   ],
   "source": [
    "df.info()"
   ]
  },
  {
   "attachments": {
    "images.png": {
     "image/png": "[encoded data removed]"
    }
   },
   "cell_type": "markdown",
   "id": "451ae0d4",
   "metadata": {},
   "source": [
    "### Inicio Recordemos : \n",
    "![images.png](attachment:images.png)\n",
    "* ¿Qué gráficos se hacen para describir una variable numérica o cuantitativa? \n",
    "\n",
    "* ¿y para las categóricas o cualitativas? "
   ]
  },
  {
   "cell_type": "code",
   "execution_count": 4,
   "id": "6cc6a5c0",
   "metadata": {},
   "outputs": [
    {
     "data": {
      "image/png": "[encoded data removed]",
      "text/plain": [
       "<Figure size 640x480 with 1 Axes>"
      ]
     },
     "metadata": {},
     "output_type": "display_data"
    }
   ],
   "source": [
    "##  Principios de Matbloplib \n",
    "import matplotlib.pyplot as plt\n",
    "  \n",
    "x = [1,2,3]\n",
    "y = [2,4,1]\n",
    "\n",
    "#plt.figure(figsize=(6, 10))\n",
    "plt.plot(x, y, label = \"línea \")\n",
    "\n",
    "#plt.ylim(0, 5)  \n",
    "\n",
    "#título eje x\n",
    "plt.xlabel('x - eje de las x')\n",
    "\n",
    "#título eje y \n",
    "plt.ylabel('y - eje de las y')\n",
    "\n",
    "#anotaciones\n",
    "#plt.annotate('anotación- para resaltar algo', xy=(2, 4.1), size=8)\n",
    "\n",
    "#título general \n",
    "plt.title('Título de gráfico')\n",
    "#muestra la leyenda del gráfico\n",
    "plt.legend()  \n",
    "#muestra el gráfico en total \n",
    "plt.show()"
   ]
  },
  {
   "cell_type": "markdown",
   "id": "a172763f",
   "metadata": {},
   "source": [
    "### Gráfico univariado para variables numéricas "
   ]
  },
  {
   "cell_type": "code",
   "execution_count": 5,
   "id": "e51a2df5",
   "metadata": {},
   "outputs": [
    {
     "ename": "NameError",
     "evalue": "name '___________' is not defined",
     "output_type": "error",
     "traceback": [
      "\u001b[0;31m---------------------------------------------------------------------------\u001b[0m",
      "\u001b[0;31mNameError\u001b[0m                                 Traceback (most recent call last)",
      "Cell \u001b[0;32mIn[5], line 12\u001b[0m\n\u001b[1;32m      5\u001b[0m plt\u001b[38;5;241m.\u001b[39mfigure(figsize\u001b[38;5;241m=\u001b[39m(\u001b[38;5;241m7\u001b[39m, \u001b[38;5;241m5\u001b[39m))\n\u001b[1;32m      7\u001b[0m \u001b[38;5;66;03m## alpha : opacidad \u001b[39;00m\n\u001b[1;32m      8\u001b[0m \u001b[38;5;66;03m## edgecolor : color de la línea (\"black\") \u001b[39;00m\n\u001b[1;32m      9\u001b[0m \u001b[38;5;66;03m## color : color de gráfico. se pueden definir colores html también \u001b[39;00m\n\u001b[1;32m     10\u001b[0m \u001b[38;5;66;03m## bins : cortes de los intervalos \u001b[39;00m\n\u001b[0;32m---> 12\u001b[0m plt\u001b[38;5;241m.\u001b[39mhist(___________ )\n\u001b[1;32m     14\u001b[0m plt\u001b[38;5;241m.\u001b[39mtitle   (\u001b[38;5;124m\"\u001b[39m\u001b[38;5;124mHistograma variable: \u001b[39m\u001b[38;5;124m\"\u001b[39m\u001b[38;5;241m+\u001b[39mvar, fontsize\u001b[38;5;241m=\u001b[39m\u001b[38;5;241m14\u001b[39m)\n\u001b[1;32m     15\u001b[0m plt\u001b[38;5;241m.\u001b[39mxlabel  (\u001b[38;5;124m\"\u001b[39m\u001b[38;5;124mTotal day minutes\u001b[39m\u001b[38;5;124m\"\u001b[39m)\n",
      "\u001b[0;31mNameError\u001b[0m: name '___________' is not defined"
     ]
    },
    {
     "data": {
      "text/plain": [
       "<Figure size 700x500 with 0 Axes>"
      ]
     },
     "metadata": {},
     "output_type": "display_data"
    }
   ],
   "source": [
    "## histograma \n",
    "var='Total day minutes'\n",
    "\n",
    "\n",
    "plt.figure(figsize=(7, 5))\n",
    "\n",
    "## alpha : opacidad \n",
    "## edgecolor : color de la línea (\"black\") \n",
    "## color : color de gráfico. se pueden definir colores html también \n",
    "## bins : cortes de los intervalos \n",
    "\n",
    "plt.hist(__________ )\n",
    "\n",
    "plt.title   (\"Histograma variable: \"+var, fontsize=14)\n",
    "plt.xlabel  (\"Total day minutes\")\n",
    "#añade un subtítulo \n",
    "plt.suptitle(\" Elaborado por: James Tomalá , Fecha: , Fuente: Base datos abandono compañía \", fontsize=8, y=0)\n",
    "\n",
    "plt.show() \n"
   ]
  },
  {
   "cell_type": "code",
   "execution_count": null,
   "id": "6cad162c",
   "metadata": {},
   "outputs": [],
   "source": [
    "## Definir un bins con 8 cortes (8 intervalos) con linspace de numpy y hacer un histograma con estos cortes  \n",
    "##np.linspace(inicio , fin, total_cortes )\n",
    "\n",
    "import numpy as np \n",
    "\n",
    "bins= _________________________\n",
    "\n",
    "bins"
   ]
  },
  {
   "cell_type": "code",
   "execution_count": null,
   "id": "789e8ba1",
   "metadata": {},
   "outputs": [],
   "source": [
    "## Histograma con los nuevos cortes \n",
    "\n",
    "\n",
    "\n",
    "\n",
    "\n",
    "\n",
    "\n"
   ]
  },
  {
   "attachments": {
    "sphx_glr_colormaps_002_2_00x.webp": {
     "image/webp": "[encoded data removed]"
    }
   },
   "cell_type": "markdown",
   "id": "bca1142d",
   "metadata": {},
   "source": [
    " ['Greys', 'Purples', 'Blues', 'Greens', 'Oranges', 'Reds',\n",
    "                      'YlOrBr', 'YlOrRd', 'OrRd', 'PuRd', 'RdPu', 'BuPu',\n",
    "                      'GnBu', 'PuBu', 'YlGnBu', 'PuBuGn', 'BuGn', 'YlGn'])\n",
    "                      \n",
    "\n",
    "![sphx_glr_colormaps_002_2_00x.webp](attachment:sphx_glr_colormaps_002_2_00x.webp)\n",
    "\n",
    "Paleta de colores html: \n",
    "\n",
    "https://htmlcolorcodes.com/ "
   ]
  },
  {
   "cell_type": "markdown",
   "id": "84aefea1",
   "metadata": {},
   "source": [
    "### Seaborn Histplot \n",
    "\n",
    "https://seaborn.pydata.org/generated/seaborn.histplot.html"
   ]
  },
  {
   "cell_type": "code",
   "execution_count": null,
   "id": "efb77f8a",
   "metadata": {},
   "outputs": [],
   "source": [
    "import seaborn as sns\n",
    "\n",
    "## kde = curva de distribución \n",
    "## binwith = ancho de cada intervalo \n",
    "## stat=\"density, count, probability, percent\"  muestra frecuencia relativa en vez de frecuencia absoluta \n",
    "sns.histplot(data=df, x=var  )\n",
    "\n",
    "plt.title   (\"Histograma variable: \"+var, fontsize=14)\n",
    "plt.ylabel  (\"Frecuencia relativa \")\n",
    "plt.xlabel  (\"Total day minutes\")\n",
    "plt.suptitle(\" Elaborado por: James Tomalá , Fecha: , Fuente: Base datos abandono compañía \", fontsize=8, y=0)\n",
    "plt.show() \n"
   ]
  },
  {
   "cell_type": "code",
   "execution_count": null,
   "id": "fa63fbfa",
   "metadata": {},
   "outputs": [],
   "source": [
    "## hacer lo mismo para esta variable :  \n",
    "\n",
    "var='Total intl calls'\n",
    "\n",
    "## ¿Qué puede expresar respecto al gráfico? \n",
    "\n",
    "\n",
    "\n",
    "\n",
    "\n",
    "\n"
   ]
  },
  {
   "attachments": {
    "imagen.png": {
     "image/png": "[encoded data removed]"
    }
   },
   "cell_type": "markdown",
   "id": "5cdd125d",
   "metadata": {},
   "source": [
    "## Boxplot \n",
    "\n",
    "![imagen.png](attachment:imagen.png)"
   ]
  },
  {
   "cell_type": "code",
   "execution_count": null,
   "id": "7e3522de",
   "metadata": {},
   "outputs": [],
   "source": [
    "# boxplot con matplotlib \n",
    "var='Total day minutes'\n",
    "fig=plt.figure(figsize =(10, 7))\n",
    "\n",
    "plt.____________( _____ )\n",
    " \n",
    "plt.show() "
   ]
  },
  {
   "cell_type": "code",
   "execution_count": null,
   "id": "21ffe414",
   "metadata": {},
   "outputs": [],
   "source": [
    "#boxplot con seaborn\n",
    "\n",
    "var='Total day minutes'\n",
    "\n",
    "import seaborn as sns\n",
    "\n",
    "## showfliers = False no visualiza los valores extresmos\n",
    "## palette=\"pastel\" ## opacidad del gráfico \n",
    "## linewidth= ancho de la línea \n",
    "## hue= : segmentación por variable categórica \n",
    "\n",
    "sns.boxplot(data=df, x=var)\n",
    "plt.title   (\"Boxplot variable: \"+var, fontsize=14)\n",
    "plt.ylabel  (\"  \")\n",
    "plt.xlabel  (\"  \")\n",
    "plt.suptitle(\" Elaborado por: James Tomalá , Fecha: , Fuente: Base datos abandono compañía \", fontsize=8, y=0)\n",
    "plt.show() \n"
   ]
  },
  {
   "cell_type": "code",
   "execution_count": null,
   "id": "ac9df94e",
   "metadata": {},
   "outputs": [],
   "source": [
    "### Adicional miremos los estadísticos de esta variable \n",
    "\n"
   ]
  },
  {
   "cell_type": "markdown",
   "id": "54d65c7b",
   "metadata": {},
   "source": [
    "## Haciendo dos gráficos en un solo plot . Subplots\n",
    "\n",
    "* Parámetros nrows : número de filas. \n",
    "\n",
    "* ncols : número de columnas \n",
    "\n",
    "* Parámetro sharex  ---> True: Todos los subgráficos comparten el mismo eje x. Esto significa que los subgráficos tendrán el mismo rango y etiquetas en el eje x, lo que facilita la comparación de datos a lo largo del eje x."
   ]
  },
  {
   "cell_type": "code",
   "execution_count": null,
   "id": "96e41ae1",
   "metadata": {},
   "outputs": [],
   "source": [
    "var='Total intl calls'\n",
    "f, (ax_box, ax_hist) = plt.subplots(nrows= ______ , sharex=_______, gridspec_kw={\"height_ratios\": (.15, .85)})\n",
    "\n",
    "sns.boxplot(data=df, x=var, ax=ax_box)\n",
    "sns.histplot(data=df,x=var, bins=12, kde=True, stat='probability', ax=ax_hist)\n",
    "\n",
    "ax_box.set(yticks=[])\n",
    "sns.despine(ax=ax_hist)\n",
    "sns.despine(ax=ax_box, left=True)"
   ]
  },
  {
   "cell_type": "markdown",
   "id": "9e7a9745",
   "metadata": {},
   "source": [
    "## Cómo hago varios gráficos al mismo tiempo de manera rápida? "
   ]
  },
  {
   "cell_type": "code",
   "execution_count": null,
   "id": "2b67df8c",
   "metadata": {},
   "outputs": [],
   "source": [
    "df.columns"
   ]
  },
  {
   "cell_type": "code",
   "execution_count": null,
   "id": "2870d4fa",
   "metadata": {},
   "outputs": [],
   "source": [
    "## con sns.pairplot se realizan varios gráficos de manera automática \n",
    "vars= ['Account length', 'Area code', 'International plan',\n",
    "       'Voice mail plan', 'Number vmail messages', 'Total day minutes',\n",
    "       'Total day calls', 'Total day charge'] \n",
    "\n",
    "\n",
    "#3# hacer giltro de estas columnas y graficar con pairplot \n",
    "df1 = df.___________\n",
    "\n",
    "sns.pairplot(data=df1)"
   ]
  },
  {
   "cell_type": "markdown",
   "id": "c71f879a",
   "metadata": {},
   "source": [
    "## ¿Esta variable servirá para explicar el target (Churn) en algún modelo ML?\n",
    "\n"
   ]
  },
  {
   "cell_type": "code",
   "execution_count": null,
   "id": "39ba40e8",
   "metadata": {},
   "outputs": [],
   "source": [
    "#sns.boxplot(data=df, x=\"age\", y=\"class\")\n",
    "\n",
    "var='Total day minutes'\n",
    "\n",
    "import seaborn as sns\n",
    "\n",
    "## showfliers = False no visualiza los valores extresmos\n",
    "## palette=\"pastel\" ## opacidad del gráfico \n",
    "## linewidth= ancho de la línea \n",
    "## hue= : segmentación por variable categórica\n",
    "\n",
    "## marca un grid en los gráficos \n",
    "## sns.set_style(\"whitegrid\")\n",
    "\n",
    "sns.boxplot(data=df,x=_________, y=___________, showfliers=False, \n",
    "            palette=\"pastel\", linewidth=1.5)\n",
    "\n",
    "plt.title   (\"Histograma variable: \"+var, fontsize=14)\n",
    "plt.ylabel  (\"  \")\n",
    "plt.xlabel  (\" \")\n",
    "plt.suptitle(\" Elaborado por: James Tomalá , Fecha: , Fuente: Base datos abandono compañía \", fontsize=8, y=0)\n",
    "plt.show() \n"
   ]
  },
  {
   "cell_type": "code",
   "execution_count": null,
   "id": "c1de1c76",
   "metadata": {},
   "outputs": [],
   "source": [
    "## Contrastemos contra las medidas descriptivas \n",
    "\n"
   ]
  },
  {
   "cell_type": "code",
   "execution_count": null,
   "id": "a7751971",
   "metadata": {},
   "outputs": [],
   "source": [
    "var='Total day minutes'\n",
    "\n",
    "sns.histplot(data=df, x=var, hue=_________, bins=20, kde=________, stat=\"probability\", alpha=0.3)\n",
    "plt.title   (\"Histograma variable: \"+var, fontsize=14)\n",
    "plt.ylabel  (\"Frecuencia relativa\")\n",
    "plt.xlabel  (\"Total day minutes\")\n",
    "plt.suptitle(\" Elaborado por: James Tomalá , Fecha: , Fuente: Base datos abandono compañía \", fontsize=8, y=0)\n",
    "plt.show() \n",
    "\n"
   ]
  },
  {
   "cell_type": "markdown",
   "id": "c3e45684",
   "metadata": {},
   "source": [
    "## Gráficas de Variables categóricas \n",
    "\n"
   ]
  },
  {
   "cell_type": "code",
   "execution_count": null,
   "id": "1fb11e8c",
   "metadata": {},
   "outputs": [],
   "source": [
    "var='International plan'\n",
    "sns.countplot(data=df, x=var)\n",
    " \n",
    "# Show the plot\n",
    "\n",
    "plt.show()"
   ]
  },
  {
   "cell_type": "code",
   "execution_count": null,
   "id": "0f30a8eb",
   "metadata": {},
   "outputs": [],
   "source": [
    "res = round(df[var].value_counts(normalize=True)*100, 1)\n",
    "\n",
    "res.values\n"
   ]
  },
  {
   "cell_type": "code",
   "execution_count": null,
   "id": "774073ac",
   "metadata": {},
   "outputs": [],
   "source": [
    "sns.barplot( x= res.index, y=res.values)"
   ]
  },
  {
   "cell_type": "code",
   "execution_count": null,
   "id": "33d22cff",
   "metadata": {},
   "outputs": [],
   "source": [
    "## Mostrando el valor de cada barra \n",
    "ax=sns.barplot( x= res.index, y=res.values)\n",
    "# muestra los valores de las barras \n",
    "ax.bar_label(ax.containers[0])"
   ]
  },
  {
   "cell_type": "markdown",
   "id": "4999f5b8",
   "metadata": {},
   "source": [
    "##  ¿Ayuda esta variable a diferenciar el target? "
   ]
  },
  {
   "cell_type": "code",
   "execution_count": null,
   "id": "f3b9b212",
   "metadata": {},
   "outputs": [],
   "source": [
    "## Hacer el resumen por categoría para el target \n",
    "\n",
    "res_false = _____________________\n",
    "res_true  = _____________________\n",
    "\n",
    "print(res_false)\n",
    "\n",
    "print(res_true)"
   ]
  },
  {
   "cell_type": "code",
   "execution_count": null,
   "id": "80daae0f",
   "metadata": {},
   "outputs": [],
   "source": [
    "f, (ax_false, ax_true) = plt.subplots(nrows=1, ncols=2, figsize=(10,4))\n",
    "\n",
    "f.tight_layout()\n",
    "\n",
    "\n",
    "ax=sns.barplot( x= _________, y=__________, ax=ax_false )\n",
    "\n",
    "ax=sns.barplot( x= _________, y=__________, ax=ax_true )\n",
    "\n",
    "## Ajuste de títulos \n",
    "\n",
    "#ax_false.title.set_text(_________)\n",
    "#ax_false.set_ylim(___________)\n",
    " \n",
    "#ax_true.title.set_text(__________)\n",
    "\n",
    "#ax_true.set_ylim(_________)\n"
   ]
  },
  {
   "cell_type": "code",
   "execution_count": null,
   "id": "199a1301",
   "metadata": {},
   "outputs": [],
   "source": [
    "## una forma de hacer algo similar con un treemap (librería plotly.express)\n",
    "\n",
    "import plotly.express as px\n",
    "import pandas as pd\n",
    "\n",
    "# Crear el gráfico de treemap con plotly\n",
    "fig = px.treemap(df, path=[var, 'Churn'])\n",
    "\n",
    "# Personalizar el gráfico\n",
    "fig.update_layout(title='Gráfico Treemap con Plotly')\n",
    "fig.show()"
   ]
  },
  {
   "cell_type": "markdown",
   "id": "30633080",
   "metadata": {
    "heading_collapsed": true
   },
   "source": [
    "### ¿Qué conlusiones extrae de estos gráficos cruzados? \n",
    "\n",
    "\n",
    "\n",
    "\n",
    "\n",
    "...... "
   ]
  },
  {
   "attachments": {
    "images.png": {
     "image/png": "[encoded data removed]"
    }
   },
   "cell_type": "markdown",
   "id": "0e87c140",
   "metadata": {},
   "source": [
    "## Cierre \n",
    "\n",
    "![images.png](attachment:images.png)"
   ]
  },
  {
   "cell_type": "markdown",
   "id": "53832efd",
   "metadata": {},
   "source": [
    "https://quizizz.com/admin/quiz/650e159e531dc00001725164?source=quiz_share"
   ]
  },
  {
   "cell_type": "code",
   "execution_count": null,
   "id": "9c98c731",
   "metadata": {},
   "outputs": [],
   "source": []
  }
 ],
 "metadata": {
  "kernelspec": {
   "display_name": "Python 3 (ipykernel)",
   "language": "python",
   "name": "python3"
  },
  "language_info": {
   "codemirror_mode": {
    "name": "ipython",
    "version": 3
   },
   "file_extension": ".py",
   "mimetype": "text/x-python",
   "name": "python",
   "nbconvert_exporter": "python",
   "pygments_lexer": "ipython3",
   "version": "3.11.4"
  }
 },
 "nbformat": 4,
 "nbformat_minor": 5
}
