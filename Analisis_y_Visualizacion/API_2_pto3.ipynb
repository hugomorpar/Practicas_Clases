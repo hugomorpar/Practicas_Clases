{
 "cells": [
  {
   "cell_type": "markdown",
   "id": "70f57189-4d63-46a8-809f-9a1e97284197",
   "metadata": {},
   "source": [
    "### Principales estadisticas descriptivas de la variable poblacion_total.."
   ]
  },
  {
   "cell_type": "code",
   "execution_count": 21,
   "id": "6831a98a-d09f-417d-8252-5dc56fd5ea29",
   "metadata": {
    "tags": []
   },
   "outputs": [],
   "source": [
    "import pandas as pd"
   ]
  },
  {
   "cell_type": "code",
   "execution_count": 22,
   "id": "f17c731a-d450-48c7-bf05-857f5aae8d6f",
   "metadata": {
    "tags": []
   },
   "outputs": [],
   "source": [
    "df = pd.read_csv('poblacion.csv', index_col=0, encoding='latin-1')"
   ]
  },
  {
   "cell_type": "code",
   "execution_count": 23,
   "id": "ee28a82b-caa4-4cc7-aa01-de96ae8d92c8",
   "metadata": {
    "tags": []
   },
   "outputs": [
    {
     "data": {
      "text/html": [
       "<div>\n",
       "<style scoped>\n",
       "    .dataframe tbody tr th:only-of-type {\n",
       "        vertical-align: middle;\n",
       "    }\n",
       "\n",
       "    .dataframe tbody tr th {\n",
       "        vertical-align: top;\n",
       "    }\n",
       "\n",
       "    .dataframe thead th {\n",
       "        text-align: right;\n",
       "    }\n",
       "</style>\n",
       "<table border=\"1\" class=\"dataframe\">\n",
       "  <thead>\n",
       "    <tr style=\"text-align: right;\">\n",
       "      <th></th>\n",
       "      <th>anio</th>\n",
       "      <th>poblacion_total</th>\n",
       "      <th>poblacion_varones</th>\n",
       "      <th>poblacion_mujeres</th>\n",
       "    </tr>\n",
       "    <tr>\n",
       "      <th>provincia</th>\n",
       "      <th></th>\n",
       "      <th></th>\n",
       "      <th></th>\n",
       "      <th></th>\n",
       "    </tr>\n",
       "  </thead>\n",
       "  <tbody>\n",
       "    <tr>\n",
       "      <th>Total País</th>\n",
       "      <td>2010</td>\n",
       "      <td>40788453</td>\n",
       "      <td>19940704</td>\n",
       "      <td>20847749</td>\n",
       "    </tr>\n",
       "    <tr>\n",
       "      <th>Total País</th>\n",
       "      <td>2011</td>\n",
       "      <td>41261490</td>\n",
       "      <td>20180791</td>\n",
       "      <td>21080699</td>\n",
       "    </tr>\n",
       "    <tr>\n",
       "      <th>Total País</th>\n",
       "      <td>2012</td>\n",
       "      <td>41733271</td>\n",
       "      <td>20420391</td>\n",
       "      <td>21312880</td>\n",
       "    </tr>\n",
       "    <tr>\n",
       "      <th>Total País</th>\n",
       "      <td>2013</td>\n",
       "      <td>42202935</td>\n",
       "      <td>20659037</td>\n",
       "      <td>21543898</td>\n",
       "    </tr>\n",
       "    <tr>\n",
       "      <th>Total País</th>\n",
       "      <td>2014</td>\n",
       "      <td>42669500</td>\n",
       "      <td>20896203</td>\n",
       "      <td>21773297</td>\n",
       "    </tr>\n",
       "    <tr>\n",
       "      <th>...</th>\n",
       "      <td>...</td>\n",
       "      <td>...</td>\n",
       "      <td>...</td>\n",
       "      <td>...</td>\n",
       "    </tr>\n",
       "    <tr>\n",
       "      <th>Tierra del Fuego</th>\n",
       "      <td>2036</td>\n",
       "      <td>241593</td>\n",
       "      <td>122567</td>\n",
       "      <td>119026</td>\n",
       "    </tr>\n",
       "    <tr>\n",
       "      <th>Tierra del Fuego</th>\n",
       "      <td>2037</td>\n",
       "      <td>245734</td>\n",
       "      <td>124625</td>\n",
       "      <td>121109</td>\n",
       "    </tr>\n",
       "    <tr>\n",
       "      <th>Tierra del Fuego</th>\n",
       "      <td>2038</td>\n",
       "      <td>249853</td>\n",
       "      <td>126670</td>\n",
       "      <td>123183</td>\n",
       "    </tr>\n",
       "    <tr>\n",
       "      <th>Tierra del Fuego</th>\n",
       "      <td>2039</td>\n",
       "      <td>253948</td>\n",
       "      <td>128702</td>\n",
       "      <td>125246</td>\n",
       "    </tr>\n",
       "    <tr>\n",
       "      <th>Tierra del Fuego</th>\n",
       "      <td>2040</td>\n",
       "      <td>258020</td>\n",
       "      <td>130721</td>\n",
       "      <td>127299</td>\n",
       "    </tr>\n",
       "  </tbody>\n",
       "</table>\n",
       "<p>775 rows × 4 columns</p>\n",
       "</div>"
      ],
      "text/plain": [
       "                  anio  poblacion_total  poblacion_varones  poblacion_mujeres\n",
       "provincia                                                                    \n",
       "Total País        2010         40788453           19940704           20847749\n",
       "Total País        2011         41261490           20180791           21080699\n",
       "Total País        2012         41733271           20420391           21312880\n",
       "Total País        2013         42202935           20659037           21543898\n",
       "Total País        2014         42669500           20896203           21773297\n",
       "...                ...              ...                ...                ...\n",
       "Tierra del Fuego  2036           241593             122567             119026\n",
       "Tierra del Fuego  2037           245734             124625             121109\n",
       "Tierra del Fuego  2038           249853             126670             123183\n",
       "Tierra del Fuego  2039           253948             128702             125246\n",
       "Tierra del Fuego  2040           258020             130721             127299\n",
       "\n",
       "[775 rows x 4 columns]"
      ]
     },
     "execution_count": 23,
     "metadata": {},
     "output_type": "execute_result"
    }
   ],
   "source": [
    "df"
   ]
  },
  {
   "cell_type": "code",
   "execution_count": 24,
   "id": "3bfafde3-f678-475f-b5d5-0c0e82827c2f",
   "metadata": {
    "tags": []
   },
   "outputs": [],
   "source": [
    "df_pt = df.drop(columns=['poblacion_varones' , 'poblacion_mujeres'])"
   ]
  },
  {
   "cell_type": "code",
   "execution_count": 25,
   "id": "912e5850-dc14-4662-85fd-33861e5217d3",
   "metadata": {
    "tags": []
   },
   "outputs": [
    {
     "data": {
      "text/html": [
       "<div>\n",
       "<style scoped>\n",
       "    .dataframe tbody tr th:only-of-type {\n",
       "        vertical-align: middle;\n",
       "    }\n",
       "\n",
       "    .dataframe tbody tr th {\n",
       "        vertical-align: top;\n",
       "    }\n",
       "\n",
       "    .dataframe thead th {\n",
       "        text-align: right;\n",
       "    }\n",
       "</style>\n",
       "<table border=\"1\" class=\"dataframe\">\n",
       "  <thead>\n",
       "    <tr style=\"text-align: right;\">\n",
       "      <th></th>\n",
       "      <th>anio</th>\n",
       "      <th>poblacion_total</th>\n",
       "    </tr>\n",
       "    <tr>\n",
       "      <th>provincia</th>\n",
       "      <th></th>\n",
       "      <th></th>\n",
       "    </tr>\n",
       "  </thead>\n",
       "  <tbody>\n",
       "    <tr>\n",
       "      <th>Total País</th>\n",
       "      <td>2010</td>\n",
       "      <td>40788453</td>\n",
       "    </tr>\n",
       "    <tr>\n",
       "      <th>Total País</th>\n",
       "      <td>2011</td>\n",
       "      <td>41261490</td>\n",
       "    </tr>\n",
       "    <tr>\n",
       "      <th>Total País</th>\n",
       "      <td>2012</td>\n",
       "      <td>41733271</td>\n",
       "    </tr>\n",
       "    <tr>\n",
       "      <th>Total País</th>\n",
       "      <td>2013</td>\n",
       "      <td>42202935</td>\n",
       "    </tr>\n",
       "    <tr>\n",
       "      <th>Total País</th>\n",
       "      <td>2014</td>\n",
       "      <td>42669500</td>\n",
       "    </tr>\n",
       "    <tr>\n",
       "      <th>...</th>\n",
       "      <td>...</td>\n",
       "      <td>...</td>\n",
       "    </tr>\n",
       "    <tr>\n",
       "      <th>Tierra del Fuego</th>\n",
       "      <td>2036</td>\n",
       "      <td>241593</td>\n",
       "    </tr>\n",
       "    <tr>\n",
       "      <th>Tierra del Fuego</th>\n",
       "      <td>2037</td>\n",
       "      <td>245734</td>\n",
       "    </tr>\n",
       "    <tr>\n",
       "      <th>Tierra del Fuego</th>\n",
       "      <td>2038</td>\n",
       "      <td>249853</td>\n",
       "    </tr>\n",
       "    <tr>\n",
       "      <th>Tierra del Fuego</th>\n",
       "      <td>2039</td>\n",
       "      <td>253948</td>\n",
       "    </tr>\n",
       "    <tr>\n",
       "      <th>Tierra del Fuego</th>\n",
       "      <td>2040</td>\n",
       "      <td>258020</td>\n",
       "    </tr>\n",
       "  </tbody>\n",
       "</table>\n",
       "<p>775 rows × 2 columns</p>\n",
       "</div>"
      ],
      "text/plain": [
       "                  anio  poblacion_total\n",
       "provincia                              \n",
       "Total País        2010         40788453\n",
       "Total País        2011         41261490\n",
       "Total País        2012         41733271\n",
       "Total País        2013         42202935\n",
       "Total País        2014         42669500\n",
       "...                ...              ...\n",
       "Tierra del Fuego  2036           241593\n",
       "Tierra del Fuego  2037           245734\n",
       "Tierra del Fuego  2038           249853\n",
       "Tierra del Fuego  2039           253948\n",
       "Tierra del Fuego  2040           258020\n",
       "\n",
       "[775 rows x 2 columns]"
      ]
     },
     "execution_count": 25,
     "metadata": {},
     "output_type": "execute_result"
    }
   ],
   "source": [
    "df_pt"
   ]
  },
  {
   "cell_type": "code",
   "execution_count": 26,
   "id": "3ec8e74c-36bc-4d6f-88a8-da87cba4c72c",
   "metadata": {
    "tags": []
   },
   "outputs": [
    {
     "data": {
      "text/plain": [
       "count    7.750000e+02\n",
       "mean     3.777746e+06\n",
       "std      9.560571e+06\n",
       "min      1.316610e+05\n",
       "25%      5.845510e+05\n",
       "50%      1.017731e+06\n",
       "75%      1.855285e+06\n",
       "max      5.277848e+07\n",
       "Name: poblacion_total, dtype: float64"
      ]
     },
     "execution_count": 26,
     "metadata": {},
     "output_type": "execute_result"
    }
   ],
   "source": [
    "df_pt['poblacion_total'].describe()"
   ]
  },
  {
   "cell_type": "code",
   "execution_count": null,
   "id": "e481f65c-83de-4284-9d55-7f6f295050f7",
   "metadata": {},
   "outputs": [],
   "source": []
  },
  {
   "cell_type": "code",
   "execution_count": null,
   "id": "7bfa1ab2-a588-4245-9182-1a6d43616b9b",
   "metadata": {},
   "outputs": [],
   "source": []
  }
 ],
 "metadata": {
  "kernelspec": {
   "display_name": "Python 3 (ipykernel)",
   "language": "python",
   "name": "python3"
  },
  "language_info": {
   "codemirror_mode": {
    "name": "ipython",
    "version": 3
   },
   "file_extension": ".py",
   "mimetype": "text/x-python",
   "name": "python",
   "nbconvert_exporter": "python",
   "pygments_lexer": "ipython3",
   "version": "3.11.5"
  }
 },
 "nbformat": 4,
 "nbformat_minor": 5
}
