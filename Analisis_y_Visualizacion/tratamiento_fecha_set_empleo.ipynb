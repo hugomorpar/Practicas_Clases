{
 "cells": [
  {
   "cell_type": "code",
   "execution_count": 82,
   "id": "aaa4ef0f",
   "metadata": {},
   "outputs": [
    {
     "data": {
      "text/html": [
       "<div>\n",
       "<style scoped>\n",
       "    .dataframe tbody tr th:only-of-type {\n",
       "        vertical-align: middle;\n",
       "    }\n",
       "\n",
       "    .dataframe tbody tr th {\n",
       "        vertical-align: top;\n",
       "    }\n",
       "\n",
       "    .dataframe thead th {\n",
       "        text-align: right;\n",
       "    }\n",
       "</style>\n",
       "<table border=\"1\" class=\"dataframe\">\n",
       "  <thead>\n",
       "    <tr style=\"text-align: right;\">\n",
       "      <th></th>\n",
       "      <th>provincia</th>\n",
       "      <th>anio</th>\n",
       "      <th>mes</th>\n",
       "      <th>empleados_registrados_miles</th>\n",
       "    </tr>\n",
       "  </thead>\n",
       "  <tbody>\n",
       "    <tr>\n",
       "      <th>0</th>\n",
       "      <td>Buenos Aires</td>\n",
       "      <td>2009</td>\n",
       "      <td>ene-09</td>\n",
       "      <td>1787.640</td>\n",
       "    </tr>\n",
       "    <tr>\n",
       "      <th>1</th>\n",
       "      <td>Buenos Aires</td>\n",
       "      <td>2009</td>\n",
       "      <td>feb-09</td>\n",
       "      <td>1769.223</td>\n",
       "    </tr>\n",
       "    <tr>\n",
       "      <th>2</th>\n",
       "      <td>Buenos Aires</td>\n",
       "      <td>2009</td>\n",
       "      <td>mar-09</td>\n",
       "      <td>1745.913</td>\n",
       "    </tr>\n",
       "    <tr>\n",
       "      <th>3</th>\n",
       "      <td>Buenos Aires</td>\n",
       "      <td>2009</td>\n",
       "      <td>abr-09</td>\n",
       "      <td>1729.917</td>\n",
       "    </tr>\n",
       "    <tr>\n",
       "      <th>4</th>\n",
       "      <td>Buenos Aires</td>\n",
       "      <td>2009</td>\n",
       "      <td>may-09</td>\n",
       "      <td>1723.218</td>\n",
       "    </tr>\n",
       "  </tbody>\n",
       "</table>\n",
       "</div>"
      ],
      "text/plain": [
       "      provincia  anio     mes  empleados_registrados_miles\n",
       "0  Buenos Aires  2009  ene-09                     1787.640\n",
       "1  Buenos Aires  2009  feb-09                     1769.223\n",
       "2  Buenos Aires  2009  mar-09                     1745.913\n",
       "3  Buenos Aires  2009  abr-09                     1729.917\n",
       "4  Buenos Aires  2009  may-09                     1723.218"
      ]
     },
     "execution_count": 82,
     "metadata": {},
     "output_type": "execute_result"
    }
   ],
   "source": [
    "import pandas as pd\n",
    "\n",
    "df = pd.read_csv(\"C:/data/empleo.csv\", encoding='latin-1')\n",
    "\n",
    "df.head() "
   ]
  },
  {
   "cell_type": "code",
   "execution_count": 3,
   "id": "85425e4d",
   "metadata": {},
   "outputs": [
    {
     "data": {
      "text/plain": [
       "2009    288\n",
       "2010    288\n",
       "2011    288\n",
       "2012    288\n",
       "2013    288\n",
       "2014    288\n",
       "2015    288\n",
       "2016    288\n",
       "2017    288\n",
       "2018    288\n",
       "2019    288\n",
       "2020    288\n",
       "2021    240\n",
       "Name: anio, dtype: int64"
      ]
     },
     "execution_count": 3,
     "metadata": {},
     "output_type": "execute_result"
    }
   ],
   "source": [
    "df['anio'].value_counts() "
   ]
  },
  {
   "cell_type": "code",
   "execution_count": 4,
   "id": "ccaa523d",
   "metadata": {},
   "outputs": [
    {
     "data": {
      "text/plain": [
       "Buenos Aires           154\n",
       "Capital Federal        154\n",
       "Tierra del Fuego       154\n",
       "Santiago del Estero    154\n",
       "Santa Fe               154\n",
       "Santa Cruz             154\n",
       "San Luis               154\n",
       "San Juan               154\n",
       "Salta                  154\n",
       "Río Negro              154\n",
       "Neuquén                154\n",
       "Misiones               154\n",
       "Mendoza                154\n",
       "La Rioja               154\n",
       "La Pampa               154\n",
       "Jujuy                  154\n",
       "Formosa                154\n",
       "Entre Ríos             154\n",
       "Corrientes             154\n",
       "Córdoba                154\n",
       "Chubut                 154\n",
       "Chaco                  154\n",
       "Catamarca              154\n",
       "Tucumán                154\n",
       "Name: provincia, dtype: int64"
      ]
     },
     "execution_count": 4,
     "metadata": {},
     "output_type": "execute_result"
    }
   ],
   "source": [
    "df['provincia'].value_counts() "
   ]
  },
  {
   "cell_type": "code",
   "execution_count": 85,
   "id": "7183acf0",
   "metadata": {},
   "outputs": [
    {
     "data": {
      "text/plain": [
       "'Spanish_Spain.1252'"
      ]
     },
     "execution_count": 85,
     "metadata": {},
     "output_type": "execute_result"
    }
   ],
   "source": [
    "# se ajusta a formato fecha local \n",
    "import locale\n",
    "locale.setlocale(locale.LC_ALL, 'esp_esp')\n",
    "\n"
   ]
  },
  {
   "cell_type": "code",
   "execution_count": 86,
   "id": "8505e610",
   "metadata": {},
   "outputs": [
    {
     "name": "stdout",
     "output_type": "stream",
     "text": [
      "2008-01-27 00:00:00\n"
     ]
    }
   ],
   "source": [
    "## se importa dateparser \n",
    "## si no está instalado usar \"pip install dateparser\" (preferible desde la consola)\n",
    "import dateparser\n",
    "\n",
    "t= dateparser.parse('ene 2008', date_formats=['/%m/%Y'])\n",
    "\n",
    "print(t)"
   ]
  },
  {
   "cell_type": "code",
   "execution_count": 87,
   "id": "f0fe7c64",
   "metadata": {},
   "outputs": [
    {
     "name": "stdout",
     "output_type": "stream",
     "text": [
      "<class 'pandas.core.frame.DataFrame'>\n",
      "RangeIndex: 3696 entries, 0 to 3695\n",
      "Data columns (total 6 columns):\n",
      " #   Column                       Non-Null Count  Dtype         \n",
      "---  ------                       --------------  -----         \n",
      " 0   provincia                    3696 non-null   object        \n",
      " 1   anio                         3696 non-null   int64         \n",
      " 2   mes                          3696 non-null   object        \n",
      " 3   empleados_registrados_miles  3696 non-null   float64       \n",
      " 4   mes_anio_str                 3696 non-null   object        \n",
      " 5   time                         3696 non-null   datetime64[ns]\n",
      "dtypes: datetime64[ns](1), float64(1), int64(1), object(3)\n",
      "memory usage: 173.4+ KB\n"
     ]
    }
   ],
   "source": [
    "## periodo con año completo y tomando los tres primeros caracteres del mes\n",
    "df['mes_anio_str']= df['mes'].str.slice(0,3)+' '+df['anio'].astype('str')\n",
    "\n",
    "df.info()\n",
    "\n",
    "## se aplica función parse a cada registro \n",
    "\n",
    "\n",
    "df['time']= df['mes_anio_str'].apply(dateparser.parse)\n"
   ]
  },
  {
   "cell_type": "code",
   "execution_count": 88,
   "id": "f6dccb5d",
   "metadata": {},
   "outputs": [
    {
     "name": "stdout",
     "output_type": "stream",
     "text": [
      "<class 'pandas.core.frame.DataFrame'>\n",
      "RangeIndex: 3696 entries, 0 to 3695\n",
      "Data columns (total 6 columns):\n",
      " #   Column                       Non-Null Count  Dtype         \n",
      "---  ------                       --------------  -----         \n",
      " 0   provincia                    3696 non-null   object        \n",
      " 1   anio                         3696 non-null   int64         \n",
      " 2   mes                          3696 non-null   object        \n",
      " 3   empleados_registrados_miles  3696 non-null   float64       \n",
      " 4   mes_anio_str                 3696 non-null   object        \n",
      " 5   time                         3696 non-null   datetime64[ns]\n",
      "dtypes: datetime64[ns](1), float64(1), int64(1), object(3)\n",
      "memory usage: 173.4+ KB\n"
     ]
    },
    {
     "data": {
      "text/html": [
       "<div>\n",
       "<style scoped>\n",
       "    .dataframe tbody tr th:only-of-type {\n",
       "        vertical-align: middle;\n",
       "    }\n",
       "\n",
       "    .dataframe tbody tr th {\n",
       "        vertical-align: top;\n",
       "    }\n",
       "\n",
       "    .dataframe thead th {\n",
       "        text-align: right;\n",
       "    }\n",
       "</style>\n",
       "<table border=\"1\" class=\"dataframe\">\n",
       "  <thead>\n",
       "    <tr style=\"text-align: right;\">\n",
       "      <th></th>\n",
       "      <th>provincia</th>\n",
       "      <th>anio</th>\n",
       "      <th>mes</th>\n",
       "      <th>empleados_registrados_miles</th>\n",
       "      <th>mes_anio_str</th>\n",
       "      <th>time</th>\n",
       "    </tr>\n",
       "  </thead>\n",
       "  <tbody>\n",
       "    <tr>\n",
       "      <th>0</th>\n",
       "      <td>Buenos Aires</td>\n",
       "      <td>2009</td>\n",
       "      <td>ene-09</td>\n",
       "      <td>1787.640</td>\n",
       "      <td>ene 2009</td>\n",
       "      <td>2009-01-27</td>\n",
       "    </tr>\n",
       "    <tr>\n",
       "      <th>1</th>\n",
       "      <td>Buenos Aires</td>\n",
       "      <td>2009</td>\n",
       "      <td>feb-09</td>\n",
       "      <td>1769.223</td>\n",
       "      <td>feb 2009</td>\n",
       "      <td>2009-02-27</td>\n",
       "    </tr>\n",
       "    <tr>\n",
       "      <th>2</th>\n",
       "      <td>Buenos Aires</td>\n",
       "      <td>2009</td>\n",
       "      <td>mar-09</td>\n",
       "      <td>1745.913</td>\n",
       "      <td>mar 2009</td>\n",
       "      <td>2009-03-27</td>\n",
       "    </tr>\n",
       "    <tr>\n",
       "      <th>3</th>\n",
       "      <td>Buenos Aires</td>\n",
       "      <td>2009</td>\n",
       "      <td>abr-09</td>\n",
       "      <td>1729.917</td>\n",
       "      <td>abr 2009</td>\n",
       "      <td>2009-04-27</td>\n",
       "    </tr>\n",
       "    <tr>\n",
       "      <th>4</th>\n",
       "      <td>Buenos Aires</td>\n",
       "      <td>2009</td>\n",
       "      <td>may-09</td>\n",
       "      <td>1723.218</td>\n",
       "      <td>may 2009</td>\n",
       "      <td>2009-05-27</td>\n",
       "    </tr>\n",
       "  </tbody>\n",
       "</table>\n",
       "</div>"
      ],
      "text/plain": [
       "      provincia  anio     mes  empleados_registrados_miles mes_anio_str  \\\n",
       "0  Buenos Aires  2009  ene-09                     1787.640     ene 2009   \n",
       "1  Buenos Aires  2009  feb-09                     1769.223     feb 2009   \n",
       "2  Buenos Aires  2009  mar-09                     1745.913     mar 2009   \n",
       "3  Buenos Aires  2009  abr-09                     1729.917     abr 2009   \n",
       "4  Buenos Aires  2009  may-09                     1723.218     may 2009   \n",
       "\n",
       "        time  \n",
       "0 2009-01-27  \n",
       "1 2009-02-27  \n",
       "2 2009-03-27  \n",
       "3 2009-04-27  \n",
       "4 2009-05-27  "
      ]
     },
     "execution_count": 88,
     "metadata": {},
     "output_type": "execute_result"
    }
   ],
   "source": [
    "## listo \"time\" tiene el periodo (año mes) en formato fecha \n",
    "df.info()\n",
    "\n",
    "df.head()"
   ]
  },
  {
   "cell_type": "code",
   "execution_count": 77,
   "id": "1a161b3c",
   "metadata": {},
   "outputs": [
    {
     "data": {
      "text/plain": [
       "<Axes: xlabel='time'>"
      ]
     },
     "execution_count": 77,
     "metadata": {},
     "output_type": "execute_result"
    },
    {
     "data": {
      "image/png": "[encoded data removed]",
      "text/plain": [
       "<Figure size 640x480 with 1 Axes>"
      ]
     },
     "metadata": {},
     "output_type": "display_data"
    }
   ],
   "source": [
    "### estamos listos para graficar \"empleados_registrados_miles\" como serie temporal \n",
    "## según lo visto en clases \n"
   ]
  },
  {
   "cell_type": "code",
   "execution_count": null,
   "id": "5756ee41",
   "metadata": {},
   "outputs": [],
   "source": []
  }
 ],
 "metadata": {
  "kernelspec": {
   "display_name": "Python 3 (ipykernel)",
   "language": "python",
   "name": "python3"
  },
  "language_info": {
   "codemirror_mode": {
    "name": "ipython",
    "version": 3
   },
   "file_extension": ".py",
   "mimetype": "text/x-python",
   "name": "python",
   "nbconvert_exporter": "python",
   "pygments_lexer": "ipython3",
   "version": "3.11.4"
  }
 },
 "nbformat": 4,
 "nbformat_minor": 5
}
