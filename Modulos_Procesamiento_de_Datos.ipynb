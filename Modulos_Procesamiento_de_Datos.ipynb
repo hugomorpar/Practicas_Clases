{
  "nbformat": 4,
  "nbformat_minor": 0,
  "metadata": {
    "colab": {
      "provenance": [],
      "authorship_tag": "ABX9TyM0rumAeVqCsdhMEow5s+24",
      "include_colab_link": true
    },
    "kernelspec": {
      "name": "python3",
      "display_name": "Python 3"
    },
    "language_info": {
      "name": "python"
    }
  },
  "cells": [
    {
      "cell_type": "markdown",
      "metadata": {
        "id": "view-in-github",
        "colab_type": "text"
      },
      "source": [
        "<a href=\"https://colab.research.google.com/github/hugomorpar/Practicas_Clases/blob/main/Modulos_Procesamiento_de_Datos.ipynb\" target=\"_parent\"><img src=\"https://colab.research.google.com/assets/colab-badge.svg\" alt=\"Open In Colab\"/></a>"
      ]
    },
    {
      "cell_type": "markdown",
      "source": [
        "# Modulo 2"
      ],
      "metadata": {
        "id": "-G8DONfvJVDQ"
      }
    },
    {
      "cell_type": "markdown",
      "source": [
        "## Introduccion a Numpy"
      ],
      "metadata": {
        "id": "_Ezjek4Bhqog"
      }
    },
    {
      "cell_type": "code",
      "execution_count": 88,
      "metadata": {
        "id": "zGXhNfqAIwOQ"
      },
      "outputs": [],
      "source": [
        "import numpy as np"
      ]
    },
    {
      "cell_type": "code",
      "source": [
        "# crea array\n",
        "\n",
        "xs=np.array([3,1,2])\n",
        "print(xs)"
      ],
      "metadata": {
        "colab": {
          "base_uri": "https://localhost:8080/"
        },
        "id": "TcqZHTg3Jik4",
        "outputId": "4f6c7f04-17cc-4b8c-aca7-34b1d8f3ac26"
      },
      "execution_count": 89,
      "outputs": [
        {
          "output_type": "stream",
          "name": "stdout",
          "text": [
            "[3 1 2]\n"
          ]
        }
      ]
    },
    {
      "cell_type": "code",
      "source": [
        "# array o vector unidimensional (unalista dentro del metodo n.array())\n",
        "\n",
        "my_vector=np.array(['este', 'es', 'un', 'vector'])\n",
        "print(my_vector)"
      ],
      "metadata": {
        "colab": {
          "base_uri": "https://localhost:8080/"
        },
        "id": "_r96u0r6KCKP",
        "outputId": "32df9d42-c378-478d-b6c3-fa3135f188d3"
      },
      "execution_count": 90,
      "outputs": [
        {
          "output_type": "stream",
          "name": "stdout",
          "text": [
            "['este' 'es' 'un' 'vector']\n"
          ]
        }
      ]
    },
    {
      "cell_type": "code",
      "source": [
        "# matriz, array bidimensional (una lista de listas dentro del metodo n.array())\n",
        "\n",
        "my_matrix=np.array([[1,2,3],[4,5,6],[7,8,9]])\n",
        "print(my_matrix)"
      ],
      "metadata": {
        "colab": {
          "base_uri": "https://localhost:8080/"
        },
        "id": "0ECVVCAaLcfh",
        "outputId": "f1a3d9ca-fb3d-496c-e97b-5ffadc0dd270"
      },
      "execution_count": 91,
      "outputs": [
        {
          "output_type": "stream",
          "name": "stdout",
          "text": [
            "[[1 2 3]\n",
            " [4 5 6]\n",
            " [7 8 9]]\n"
          ]
        }
      ]
    },
    {
      "cell_type": "code",
      "source": [
        "# arreglos (array)\n",
        "\n",
        "arreglo_1=np.array([3,1,2])\n",
        "arreglo_2=np.array([3, 'hola', 2])\n",
        "arreglo_3=np.array([3,21,1,2])\n",
        "\n",
        "print(arreglo_1)\n",
        "print(arreglo_2)\n",
        "print(arreglo_3)"
      ],
      "metadata": {
        "colab": {
          "base_uri": "https://localhost:8080/"
        },
        "id": "EspODTORMCEC",
        "outputId": "05d5cc58-9498-427d-f3d2-1d182741024a"
      },
      "execution_count": 92,
      "outputs": [
        {
          "output_type": "stream",
          "name": "stdout",
          "text": [
            "[3 1 2]\n",
            "['3' 'hola' '2']\n",
            "[ 3 21  1  2]\n"
          ]
        }
      ]
    },
    {
      "cell_type": "code",
      "source": [
        "# array de 0 con dimension 5\n",
        "\n",
        "a=np.zeros(5)\n",
        "print(a)"
      ],
      "metadata": {
        "colab": {
          "base_uri": "https://localhost:8080/"
        },
        "id": "N-wSgLlgOSJ9",
        "outputId": "7d945b8a-1c5a-4516-eed6-b8433c2d84d6"
      },
      "execution_count": 93,
      "outputs": [
        {
          "output_type": "stream",
          "name": "stdout",
          "text": [
            "[0. 0. 0. 0. 0.]\n"
          ]
        }
      ]
    },
    {
      "cell_type": "code",
      "source": [
        "# array de 1 con dimension 5\n",
        "\n",
        "b=np.ones(2)\n",
        "print(a)"
      ],
      "metadata": {
        "colab": {
          "base_uri": "https://localhost:8080/"
        },
        "id": "vpmcGExmO6xl",
        "outputId": "a48e60c9-d22e-4e2b-91ff-e96929421d56"
      },
      "execution_count": 94,
      "outputs": [
        {
          "output_type": "stream",
          "name": "stdout",
          "text": [
            "[0. 0. 0. 0. 0.]\n"
          ]
        }
      ]
    },
    {
      "cell_type": "code",
      "source": [
        "# array full (dimension, valor)\n",
        "\n",
        "c=np.full(2, 7)\n",
        "print(c)"
      ],
      "metadata": {
        "colab": {
          "base_uri": "https://localhost:8080/"
        },
        "id": "f5N0luVMPS12",
        "outputId": "2416d798-647e-4828-eab3-308d24b72663"
      },
      "execution_count": 95,
      "outputs": [
        {
          "output_type": "stream",
          "name": "stdout",
          "text": [
            "[7 7]\n"
          ]
        }
      ]
    },
    {
      "cell_type": "code",
      "source": [
        "# array random (dimension, random)\n",
        "\n",
        "d=np.random.random(5)\n",
        "print(d)"
      ],
      "metadata": {
        "colab": {
          "base_uri": "https://localhost:8080/"
        },
        "id": "gnQGg1-zPolF",
        "outputId": "ccf26ae4-67d4-4dbb-fce5-e2a37ac405b3"
      },
      "execution_count": 96,
      "outputs": [
        {
          "output_type": "stream",
          "name": "stdout",
          "text": [
            "[0.48470376 0.92820467 0.36033542 0.06500176 0.10722757]\n"
          ]
        }
      ]
    },
    {
      "cell_type": "code",
      "source": [
        "# atributos del arreglo\n",
        "\n",
        "x=np.random.randint(10, size=5) #array de 1 dimension, valores de 0 a 9, 5 datos\n",
        "print(x)\n",
        "print(\"x ndim:\", x.ndim)\n",
        "print(\"x shape:\", x.shape)\n",
        "print(\"x size:\", x.size)\n",
        "print(\"x dtype\", x.dtype)"
      ],
      "metadata": {
        "colab": {
          "base_uri": "https://localhost:8080/"
        },
        "id": "zmfMc-Y3QDpF",
        "outputId": "76af299e-3f7d-43ad-bcd5-2cd7f14e46f1"
      },
      "execution_count": 97,
      "outputs": [
        {
          "output_type": "stream",
          "name": "stdout",
          "text": [
            "[1 0 3 8 8]\n",
            "x ndim: 1\n",
            "x shape: (5,)\n",
            "x size: 5\n",
            "x dtype int64\n"
          ]
        }
      ]
    },
    {
      "cell_type": "code",
      "source": [
        "# indexacion de arreglos. print(x[ubicacion])\n",
        "\n",
        "print(x)\n",
        "\n",
        "print(x[0])\n",
        "print(x[4])\n",
        "print(x[-1])\n",
        "print(x[-2])"
      ],
      "metadata": {
        "colab": {
          "base_uri": "https://localhost:8080/"
        },
        "id": "hl2Vsw_1Q2uP",
        "outputId": "36e1a37e-f793-454c-8bb2-80c49eafde8d"
      },
      "execution_count": 98,
      "outputs": [
        {
          "output_type": "stream",
          "name": "stdout",
          "text": [
            "[1 0 3 8 8]\n",
            "1\n",
            "8\n",
            "8\n",
            "8\n"
          ]
        }
      ]
    },
    {
      "cell_type": "code",
      "source": [
        "# segmentacion de arreglos\n",
        "# parte desde cero y corta en n-1\n",
        "\n",
        "x1=np.random.randint(10, size=8) #array de 1 dimension, valores de 0 a 9, 8 datos\n",
        "print(x1)\n",
        "\n",
        "print(x1[3:]) #array desde la ubicacion 3\n",
        "\n",
        "print(x1[:3]) #array hasta la ubicacion 3\n",
        "\n",
        "print(x1[2:4]) #array desde la ubicacion 2 hasta la 4"
      ],
      "metadata": {
        "colab": {
          "base_uri": "https://localhost:8080/"
        },
        "id": "fHhVNmqaR-uW",
        "outputId": "5c64e5c0-3359-4bed-934c-c5a7f1f41c72"
      },
      "execution_count": 99,
      "outputs": [
        {
          "output_type": "stream",
          "name": "stdout",
          "text": [
            "[0 8 4 7 3 1 7 7]\n",
            "[7 3 1 7 7]\n",
            "[0 8 4]\n",
            "[4 7]\n"
          ]
        }
      ]
    },
    {
      "cell_type": "code",
      "source": [
        "# segmentacion de arreglos\n",
        "# parte desde cero y corta en n-1\n",
        "\n",
        "y=np.random.randint(10, size=8) #array de 1 dimension, valores de 0 a 9, 8 datos\n",
        "print(y)\n",
        "\n",
        "y1=y[0:2] # nuevo array desde la ubicacion 0 a 2\n",
        "print(y1)\n",
        "\n",
        "y1[0]=12 # cambia valor de ubicacion 0 por 12\n",
        "print(y1)\n",
        "\n",
        "print(y) # tambien afecta al array original"
      ],
      "metadata": {
        "colab": {
          "base_uri": "https://localhost:8080/"
        },
        "id": "FIQWSLUKUXMt",
        "outputId": "a9e0675b-1570-4395-e412-ae1590ac3031"
      },
      "execution_count": 100,
      "outputs": [
        {
          "output_type": "stream",
          "name": "stdout",
          "text": [
            "[4 8 5 6 7 9 2 1]\n",
            "[4 8]\n",
            "[12  8]\n",
            "[12  8  5  6  7  9  2  1]\n"
          ]
        }
      ]
    },
    {
      "cell_type": "code",
      "source": [
        "# segmentacion de arreglos\n",
        "# parte desde cero y corta en n-1\n",
        "\n",
        "y=np.random.randint(10, size=8) #array de 1 dimension, valores de 0 a 9, 8 datos\n",
        "print(y)\n",
        "\n",
        "y1=y[0:2].copy() # COPIA array y en y1 desde la ubicacion 0 a 2\n",
        "print(y1)\n",
        "\n",
        "y1[0]=12 # cambia valor de ubicacion 0 por 12\n",
        "print(y1)\n",
        "\n",
        "print(y) # NO afecta al array original"
      ],
      "metadata": {
        "colab": {
          "base_uri": "https://localhost:8080/"
        },
        "id": "fKvn9gGcbOGA",
        "outputId": "bda73df2-fffe-423a-f645-4d435ec88ee9"
      },
      "execution_count": 101,
      "outputs": [
        {
          "output_type": "stream",
          "name": "stdout",
          "text": [
            "[3 2 6 0 0 9 9 9]\n",
            "[3 2]\n",
            "[12  2]\n",
            "[3 2 6 0 0 9 9 9]\n"
          ]
        }
      ]
    },
    {
      "cell_type": "code",
      "source": [
        "# concatenacion de arreglos\n",
        "\n",
        "x=np.array([1,2,3])\n",
        "y=np.array([3,2,1])\n",
        "\n",
        "np.concatenate([x,y])"
      ],
      "metadata": {
        "colab": {
          "base_uri": "https://localhost:8080/"
        },
        "id": "uI3EprOxcYgz",
        "outputId": "a52ea06f-df3c-4373-dafe-321de12b03bc"
      },
      "execution_count": 104,
      "outputs": [
        {
          "output_type": "execute_result",
          "data": {
            "text/plain": [
              "array([1, 2, 3, 3, 2, 1])"
            ]
          },
          "metadata": {},
          "execution_count": 104
        }
      ]
    },
    {
      "cell_type": "code",
      "source": [
        "# division de arreglos\n",
        "\n",
        "x=np.array([1,2,3,99,99,3,2,1])\n",
        "print(x)\n",
        "x1,x2,x3=np.split(x,[3,5]) # divide array x en x1(0-3),x2(3-5),x3(resto).\n",
        "print(x1, x2, x3)"
      ],
      "metadata": {
        "colab": {
          "base_uri": "https://localhost:8080/"
        },
        "id": "ETykGln1dUpL",
        "outputId": "15af063f-78be-4887-886f-d3a9b2bdb2be"
      },
      "execution_count": 111,
      "outputs": [
        {
          "output_type": "stream",
          "name": "stdout",
          "text": [
            "[ 1  2  3 99 99  3  2  1]\n",
            "[1 2 3] [99 99] [3 2 1]\n"
          ]
        }
      ]
    },
    {
      "cell_type": "code",
      "source": [
        "# agregar elementos al array\n",
        "\n",
        "a=np.array([1,2,3,4,5,6])\n",
        "print(a)\n",
        "\n",
        "b=np.append(a,[7]) # agregar valor 7 al array a\n",
        "print(b)"
      ],
      "metadata": {
        "colab": {
          "base_uri": "https://localhost:8080/"
        },
        "id": "bqjWwVybeA5V",
        "outputId": "4eab1e98-e205-471e-80a7-230bd976d0e7"
      },
      "execution_count": 113,
      "outputs": [
        {
          "output_type": "stream",
          "name": "stdout",
          "text": [
            "[1 2 3 4 5 6]\n",
            "[1 2 3 4 5 6 7]\n"
          ]
        }
      ]
    },
    {
      "cell_type": "markdown",
      "source": [
        "## Aritmetica de arreglos (array)"
      ],
      "metadata": {
        "id": "Wxezpxv3hOH9"
      }
    },
    {
      "cell_type": "code",
      "source": [],
      "metadata": {
        "id": "qWvGTGLJgViM"
      },
      "execution_count": null,
      "outputs": []
    }
  ]
}